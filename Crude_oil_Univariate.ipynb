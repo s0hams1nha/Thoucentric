{
 "cells": [
  {
   "cell_type": "code",
   "execution_count": 1,
   "metadata": {},
   "outputs": [],
   "source": [
    "import tensorflow as tf\n",
    "import pandas as pd\n",
    "import numpy as np\n",
    "import matplotlib.pyplot as plt\n",
    "import os"
   ]
  },
  {
   "cell_type": "code",
   "execution_count": 2,
   "metadata": {},
   "outputs": [],
   "source": [
    "os.chdir('C:\\\\Users\\\\Hp\\\\OneDrive\\\\Documents\\\\GitHub\\\\Thoucentric\\\\DataSets')"
   ]
  },
  {
   "cell_type": "code",
   "execution_count": 3,
   "metadata": {},
   "outputs": [
    {
     "data": {
      "text/html": [
       "<div>\n",
       "<style scoped>\n",
       "    .dataframe tbody tr th:only-of-type {\n",
       "        vertical-align: middle;\n",
       "    }\n",
       "\n",
       "    .dataframe tbody tr th {\n",
       "        vertical-align: top;\n",
       "    }\n",
       "\n",
       "    .dataframe thead th {\n",
       "        text-align: right;\n",
       "    }\n",
       "</style>\n",
       "<table border=\"1\" class=\"dataframe\">\n",
       "  <thead>\n",
       "    <tr style=\"text-align: right;\">\n",
       "      <th></th>\n",
       "      <th>date</th>\n",
       "      <th>cr_low</th>\n",
       "    </tr>\n",
       "  </thead>\n",
       "  <tbody>\n",
       "    <tr>\n",
       "      <th>0</th>\n",
       "      <td>2015-01-02T00:00:00.000Z</td>\n",
       "      <td>55.48</td>\n",
       "    </tr>\n",
       "    <tr>\n",
       "      <th>1</th>\n",
       "      <td>2015-01-05T00:00:00.000Z</td>\n",
       "      <td>52.66</td>\n",
       "    </tr>\n",
       "    <tr>\n",
       "      <th>2</th>\n",
       "      <td>2015-01-06T00:00:00.000Z</td>\n",
       "      <td>50.52</td>\n",
       "    </tr>\n",
       "    <tr>\n",
       "      <th>3</th>\n",
       "      <td>2015-01-07T00:00:00.000Z</td>\n",
       "      <td>49.66</td>\n",
       "    </tr>\n",
       "    <tr>\n",
       "      <th>4</th>\n",
       "      <td>2015-01-08T00:00:00.000Z</td>\n",
       "      <td>49.81</td>\n",
       "    </tr>\n",
       "  </tbody>\n",
       "</table>\n",
       "</div>"
      ],
      "text/plain": [
       "                       date  cr_low\n",
       "0  2015-01-02T00:00:00.000Z   55.48\n",
       "1  2015-01-05T00:00:00.000Z   52.66\n",
       "2  2015-01-06T00:00:00.000Z   50.52\n",
       "3  2015-01-07T00:00:00.000Z   49.66\n",
       "4  2015-01-08T00:00:00.000Z   49.81"
      ]
     },
     "execution_count": 3,
     "metadata": {},
     "output_type": "execute_result"
    }
   ],
   "source": [
    "df=pd.read_csv('crude_low.csv')\n",
    "df.head()"
   ]
  },
  {
   "cell_type": "code",
   "execution_count": 4,
   "metadata": {},
   "outputs": [
    {
     "data": {
      "text/html": [
       "<div>\n",
       "<style scoped>\n",
       "    .dataframe tbody tr th:only-of-type {\n",
       "        vertical-align: middle;\n",
       "    }\n",
       "\n",
       "    .dataframe tbody tr th {\n",
       "        vertical-align: top;\n",
       "    }\n",
       "\n",
       "    .dataframe thead th {\n",
       "        text-align: right;\n",
       "    }\n",
       "</style>\n",
       "<table border=\"1\" class=\"dataframe\">\n",
       "  <thead>\n",
       "    <tr style=\"text-align: right;\">\n",
       "      <th></th>\n",
       "      <th>cr_low</th>\n",
       "    </tr>\n",
       "    <tr>\n",
       "      <th>date</th>\n",
       "      <th></th>\n",
       "    </tr>\n",
       "  </thead>\n",
       "  <tbody>\n",
       "    <tr>\n",
       "      <th>2015-01-02 00:00:00+00:00</th>\n",
       "      <td>55.48</td>\n",
       "    </tr>\n",
       "    <tr>\n",
       "      <th>2015-01-05 00:00:00+00:00</th>\n",
       "      <td>52.66</td>\n",
       "    </tr>\n",
       "    <tr>\n",
       "      <th>2015-01-06 00:00:00+00:00</th>\n",
       "      <td>50.52</td>\n",
       "    </tr>\n",
       "    <tr>\n",
       "      <th>2015-01-07 00:00:00+00:00</th>\n",
       "      <td>49.66</td>\n",
       "    </tr>\n",
       "    <tr>\n",
       "      <th>2015-01-08 00:00:00+00:00</th>\n",
       "      <td>49.81</td>\n",
       "    </tr>\n",
       "  </tbody>\n",
       "</table>\n",
       "</div>"
      ],
      "text/plain": [
       "                           cr_low\n",
       "date                             \n",
       "2015-01-02 00:00:00+00:00   55.48\n",
       "2015-01-05 00:00:00+00:00   52.66\n",
       "2015-01-06 00:00:00+00:00   50.52\n",
       "2015-01-07 00:00:00+00:00   49.66\n",
       "2015-01-08 00:00:00+00:00   49.81"
      ]
     },
     "execution_count": 4,
     "metadata": {},
     "output_type": "execute_result"
    }
   ],
   "source": [
    "df.index=pd.to_datetime(df['date'], format='ISO8601')\n",
    "df=df.drop(columns=['date'])\n",
    "df.head()"
   ]
  },
  {
   "cell_type": "code",
   "execution_count": 5,
   "metadata": {},
   "outputs": [],
   "source": [
    "def df_to_X_y(df, window_size):\n",
    "  df_as_np = df.to_numpy()\n",
    "  X = []\n",
    "  y = []\n",
    "  for i in range(len(df_as_np)-window_size):\n",
    "    row = [[a] for a in df_as_np[i:i+window_size]]\n",
    "    X.append(row)\n",
    "    label = df_as_np[i+window_size]\n",
    "    y.append(label)\n",
    "  return np.array(X), np.array(y)"
   ]
  },
  {
   "cell_type": "code",
   "execution_count": 6,
   "metadata": {},
   "outputs": [
    {
     "data": {
      "text/plain": [
       "array([[59.08],\n",
       "       [60.71],\n",
       "       [60.27],\n",
       "       ...,\n",
       "       [83.66],\n",
       "       [84.89],\n",
       "       [84.84]])"
      ]
     },
     "execution_count": 6,
     "metadata": {},
     "output_type": "execute_result"
    }
   ],
   "source": [
    "windowsize=30\n",
    "X, y= df_to_X_y(df, windowsize)\n",
    "y"
   ]
  },
  {
   "cell_type": "code",
   "execution_count": 7,
   "metadata": {},
   "outputs": [
    {
     "data": {
      "text/plain": [
       "((2300, 30, 1), (2300, 1))"
      ]
     },
     "execution_count": 7,
     "metadata": {},
     "output_type": "execute_result"
    }
   ],
   "source": [
    "X=X.reshape(X.shape[0], X.shape[1], -1)\n",
    "X.shape, y.shape"
   ]
  },
  {
   "cell_type": "code",
   "execution_count": 8,
   "metadata": {},
   "outputs": [
    {
     "data": {
      "text/plain": [
       "((2300, 30, 1), (2300, 1), (0, 30, 1), (0, 1), (0, 30, 1), (0, 1))"
      ]
     },
     "execution_count": 8,
     "metadata": {},
     "output_type": "execute_result"
    }
   ],
   "source": [
    "X_train, y_train = X[:4000], y[:4000]\n",
    "X_val, y_val = X[4000:4150], y[4000:4150]\n",
    "X_test, y_test = X[4150:], y[4150:]\n",
    "X_train.shape, y_train.shape, X_val.shape, y_val.shape, X_test.shape, y_test.shape"
   ]
  },
  {
   "cell_type": "code",
   "execution_count": 9,
   "metadata": {},
   "outputs": [],
   "source": [
    "from keras.models import Sequential\n",
    "from keras.layers import *\n",
    "from keras.losses import MeanSquaredError\n",
    "from keras.metrics import RootMeanSquaredError\n",
    "from keras.optimizers import Adam"
   ]
  },
  {
   "cell_type": "code",
   "execution_count": 10,
   "metadata": {},
   "outputs": [
    {
     "name": "stdout",
     "output_type": "stream",
     "text": [
      "Model: \"sequential\"\n",
      "_________________________________________________________________\n",
      " Layer (type)                Output Shape              Param #   \n",
      "=================================================================\n",
      " lstm (LSTM)                 (None, 64)                16896     \n",
      "                                                                 \n",
      " dense (Dense)               (None, 8)                 520       \n",
      "                                                                 \n",
      " dense_1 (Dense)             (None, 1)                 9         \n",
      "                                                                 \n",
      "=================================================================\n",
      "Total params: 17,425\n",
      "Trainable params: 17,425\n",
      "Non-trainable params: 0\n",
      "_________________________________________________________________\n"
     ]
    }
   ],
   "source": [
    "model = Sequential()\n",
    "model.add(InputLayer((windowsize, X_train.shape[2]))) \n",
    "model.add(LSTM(64))\n",
    "model.add(Dense(8, activation='relu'))\n",
    "model.add(Dense(y_train.shape[1], activation='linear'))\n",
    "model.summary()"
   ]
  },
  {
   "cell_type": "code",
   "execution_count": 14,
   "metadata": {},
   "outputs": [
    {
     "name": "stdout",
     "output_type": "stream",
     "text": [
      "Epoch 1/40\n",
      "72/72 [==============================] - 3s 15ms/step - loss: 23.9430 - root_mean_squared_error: 4.8932\n",
      "Epoch 2/40\n",
      "72/72 [==============================] - 1s 14ms/step - loss: 2.5038 - root_mean_squared_error: 1.5823\n",
      "Epoch 3/40\n",
      "72/72 [==============================] - 1s 14ms/step - loss: 2.2129 - root_mean_squared_error: 1.4876\n",
      "Epoch 4/40\n",
      "72/72 [==============================] - 1s 14ms/step - loss: 2.7955 - root_mean_squared_error: 1.6720\n",
      "Epoch 5/40\n",
      "72/72 [==============================] - 1s 14ms/step - loss: 2.4917 - root_mean_squared_error: 1.5785\n",
      "Epoch 6/40\n",
      "72/72 [==============================] - 1s 17ms/step - loss: 2.3064 - root_mean_squared_error: 1.5187\n",
      "Epoch 7/40\n",
      "72/72 [==============================] - 1s 17ms/step - loss: 2.2376 - root_mean_squared_error: 1.4959\n",
      "Epoch 8/40\n",
      "72/72 [==============================] - 1s 17ms/step - loss: 2.6553 - root_mean_squared_error: 1.6295\n",
      "Epoch 9/40\n",
      "72/72 [==============================] - 1s 17ms/step - loss: 2.4696 - root_mean_squared_error: 1.5715\n",
      "Epoch 10/40\n",
      "72/72 [==============================] - 1s 17ms/step - loss: 2.3461 - root_mean_squared_error: 1.5317\n",
      "Epoch 11/40\n",
      "72/72 [==============================] - 1s 16ms/step - loss: 2.3662 - root_mean_squared_error: 1.5382\n",
      "Epoch 12/40\n",
      "72/72 [==============================] - 1s 16ms/step - loss: 3.3541 - root_mean_squared_error: 1.8314\n",
      "Epoch 13/40\n",
      "72/72 [==============================] - 1s 17ms/step - loss: 3.1820 - root_mean_squared_error: 1.7838\n",
      "Epoch 14/40\n",
      "72/72 [==============================] - 1s 19ms/step - loss: 2.9600 - root_mean_squared_error: 1.7205\n",
      "Epoch 15/40\n",
      "72/72 [==============================] - 1s 17ms/step - loss: 2.2622 - root_mean_squared_error: 1.5041\n",
      "Epoch 16/40\n",
      "72/72 [==============================] - 1s 16ms/step - loss: 2.2577 - root_mean_squared_error: 1.5026\n",
      "Epoch 17/40\n",
      "72/72 [==============================] - 1s 17ms/step - loss: 2.4317 - root_mean_squared_error: 1.5594\n",
      "Epoch 18/40\n",
      "72/72 [==============================] - 1s 17ms/step - loss: 2.7468 - root_mean_squared_error: 1.6574\n",
      "Epoch 19/40\n",
      "72/72 [==============================] - 1s 18ms/step - loss: 2.1428 - root_mean_squared_error: 1.4638\n",
      "Epoch 20/40\n",
      "72/72 [==============================] - 1s 17ms/step - loss: 2.8623 - root_mean_squared_error: 1.6918\n",
      "Epoch 21/40\n",
      "72/72 [==============================] - 1s 17ms/step - loss: 2.5954 - root_mean_squared_error: 1.6110\n",
      "Epoch 22/40\n",
      "72/72 [==============================] - 1s 15ms/step - loss: 2.6892 - root_mean_squared_error: 1.6399\n",
      "Epoch 23/40\n",
      "72/72 [==============================] - 1s 15ms/step - loss: 2.3816 - root_mean_squared_error: 1.5432\n",
      "Epoch 24/40\n",
      "72/72 [==============================] - 1s 18ms/step - loss: 2.6987 - root_mean_squared_error: 1.6428\n",
      "Epoch 25/40\n",
      "72/72 [==============================] - 2s 22ms/step - loss: 2.5747 - root_mean_squared_error: 1.6046\n",
      "Epoch 26/40\n",
      "72/72 [==============================] - 1s 18ms/step - loss: 2.5547 - root_mean_squared_error: 1.5984\n",
      "Epoch 27/40\n",
      "72/72 [==============================] - 1s 17ms/step - loss: 2.3735 - root_mean_squared_error: 1.5406\n",
      "Epoch 28/40\n",
      "72/72 [==============================] - 1s 18ms/step - loss: 2.3406 - root_mean_squared_error: 1.5299\n",
      "Epoch 29/40\n",
      "72/72 [==============================] - 1s 17ms/step - loss: 2.7602 - root_mean_squared_error: 1.6614\n",
      "Epoch 30/40\n",
      "72/72 [==============================] - 1s 16ms/step - loss: 2.6103 - root_mean_squared_error: 1.6156\n",
      "Epoch 31/40\n",
      "72/72 [==============================] - 1s 19ms/step - loss: 2.3885 - root_mean_squared_error: 1.5455\n",
      "Epoch 32/40\n",
      "72/72 [==============================] - 1s 19ms/step - loss: 2.4720 - root_mean_squared_error: 1.5722\n",
      "Epoch 33/40\n",
      "72/72 [==============================] - 1s 17ms/step - loss: 2.3463 - root_mean_squared_error: 1.5318\n",
      "Epoch 34/40\n",
      "72/72 [==============================] - 1s 15ms/step - loss: 2.4431 - root_mean_squared_error: 1.5631\n",
      "Epoch 35/40\n",
      "72/72 [==============================] - 1s 17ms/step - loss: 2.3986 - root_mean_squared_error: 1.5487\n",
      "Epoch 36/40\n",
      "72/72 [==============================] - 1s 16ms/step - loss: 2.6181 - root_mean_squared_error: 1.6181\n",
      "Epoch 37/40\n",
      "72/72 [==============================] - 1s 16ms/step - loss: 2.5555 - root_mean_squared_error: 1.5986\n",
      "Epoch 38/40\n",
      "72/72 [==============================] - 1s 16ms/step - loss: 2.7448 - root_mean_squared_error: 1.6567\n",
      "Epoch 39/40\n",
      "72/72 [==============================] - 1s 15ms/step - loss: 3.0676 - root_mean_squared_error: 1.7515\n",
      "Epoch 40/40\n",
      "72/72 [==============================] - 1s 15ms/step - loss: 2.5509 - root_mean_squared_error: 1.5971\n"
     ]
    },
    {
     "data": {
      "text/plain": [
       "<keras.callbacks.History at 0x1e5d482d0a0>"
      ]
     },
     "execution_count": 14,
     "metadata": {},
     "output_type": "execute_result"
    }
   ],
   "source": [
    "model.compile(loss=MeanSquaredError(), optimizer=Adam(learning_rate=0.007), metrics=[RootMeanSquaredError()])\n",
    "model.fit(X_train, y_train, validation_data=(X_val, y_val), epochs=40)"
   ]
  },
  {
   "cell_type": "code",
   "execution_count": null,
   "metadata": {},
   "outputs": [
    {
     "name": "stdout",
     "output_type": "stream",
     "text": [
      "72/72 [==============================] - 1s 3ms/step\n"
     ]
    },
    {
     "data": {
      "text/html": [
       "<div>\n",
       "<style scoped>\n",
       "    .dataframe tbody tr th:only-of-type {\n",
       "        vertical-align: middle;\n",
       "    }\n",
       "\n",
       "    .dataframe tbody tr th {\n",
       "        vertical-align: top;\n",
       "    }\n",
       "\n",
       "    .dataframe thead th {\n",
       "        text-align: right;\n",
       "    }\n",
       "</style>\n",
       "<table border=\"1\" class=\"dataframe\">\n",
       "  <thead>\n",
       "    <tr style=\"text-align: right;\">\n",
       "      <th></th>\n",
       "      <th>Train Predictions</th>\n",
       "      <th>Actuals</th>\n",
       "    </tr>\n",
       "  </thead>\n",
       "  <tbody>\n",
       "    <tr>\n",
       "      <th>0</th>\n",
       "      <td>54.915779</td>\n",
       "      <td>59.08</td>\n",
       "    </tr>\n",
       "    <tr>\n",
       "      <th>1</th>\n",
       "      <td>57.304424</td>\n",
       "      <td>60.71</td>\n",
       "    </tr>\n",
       "    <tr>\n",
       "      <th>2</th>\n",
       "      <td>59.050716</td>\n",
       "      <td>60.27</td>\n",
       "    </tr>\n",
       "    <tr>\n",
       "      <th>3</th>\n",
       "      <td>59.794273</td>\n",
       "      <td>59.25</td>\n",
       "    </tr>\n",
       "    <tr>\n",
       "      <th>4</th>\n",
       "      <td>59.756317</td>\n",
       "      <td>57.80</td>\n",
       "    </tr>\n",
       "    <tr>\n",
       "      <th>...</th>\n",
       "      <td>...</td>\n",
       "      <td>...</td>\n",
       "    </tr>\n",
       "    <tr>\n",
       "      <th>2295</th>\n",
       "      <td>80.278481</td>\n",
       "      <td>82.11</td>\n",
       "    </tr>\n",
       "    <tr>\n",
       "      <th>2296</th>\n",
       "      <td>80.359840</td>\n",
       "      <td>83.66</td>\n",
       "    </tr>\n",
       "    <tr>\n",
       "      <th>2297</th>\n",
       "      <td>80.513634</td>\n",
       "      <td>83.66</td>\n",
       "    </tr>\n",
       "    <tr>\n",
       "      <th>2298</th>\n",
       "      <td>80.610191</td>\n",
       "      <td>84.89</td>\n",
       "    </tr>\n",
       "    <tr>\n",
       "      <th>2299</th>\n",
       "      <td>80.727142</td>\n",
       "      <td>84.84</td>\n",
       "    </tr>\n",
       "  </tbody>\n",
       "</table>\n",
       "<p>2300 rows × 2 columns</p>\n",
       "</div>"
      ],
      "text/plain": [
       "      Train Predictions  Actuals\n",
       "0             54.915779    59.08\n",
       "1             57.304424    60.71\n",
       "2             59.050716    60.27\n",
       "3             59.794273    59.25\n",
       "4             59.756317    57.80\n",
       "...                 ...      ...\n",
       "2295          80.278481    82.11\n",
       "2296          80.359840    83.66\n",
       "2297          80.513634    83.66\n",
       "2298          80.610191    84.89\n",
       "2299          80.727142    84.84\n",
       "\n",
       "[2300 rows x 2 columns]"
      ]
     },
     "execution_count": 23,
     "metadata": {},
     "output_type": "execute_result"
    }
   ],
   "source": [
    "train_predictions= model.predict(X_train).flatten()\n",
    "y_train1=y_train.flatten()\n",
    "train_results=pd.DataFrame(data={'Train Predictions': train_predictions, 'Actuals': y_train1})\n",
    "train_results"
   ]
  },
  {
   "cell_type": "code",
   "execution_count": null,
   "metadata": {},
   "outputs": [
    {
     "data": {
      "text/plain": [
       "[<matplotlib.lines.Line2D at 0x225e2da18b0>]"
      ]
     },
     "execution_count": 26,
     "metadata": {},
     "output_type": "execute_result"
    },
    {
     "data": {
      "image/png": "[encoded data removed]",
      "text/plain": [
       "<Figure size 640x480 with 1 Axes>"
      ]
     },
     "metadata": {},
     "output_type": "display_data"
    }
   ],
   "source": [
    "plt.plot(train_results['Train Predictions'][:150], color='red')\n",
    "plt.plot(train_results['Actuals'][:150], color='lightblue')"
   ]
  },
  {
   "cell_type": "code",
   "execution_count": null,
   "metadata": {},
   "outputs": [],
   "source": []
  }
 ],
 "metadata": {
  "kernelspec": {
   "display_name": "aiml",
   "language": "python",
   "name": "python3"
  },
  "language_info": {
   "codemirror_mode": {
    "name": "ipython",
    "version": 3
   },
   "file_extension": ".py",
   "mimetype": "text/x-python",
   "name": "python",
   "nbconvert_exporter": "python",
   "pygments_lexer": "ipython3",
   "version": "3.9.18"
  }
 },
 "nbformat": 4,
 "nbformat_minor": 2
}
