{
 "cells": [
  {
   "cell_type": "code",
   "execution_count": 1,
   "metadata": {},
   "outputs": [],
   "source": [
    "import pandas as pd\n",
    "import numpy as np\n",
    "import matplotlib.pyplot as plt\n",
    "import seaborn as sns\n",
    "import tensorflow as tf\n",
    "import os\n",
    "from sklearn.preprocessing import StandardScaler\n",
    "from sklearn.metrics import *\n",
    "from keras.models import Sequential\n",
    "from keras.layers import *\n",
    "from keras.losses import MeanSquaredError\n",
    "from keras.metrics import RootMeanSquaredError\n",
    "from keras.optimizers import Adam"
   ]
  },
  {
   "cell_type": "code",
   "execution_count": 2,
   "metadata": {},
   "outputs": [],
   "source": [
    "os.chdir('C:\\\\Users\\\\Hp\\\\OneDrive\\\\Documents\\\\GitHub\\\\Thoucentric\\\\DataSets')"
   ]
  },
  {
   "cell_type": "code",
   "execution_count": 3,
   "metadata": {},
   "outputs": [],
   "source": [
    "cr_1=pd.read_csv('crude_close.csv')\n",
    "cr_2=pd.read_csv('crude_open.csv')\n",
    "cr_3=pd.read_csv('crude_low.csv')\n",
    "cr_4=pd.read_csv('crude_high.csv')\n",
    "cr_merged_1 = pd.merge(cr_1, cr_2, on='date')\n",
    "cr_merged_2 = pd.merge(cr_merged_1, cr_3, on='date')\n",
    "cr = pd.merge(cr_merged_2, cr_4, on='date')"
   ]
  },
  {
   "cell_type": "markdown",
   "metadata": {},
   "source": [
    "Merge function combines dataframes with a parameter 'on' which defines the basis for the merge. Here we are merging on the basis of date which means that the final dataframe would have all rows having common dates. There are multiple ways of merging but the default is intersection of the dataframes."
   ]
  },
  {
   "cell_type": "code",
   "execution_count": 4,
   "metadata": {},
   "outputs": [
    {
     "data": {
      "text/html": [
       "<div>\n",
       "<style scoped>\n",
       "    .dataframe tbody tr th:only-of-type {\n",
       "        vertical-align: middle;\n",
       "    }\n",
       "\n",
       "    .dataframe tbody tr th {\n",
       "        vertical-align: top;\n",
       "    }\n",
       "\n",
       "    .dataframe thead th {\n",
       "        text-align: right;\n",
       "    }\n",
       "</style>\n",
       "<table border=\"1\" class=\"dataframe\">\n",
       "  <thead>\n",
       "    <tr style=\"text-align: right;\">\n",
       "      <th></th>\n",
       "      <th>date</th>\n",
       "      <th>low</th>\n",
       "      <th>high</th>\n",
       "      <th>close</th>\n",
       "      <th>open</th>\n",
       "      <th>cr_close</th>\n",
       "      <th>cr_open</th>\n",
       "      <th>cr_low</th>\n",
       "      <th>cr_high</th>\n",
       "    </tr>\n",
       "  </thead>\n",
       "  <tbody>\n",
       "    <tr>\n",
       "      <th>0</th>\n",
       "      <td>2017-01-03T00:00:00.000Z</td>\n",
       "      <td>19.58</td>\n",
       "      <td>20.55</td>\n",
       "      <td>20.51</td>\n",
       "      <td>19.63</td>\n",
       "      <td>56.46</td>\n",
       "      <td>57.05</td>\n",
       "      <td>55.30</td>\n",
       "      <td>58.37</td>\n",
       "    </tr>\n",
       "    <tr>\n",
       "      <th>1</th>\n",
       "      <td>2017-01-04T00:00:00.000Z</td>\n",
       "      <td>20.41</td>\n",
       "      <td>20.94</td>\n",
       "      <td>20.89</td>\n",
       "      <td>20.55</td>\n",
       "      <td>56.89</td>\n",
       "      <td>55.73</td>\n",
       "      <td>55.33</td>\n",
       "      <td>56.55</td>\n",
       "    </tr>\n",
       "    <tr>\n",
       "      <th>2</th>\n",
       "      <td>2017-01-05T00:00:00.000Z</td>\n",
       "      <td>20.66</td>\n",
       "      <td>21.18</td>\n",
       "      <td>20.78</td>\n",
       "      <td>20.89</td>\n",
       "      <td>57.10</td>\n",
       "      <td>56.35</td>\n",
       "      <td>56.01</td>\n",
       "      <td>57.35</td>\n",
       "    </tr>\n",
       "    <tr>\n",
       "      <th>3</th>\n",
       "      <td>2017-01-06T00:00:00.000Z</td>\n",
       "      <td>20.30</td>\n",
       "      <td>20.84</td>\n",
       "      <td>20.75</td>\n",
       "      <td>20.66</td>\n",
       "      <td>57.10</td>\n",
       "      <td>56.88</td>\n",
       "      <td>56.28</td>\n",
       "      <td>57.47</td>\n",
       "    </tr>\n",
       "    <tr>\n",
       "      <th>4</th>\n",
       "      <td>2017-01-09T00:00:00.000Z</td>\n",
       "      <td>20.36</td>\n",
       "      <td>20.75</td>\n",
       "      <td>20.42</td>\n",
       "      <td>20.74</td>\n",
       "      <td>53.64</td>\n",
       "      <td>56.81</td>\n",
       "      <td>54.74</td>\n",
       "      <td>57.00</td>\n",
       "    </tr>\n",
       "  </tbody>\n",
       "</table>\n",
       "</div>"
      ],
      "text/plain": [
       "                       date    low   high  close   open  cr_close  cr_open  \\\n",
       "0  2017-01-03T00:00:00.000Z  19.58  20.55  20.51  19.63     56.46    57.05   \n",
       "1  2017-01-04T00:00:00.000Z  20.41  20.94  20.89  20.55     56.89    55.73   \n",
       "2  2017-01-05T00:00:00.000Z  20.66  21.18  20.78  20.89     57.10    56.35   \n",
       "3  2017-01-06T00:00:00.000Z  20.30  20.84  20.75  20.66     57.10    56.88   \n",
       "4  2017-01-09T00:00:00.000Z  20.36  20.75  20.42  20.74     53.64    56.81   \n",
       "\n",
       "   cr_low  cr_high  \n",
       "0   55.30    58.37  \n",
       "1   55.33    56.55  \n",
       "2   56.01    57.35  \n",
       "3   56.28    57.47  \n",
       "4   54.74    57.00  "
      ]
     },
     "execution_count": 4,
     "metadata": {},
     "output_type": "execute_result"
    }
   ],
   "source": [
    "df=pd.read_csv('Iceus_sugar_all.csv')\n",
    "df=pd.merge(df, cr, on='date')\n",
    "df.head() "
   ]
  },
  {
   "cell_type": "markdown",
   "metadata": {},
   "source": [
    "Set date to date format form a string format\n"
   ]
  },
  {
   "cell_type": "code",
   "execution_count": 5,
   "metadata": {},
   "outputs": [],
   "source": [
    "train_dates=pd.to_datetime(df['date'])"
   ]
  },
  {
   "cell_type": "markdown",
   "metadata": {},
   "source": [
    "Take all columns except date as X features "
   ]
  },
  {
   "cell_type": "code",
   "execution_count": 6,
   "metadata": {},
   "outputs": [],
   "source": [
    "X=df.iloc[:, 1:8]"
   ]
  },
  {
   "cell_type": "code",
   "execution_count": 7,
   "metadata": {},
   "outputs": [],
   "source": [
    "scaler=StandardScaler()\n",
    "X=scaler.fit_transform(X)"
   ]
  },
  {
   "cell_type": "markdown",
   "metadata": {},
   "source": [
    "We set how many days of prediction we do while taking into account how many past days. Here, we calculate any 1 day from previous 14 days of data"
   ]
  },
  {
   "cell_type": "code",
   "execution_count": 8,
   "metadata": {},
   "outputs": [
    {
     "data": {
      "text/plain": [
       "((1768, 14, 7), (1768, 1))"
      ]
     },
     "execution_count": 8,
     "metadata": {},
     "output_type": "execute_result"
    }
   ],
   "source": [
    "train_X=[]\n",
    "train_y=[]\n",
    "n_future=1\n",
    "n_past=14\n",
    "for i in range(n_past, len(X) - n_future + 1):\n",
    "    train_X.append(X[i-n_past:i, 0:X.shape[1]])         #understand this exactly\n",
    "    train_y.append(X[i+n_future-1:i+n_future, 0])       #undersatnd this exactly\n",
    "X1, y1 = np.array(train_X), np.array(train_y)\n",
    "X1.shape, y1.shape"
   ]
  },
  {
   "cell_type": "code",
   "execution_count": 9,
   "metadata": {},
   "outputs": [
    {
     "data": {
      "text/plain": [
       "((1500, 14, 7), (1500, 1), (268, 14, 7), (268, 1))"
      ]
     },
     "execution_count": 9,
     "metadata": {},
     "output_type": "execute_result"
    }
   ],
   "source": [
    "X_train, y_train = X1[:1500], y1[:1500]\n",
    "X_test, y_test = X1[1500:], y1[1500:]\n",
    "X_train.shape, y_train.shape, X_test.shape, y_test.shape"
   ]
  },
  {
   "cell_type": "markdown",
   "metadata": {},
   "source": [
    "When setting up the LSTM model, when we use multiple LSTM layers, we use another parameter 'return_sequences' which tells the model to return the output of the first LSTM layer to the next layer as input in the form of a sequence as LSTM requices sequential data. "
   ]
  },
  {
   "cell_type": "code",
   "execution_count": 10,
   "metadata": {},
   "outputs": [
    {
     "name": "stdout",
     "output_type": "stream",
     "text": [
      "Model: \"sequential\"\n",
      "_________________________________________________________________\n",
      " Layer (type)                Output Shape              Param #   \n",
      "=================================================================\n",
      " lstm (LSTM)                 (None, 14, 64)            18432     \n",
      "                                                                 \n",
      " lstm_1 (LSTM)               (None, 32)                12416     \n",
      "                                                                 \n",
      " dropout (Dropout)           (None, 32)                0         \n",
      "                                                                 \n",
      " dense (Dense)               (None, 1)                 33        \n",
      "                                                                 \n",
      "=================================================================\n",
      "Total params: 30,881\n",
      "Trainable params: 30,881\n",
      "Non-trainable params: 0\n",
      "_________________________________________________________________\n"
     ]
    }
   ],
   "source": [
    "model=Sequential()\n",
    "model.add(LSTM(64, activation='relu', input_shape=(X_train.shape[1], X_train.shape[2]), return_sequences=True))\n",
    "model.add(LSTM(32, activation='relu', return_sequences=False))\n",
    "model.add(Dropout(0.2))\n",
    "model.add(Dense(y_train.shape[1]))\n",
    "model.compile(optimizer='adam', loss='mse')\n",
    "model.summary()"
   ]
  },
  {
   "cell_type": "code",
   "execution_count": 11,
   "metadata": {},
   "outputs": [
    {
     "name": "stdout",
     "output_type": "stream",
     "text": [
      "Epoch 1/40\n",
      "85/85 [==============================] - 3s 13ms/step - loss: 0.0923 - val_loss: 0.4003\n",
      "Epoch 2/40\n",
      "85/85 [==============================] - 1s 8ms/step - loss: 0.0342 - val_loss: 0.4985\n",
      "Epoch 3/40\n",
      "85/85 [==============================] - 1s 8ms/step - loss: 0.0306 - val_loss: 0.0311\n",
      "Epoch 4/40\n",
      "85/85 [==============================] - 1s 8ms/step - loss: 0.0264 - val_loss: 0.0712\n",
      "Epoch 5/40\n",
      "85/85 [==============================] - 1s 8ms/step - loss: 0.0272 - val_loss: 0.0448\n",
      "Epoch 6/40\n",
      "85/85 [==============================] - 1s 8ms/step - loss: 0.0241 - val_loss: 0.0471\n",
      "Epoch 7/40\n",
      "85/85 [==============================] - 1s 8ms/step - loss: 0.0231 - val_loss: 0.0224\n",
      "Epoch 8/40\n",
      "85/85 [==============================] - 1s 8ms/step - loss: 0.0233 - val_loss: 0.0399\n",
      "Epoch 9/40\n",
      "85/85 [==============================] - 1s 8ms/step - loss: 0.0225 - val_loss: 0.0134\n",
      "Epoch 10/40\n",
      "85/85 [==============================] - 1s 9ms/step - loss: 0.0216 - val_loss: 0.0853\n",
      "Epoch 11/40\n",
      "85/85 [==============================] - 1s 9ms/step - loss: 0.0199 - val_loss: 0.0213\n",
      "Epoch 12/40\n",
      "85/85 [==============================] - 1s 9ms/step - loss: 0.0194 - val_loss: 0.0160\n",
      "Epoch 13/40\n",
      "85/85 [==============================] - 1s 9ms/step - loss: 0.0203 - val_loss: 0.0191\n",
      "Epoch 14/40\n",
      "85/85 [==============================] - 1s 9ms/step - loss: 0.0177 - val_loss: 0.0118\n",
      "Epoch 15/40\n",
      "85/85 [==============================] - 1s 9ms/step - loss: 0.0186 - val_loss: 0.0328\n",
      "Epoch 16/40\n",
      "85/85 [==============================] - 1s 9ms/step - loss: 0.0179 - val_loss: 0.0085\n",
      "Epoch 17/40\n",
      "85/85 [==============================] - 1s 8ms/step - loss: 0.0180 - val_loss: 0.0391\n",
      "Epoch 18/40\n",
      "85/85 [==============================] - 1s 9ms/step - loss: 0.0166 - val_loss: 0.0353\n",
      "Epoch 19/40\n",
      "85/85 [==============================] - 1s 9ms/step - loss: 0.0167 - val_loss: 0.0128\n",
      "Epoch 20/40\n",
      "85/85 [==============================] - 1s 9ms/step - loss: 0.0176 - val_loss: 0.0360\n",
      "Epoch 21/40\n",
      "85/85 [==============================] - 1s 9ms/step - loss: 0.0172 - val_loss: 0.0174\n",
      "Epoch 22/40\n",
      "85/85 [==============================] - 1s 12ms/step - loss: 0.0168 - val_loss: 0.0866\n",
      "Epoch 23/40\n",
      "85/85 [==============================] - 1s 8ms/step - loss: 0.0162 - val_loss: 0.0132\n",
      "Epoch 24/40\n",
      "85/85 [==============================] - 1s 7ms/step - loss: 0.0161 - val_loss: 0.0159\n",
      "Epoch 25/40\n",
      "85/85 [==============================] - 1s 8ms/step - loss: 0.0161 - val_loss: 0.0148\n",
      "Epoch 26/40\n",
      "85/85 [==============================] - 1s 8ms/step - loss: 0.0147 - val_loss: 0.0073\n",
      "Epoch 27/40\n",
      "85/85 [==============================] - 1s 8ms/step - loss: 0.0165 - val_loss: 0.0075\n",
      "Epoch 28/40\n",
      "85/85 [==============================] - 1s 9ms/step - loss: 0.0151 - val_loss: 0.0262\n",
      "Epoch 29/40\n",
      "85/85 [==============================] - 1s 9ms/step - loss: 0.0136 - val_loss: 0.0498\n",
      "Epoch 30/40\n",
      "85/85 [==============================] - 1s 9ms/step - loss: 0.0157 - val_loss: 0.0043\n",
      "Epoch 31/40\n",
      "85/85 [==============================] - 1s 8ms/step - loss: 0.0145 - val_loss: 0.0134\n",
      "Epoch 32/40\n",
      "85/85 [==============================] - 1s 8ms/step - loss: 0.0151 - val_loss: 0.0048\n",
      "Epoch 33/40\n",
      "85/85 [==============================] - 1s 8ms/step - loss: 0.0158 - val_loss: 0.0237\n",
      "Epoch 34/40\n",
      "85/85 [==============================] - 1s 8ms/step - loss: 0.0152 - val_loss: 0.0037\n",
      "Epoch 35/40\n",
      "85/85 [==============================] - 1s 8ms/step - loss: 0.0147 - val_loss: 0.0527\n",
      "Epoch 36/40\n",
      "85/85 [==============================] - 1s 8ms/step - loss: 0.0147 - val_loss: 0.0038\n",
      "Epoch 37/40\n",
      "85/85 [==============================] - 1s 8ms/step - loss: 0.0150 - val_loss: 0.0052\n",
      "Epoch 38/40\n",
      "85/85 [==============================] - 1s 8ms/step - loss: 0.0127 - val_loss: 0.0039\n",
      "Epoch 39/40\n",
      "85/85 [==============================] - 1s 8ms/step - loss: 0.0127 - val_loss: 0.0040\n",
      "Epoch 40/40\n",
      "85/85 [==============================] - 1s 9ms/step - loss: 0.0144 - val_loss: 0.0037\n"
     ]
    }
   ],
   "source": [
    "history=model.fit(X_train, y_train, epochs=40, batch_size=16, validation_split=0.1, verbose=1)"
   ]
  },
  {
   "cell_type": "code",
   "execution_count": 12,
   "metadata": {},
   "outputs": [],
   "source": [
    "def compute_metrics(actual, predicted):\n",
    "    mse = mean_squared_error(actual, predicted)\n",
    "    rmse = np.sqrt(mse)\n",
    "    mae = mean_absolute_error(actual, predicted)\n",
    "    r2 = r2_score(actual, predicted)\n",
    "    bias = np.mean(predicted - actual)\n",
    "    variance = np.var(predicted - actual)\n",
    "\n",
    "    metrics = {\n",
    "        'MSE': mse,\n",
    "        'RMSE': rmse,\n",
    "        'MAE': mae,\n",
    "        'R² Score': r2,\n",
    "        'Bias': bias,\n",
    "        'Variance': variance\n",
    "    }\n",
    "    \n",
    "    return metrics"
   ]
  },
  {
   "cell_type": "code",
   "execution_count": 13,
   "metadata": {},
   "outputs": [
    {
     "name": "stdout",
     "output_type": "stream",
     "text": [
      "47/47 [==============================] - 0s 4ms/step\n"
     ]
    },
    {
     "data": {
      "text/html": [
       "<div>\n",
       "<style scoped>\n",
       "    .dataframe tbody tr th:only-of-type {\n",
       "        vertical-align: middle;\n",
       "    }\n",
       "\n",
       "    .dataframe tbody tr th {\n",
       "        vertical-align: top;\n",
       "    }\n",
       "\n",
       "    .dataframe thead th {\n",
       "        text-align: right;\n",
       "    }\n",
       "</style>\n",
       "<table border=\"1\" class=\"dataframe\">\n",
       "  <thead>\n",
       "    <tr style=\"text-align: right;\">\n",
       "      <th></th>\n",
       "      <th>Train Predictions</th>\n",
       "      <th>Actuals</th>\n",
       "    </tr>\n",
       "  </thead>\n",
       "  <tbody>\n",
       "    <tr>\n",
       "      <th>0</th>\n",
       "      <td>0.559017</td>\n",
       "      <td>0.662182</td>\n",
       "    </tr>\n",
       "    <tr>\n",
       "      <th>1</th>\n",
       "      <td>0.586308</td>\n",
       "      <td>0.600942</td>\n",
       "    </tr>\n",
       "    <tr>\n",
       "      <th>2</th>\n",
       "      <td>0.563355</td>\n",
       "      <td>0.600942</td>\n",
       "    </tr>\n",
       "    <tr>\n",
       "      <th>3</th>\n",
       "      <td>0.554188</td>\n",
       "      <td>0.609690</td>\n",
       "    </tr>\n",
       "    <tr>\n",
       "      <th>4</th>\n",
       "      <td>0.545279</td>\n",
       "      <td>0.572509</td>\n",
       "    </tr>\n",
       "    <tr>\n",
       "      <th>...</th>\n",
       "      <td>...</td>\n",
       "      <td>...</td>\n",
       "    </tr>\n",
       "    <tr>\n",
       "      <th>1495</th>\n",
       "      <td>1.908421</td>\n",
       "      <td>2.011644</td>\n",
       "    </tr>\n",
       "    <tr>\n",
       "      <th>1496</th>\n",
       "      <td>1.905732</td>\n",
       "      <td>2.011644</td>\n",
       "    </tr>\n",
       "    <tr>\n",
       "      <th>1497</th>\n",
       "      <td>1.912694</td>\n",
       "      <td>1.906662</td>\n",
       "    </tr>\n",
       "    <tr>\n",
       "      <th>1498</th>\n",
       "      <td>1.773008</td>\n",
       "      <td>1.849796</td>\n",
       "    </tr>\n",
       "    <tr>\n",
       "      <th>1499</th>\n",
       "      <td>1.732765</td>\n",
       "      <td>1.847609</td>\n",
       "    </tr>\n",
       "  </tbody>\n",
       "</table>\n",
       "<p>1500 rows × 2 columns</p>\n",
       "</div>"
      ],
      "text/plain": [
       "      Train Predictions   Actuals\n",
       "0              0.559017  0.662182\n",
       "1              0.586308  0.600942\n",
       "2              0.563355  0.600942\n",
       "3              0.554188  0.609690\n",
       "4              0.545279  0.572509\n",
       "...                 ...       ...\n",
       "1495           1.908421  2.011644\n",
       "1496           1.905732  2.011644\n",
       "1497           1.912694  1.906662\n",
       "1498           1.773008  1.849796\n",
       "1499           1.732765  1.847609\n",
       "\n",
       "[1500 rows x 2 columns]"
      ]
     },
     "execution_count": 13,
     "metadata": {},
     "output_type": "execute_result"
    }
   ],
   "source": [
    "train_predictions = model.predict(X_train).flatten()\n",
    "ytrain1= y_train.flatten()\n",
    "train_results = pd.DataFrame(data = {'Train Predictions': train_predictions, 'Actuals': ytrain1})\n",
    "train_results"
   ]
  },
  {
   "cell_type": "code",
   "execution_count": 14,
   "metadata": {},
   "outputs": [
    {
     "data": {
      "text/plain": [
       "{'MSE': 0.004468187798719919,\n",
       " 'RMSE': 0.0668445046261839,\n",
       " 'MAE': 0.05486387722400571,\n",
       " 'R² Score': 0.9948479117715298,\n",
       " 'Bias': -0.03908613477093671,\n",
       " 'Variance': 0.002940461867388091}"
      ]
     },
     "execution_count": 14,
     "metadata": {},
     "output_type": "execute_result"
    }
   ],
   "source": [
    "compute_metrics(ytrain1, train_predictions)"
   ]
  },
  {
   "cell_type": "code",
   "execution_count": 15,
   "metadata": {},
   "outputs": [
    {
     "data": {
      "text/plain": [
       "[<matplotlib.lines.Line2D at 0x2195833d760>]"
      ]
     },
     "execution_count": 15,
     "metadata": {},
     "output_type": "execute_result"
    },
    {
     "data": {
      "image/png": "[encoded data removed]",
      "text/plain": [
       "<Figure size 640x480 with 1 Axes>"
      ]
     },
     "metadata": {},
     "output_type": "display_data"
    }
   ],
   "source": [
    "plt.plot(train_results['Train Predictions'][:], color= 'red')\n",
    "plt.plot(train_results['Actuals'][:], color= 'lightblue')"
   ]
  },
  {
   "cell_type": "code",
   "execution_count": 16,
   "metadata": {},
   "outputs": [
    {
     "name": "stdout",
     "output_type": "stream",
     "text": [
      "9/9 [==============================] - 0s 2ms/step\n"
     ]
    },
    {
     "data": {
      "text/html": [
       "<div>\n",
       "<style scoped>\n",
       "    .dataframe tbody tr th:only-of-type {\n",
       "        vertical-align: middle;\n",
       "    }\n",
       "\n",
       "    .dataframe tbody tr th {\n",
       "        vertical-align: top;\n",
       "    }\n",
       "\n",
       "    .dataframe thead th {\n",
       "        text-align: right;\n",
       "    }\n",
       "</style>\n",
       "<table border=\"1\" class=\"dataframe\">\n",
       "  <thead>\n",
       "    <tr style=\"text-align: right;\">\n",
       "      <th></th>\n",
       "      <th>Test Predictions</th>\n",
       "      <th>Test Actuals</th>\n",
       "    </tr>\n",
       "  </thead>\n",
       "  <tbody>\n",
       "    <tr>\n",
       "      <th>0</th>\n",
       "      <td>1.763942</td>\n",
       "      <td>1.845422</td>\n",
       "    </tr>\n",
       "    <tr>\n",
       "      <th>1</th>\n",
       "      <td>1.841132</td>\n",
       "      <td>1.900100</td>\n",
       "    </tr>\n",
       "    <tr>\n",
       "      <th>2</th>\n",
       "      <td>1.803560</td>\n",
       "      <td>1.900100</td>\n",
       "    </tr>\n",
       "    <tr>\n",
       "      <th>3</th>\n",
       "      <td>1.811872</td>\n",
       "      <td>1.900100</td>\n",
       "    </tr>\n",
       "    <tr>\n",
       "      <th>4</th>\n",
       "      <td>1.809718</td>\n",
       "      <td>1.900100</td>\n",
       "    </tr>\n",
       "  </tbody>\n",
       "</table>\n",
       "</div>"
      ],
      "text/plain": [
       "   Test Predictions  Test Actuals\n",
       "0          1.763942      1.845422\n",
       "1          1.841132      1.900100\n",
       "2          1.803560      1.900100\n",
       "3          1.811872      1.900100\n",
       "4          1.809718      1.900100"
      ]
     },
     "execution_count": 16,
     "metadata": {},
     "output_type": "execute_result"
    }
   ],
   "source": [
    "test_predictions = model.predict(X_test).flatten()\n",
    "ytest2=y_test.flatten()\n",
    "test_results = pd.DataFrame(data={'Test Predictions': test_predictions, 'Test Actuals': ytest2})\n",
    "# test_results=test_results.dropna()\n",
    "test_results.head()"
   ]
  },
  {
   "cell_type": "code",
   "execution_count": 17,
   "metadata": {},
   "outputs": [
    {
     "data": {
      "text/plain": [
       "{'MSE': 0.005485806740586379,\n",
       " 'RMSE': 0.07406623212089554,\n",
       " 'MAE': 0.05364848755146544,\n",
       " 'R² Score': 0.9869110303891688,\n",
       " 'Bias': -0.013460150399774828,\n",
       " 'Variance': 0.005304631091801819}"
      ]
     },
     "execution_count": 17,
     "metadata": {},
     "output_type": "execute_result"
    }
   ],
   "source": [
    "compute_metrics(test_results['Test Actuals'], test_results['Test Predictions'])"
   ]
  },
  {
   "cell_type": "code",
   "execution_count": 18,
   "metadata": {},
   "outputs": [
    {
     "data": {
      "text/plain": [
       "[<matplotlib.lines.Line2D at 0x219583a4eb0>]"
      ]
     },
     "execution_count": 18,
     "metadata": {},
     "output_type": "execute_result"
    },
    {
     "data": {
      "image/png": "[encoded data removed]",
      "text/plain": [
       "<Figure size 640x480 with 1 Axes>"
      ]
     },
     "metadata": {},
     "output_type": "display_data"
    }
   ],
   "source": [
    "plt.plot(test_results['Test Predictions'][:], color='red')\n",
    "plt.plot(test_results['Test Actuals'][:], color='aqua')"
   ]
  },
  {
   "cell_type": "markdown",
   "metadata": {},
   "source": [
    "Now for future forecasting, we first set how many days we want to forecast then extend out dates dataframe to that many days."
   ]
  },
  {
   "cell_type": "markdown",
   "metadata": {},
   "source": [
    "We set our prediction to account for the last 45 days (in this case) to predict as many future days."
   ]
  },
  {
   "cell_type": "markdown",
   "metadata": {},
   "source": [
    "We're going to first shift the feature dataset forward for future values and predict based on those\n"
   ]
  },
  {
   "cell_type": "code",
   "execution_count": 19,
   "metadata": {},
   "outputs": [],
   "source": [
    "future_days=45\n",
    "forecast_date=pd.date_range(list(train_dates)[-1], periods=future_days, freq='1d').tolist()\n",
    "dates=[]\n",
    "for i in forecast_date:\n",
    "    dates.append(i.date())\n",
    "dates_df=pd.DataFrame({'date': np.array(dates)})\n",
    "dates_df['date'] = pd.to_datetime(dates_df['date'], errors='coerce')\n",
    "dates_df['date'] = dates_df['date'].dt.strftime('%Y-%m-%dT%H:%M:%S.%fZ').str[:-3]"
   ]
  },
  {
   "cell_type": "code",
   "execution_count": 20,
   "metadata": {},
   "outputs": [],
   "source": [
    "df=pd.concat([df, dates_df], ignore_index=True)"
   ]
  },
  {
   "cell_type": "code",
   "execution_count": 21,
   "metadata": {},
   "outputs": [],
   "source": [
    "cols_to_shift=df.columns[-7:]\n",
    "df[cols_to_shift]=df[cols_to_shift].shift(future_days)"
   ]
  },
  {
   "cell_type": "code",
   "execution_count": 22,
   "metadata": {},
   "outputs": [],
   "source": [
    "df=df.drop(df.index[-1])"
   ]
  },
  {
   "cell_type": "code",
   "execution_count": 23,
   "metadata": {},
   "outputs": [
    {
     "data": {
      "text/plain": [
       "(1826, 9)"
      ]
     },
     "execution_count": 23,
     "metadata": {},
     "output_type": "execute_result"
    }
   ],
   "source": [
    "df.shape"
   ]
  },
  {
   "cell_type": "code",
   "execution_count": 24,
   "metadata": {},
   "outputs": [
    {
     "data": {
      "text/plain": [
       "<bound method DataFrame.__len__ of                           date    low   high  close   open  cr_close  cr_open  \\\n",
       "0     2017-01-03T00:00:00.000Z  19.58    NaN    NaN    NaN       NaN      NaN   \n",
       "1     2017-01-04T00:00:00.000Z  20.41    NaN    NaN    NaN       NaN      NaN   \n",
       "2     2017-01-05T00:00:00.000Z  20.66    NaN    NaN    NaN       NaN      NaN   \n",
       "3     2017-01-06T00:00:00.000Z  20.30    NaN    NaN    NaN       NaN      NaN   \n",
       "4     2017-01-09T00:00:00.000Z  20.36    NaN    NaN    NaN       NaN      NaN   \n",
       "...                        ...    ...    ...    ...    ...       ...      ...   \n",
       "1821  2024-07-30T00:00:00.0000    NaN  19.60  19.43  19.32     82.62    82.14   \n",
       "1822  2024-07-31T00:00:00.0000    NaN  19.32  18.98  18.93     84.25    82.62   \n",
       "1823  2024-08-01T00:00:00.0000    NaN  19.19  18.92  18.93     85.33    84.40   \n",
       "1824  2024-08-02T00:00:00.0000    NaN  19.19  18.92  19.10     85.33    84.40   \n",
       "1825  2024-08-03T00:00:00.0000    NaN  19.43  18.89  18.92     85.71    85.35   \n",
       "\n",
       "      cr_low  cr_high  \n",
       "0        NaN      NaN  \n",
       "1        NaN      NaN  \n",
       "2        NaN      NaN  \n",
       "3        NaN      NaN  \n",
       "4        NaN      NaN  \n",
       "...      ...      ...  \n",
       "1821   81.92    83.39  \n",
       "1822   82.11    84.55  \n",
       "1823   83.66    85.48  \n",
       "1824   83.66    85.48  \n",
       "1825   84.89    85.97  \n",
       "\n",
       "[1826 rows x 9 columns]>"
      ]
     },
     "execution_count": 24,
     "metadata": {},
     "output_type": "execute_result"
    }
   ],
   "source": [
    "df.__len__"
   ]
  },
  {
   "cell_type": "code",
   "execution_count": 25,
   "metadata": {},
   "outputs": [],
   "source": [
    "X_fut=df.iloc[-future_days+1:, -7:]"
   ]
  },
  {
   "cell_type": "code",
   "execution_count": 26,
   "metadata": {},
   "outputs": [
    {
     "data": {
      "text/plain": [
       "44"
      ]
     },
     "execution_count": 26,
     "metadata": {},
     "output_type": "execute_result"
    }
   ],
   "source": [
    "len(X_fut)"
   ]
  },
  {
   "cell_type": "code",
   "execution_count": 27,
   "metadata": {},
   "outputs": [],
   "source": [
    "X_fut=scaler.fit_transform(X_fut)"
   ]
  },
  {
   "cell_type": "code",
   "execution_count": 28,
   "metadata": {},
   "outputs": [
    {
     "data": {
      "text/plain": [
       "44"
      ]
     },
     "execution_count": 28,
     "metadata": {},
     "output_type": "execute_result"
    }
   ],
   "source": [
    "len(X_fut)"
   ]
  },
  {
   "cell_type": "code",
   "execution_count": 29,
   "metadata": {},
   "outputs": [
    {
     "data": {
      "text/plain": [
       "(44, 7)"
      ]
     },
     "execution_count": 29,
     "metadata": {},
     "output_type": "execute_result"
    }
   ],
   "source": [
    "X_fut.shape"
   ]
  },
  {
   "cell_type": "code",
   "execution_count": 30,
   "metadata": {},
   "outputs": [],
   "source": [
    "def df_to_X_y(df, window_size=5):\n",
    "  X = []\n",
    "  for i in range(len(df)-window_size):\n",
    "    row = [[a] for a in df[i:i+window_size]]\n",
    "    X.append(row)\n",
    "  return np.array(X)"
   ]
  },
  {
   "cell_type": "code",
   "execution_count": 31,
   "metadata": {},
   "outputs": [],
   "source": [
    "npast=10\n",
    "X=df_to_X_y(X_fut, npast)"
   ]
  },
  {
   "cell_type": "code",
   "execution_count": 32,
   "metadata": {},
   "outputs": [
    {
     "data": {
      "text/plain": [
       "(34, 10, 1, 7)"
      ]
     },
     "execution_count": 32,
     "metadata": {},
     "output_type": "execute_result"
    }
   ],
   "source": [
    "X.shape"
   ]
  },
  {
   "cell_type": "code",
   "execution_count": 33,
   "metadata": {},
   "outputs": [],
   "source": [
    "X=X.reshape(X.shape[0], X.shape[1], -1)"
   ]
  },
  {
   "cell_type": "code",
   "execution_count": 34,
   "metadata": {},
   "outputs": [
    {
     "data": {
      "text/plain": [
       "(34, 10, 7)"
      ]
     },
     "execution_count": 34,
     "metadata": {},
     "output_type": "execute_result"
    }
   ],
   "source": [
    "X.shape"
   ]
  },
  {
   "cell_type": "code",
   "execution_count": 35,
   "metadata": {},
   "outputs": [
    {
     "name": "stdout",
     "output_type": "stream",
     "text": [
      "2/2 [==============================] - 0s 3ms/step\n"
     ]
    }
   ],
   "source": [
    "predictions=model.predict(X).flatten()\n",
    "prediction_results = pd.DataFrame(data = {'Predictions': predictions})"
   ]
  },
  {
   "cell_type": "code",
   "execution_count": 36,
   "metadata": {},
   "outputs": [],
   "source": [
    "forecast_copy=np.repeat(prediction_results, X_fut.shape[1], axis=-1)\n",
    "pred_futures=scaler.inverse_transform(forecast_copy)[:, 0]"
   ]
  },
  {
   "cell_type": "code",
   "execution_count": 37,
   "metadata": {},
   "outputs": [
    {
     "data": {
      "text/plain": [
       "34"
      ]
     },
     "execution_count": 37,
     "metadata": {},
     "output_type": "execute_result"
    }
   ],
   "source": [
    "len(pred_futures)"
   ]
  },
  {
   "cell_type": "code",
   "execution_count": 44,
   "metadata": {},
   "outputs": [],
   "source": [
    "futures=pd.DataFrame(data={'date': df['date'][-X.shape[0]:], 'Predictions': pred_futures})"
   ]
  },
  {
   "cell_type": "code",
   "execution_count": 45,
   "metadata": {},
   "outputs": [],
   "source": [
    "futures['date']=pd.to_datetime(futures['date'], format='ISO8601')"
   ]
  },
  {
   "cell_type": "code",
   "execution_count": 40,
   "metadata": {},
   "outputs": [
    {
     "name": "stderr",
     "output_type": "stream",
     "text": [
      "C:\\Users\\Hp\\AppData\\Local\\Temp\\ipykernel_18044\\2536427766.py:2: SettingWithCopyWarning: \n",
      "A value is trying to be set on a copy of a slice from a DataFrame.\n",
      "Try using .loc[row_indexer,col_indexer] = value instead\n",
      "\n",
      "See the caveats in the documentation: https://pandas.pydata.org/pandas-docs/stable/user_guide/indexing.html#returning-a-view-versus-a-copy\n",
      "  original['open']=original['open'].shift(-future_days)\n",
      "C:\\Users\\Hp\\AppData\\Local\\Temp\\ipykernel_18044\\2536427766.py:3: SettingWithCopyWarning: \n",
      "A value is trying to be set on a copy of a slice from a DataFrame.\n",
      "Try using .loc[row_indexer,col_indexer] = value instead\n",
      "\n",
      "See the caveats in the documentation: https://pandas.pydata.org/pandas-docs/stable/user_guide/indexing.html#returning-a-view-versus-a-copy\n",
      "  original['date']=pd.to_datetime(original['date'], format='ISO8601')\n"
     ]
    }
   ],
   "source": [
    "original=df[['date', 'open']]\n",
    "original['open']=original['open'].shift(-future_days)\n",
    "original['date']=pd.to_datetime(original['date'], format='ISO8601')\n",
    "original=original.loc[original['date']>='2024-01-02']"
   ]
  },
  {
   "cell_type": "code",
   "execution_count": 41,
   "metadata": {},
   "outputs": [
    {
     "data": {
      "text/plain": [
       "Text(0, 0.5, 'Open Price')"
      ]
     },
     "execution_count": 41,
     "metadata": {},
     "output_type": "execute_result"
    },
    {
     "data": {
      "image/png": "[encoded data removed]",
      "text/plain": [
       "<Figure size 1400x700 with 1 Axes>"
      ]
     },
     "metadata": {},
     "output_type": "display_data"
    }
   ],
   "source": [
    "plt.figure(figsize=(14, 7))\n",
    "sns.lineplot(x=original['date'], y=original['open'], label='Original')\n",
    "sns.lineplot(x=futures['date'], y=futures['Predictions'], label='Forecast')\n",
    "plt.xlabel('Date')\n",
    "plt.ylabel('Open Price')"
   ]
  },
  {
   "cell_type": "code",
   "execution_count": null,
   "metadata": {},
   "outputs": [],
   "source": []
  }
 ],
 "metadata": {
  "kernelspec": {
   "display_name": "AI_ML",
   "language": "python",
   "name": "python3"
  },
  "language_info": {
   "codemirror_mode": {
    "name": "ipython",
    "version": 3
   },
   "file_extension": ".py",
   "mimetype": "text/x-python",
   "name": "python",
   "nbconvert_exporter": "python",
   "pygments_lexer": "ipython3",
   "version": "3.9.18"
  }
 },
 "nbformat": 4,
 "nbformat_minor": 2
}
