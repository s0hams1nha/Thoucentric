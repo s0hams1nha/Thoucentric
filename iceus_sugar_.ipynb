{
 "cells": [
  {
   "cell_type": "code",
   "execution_count": 47,
   "metadata": {},
   "outputs": [],
   "source": [
    "import pandas as pd\n",
    "import numpy as np\n",
    "import matplotlib.pyplot as plt\n",
    "import tensorflow as tf\n",
    "import os"
   ]
  },
  {
   "cell_type": "code",
   "execution_count": 48,
   "metadata": {},
   "outputs": [],
   "source": [
    "os.chdir('C:\\\\Users\\\\Hp\\\\OneDrive\\\\Documents\\\\GitHub\\\\Thoucentric\\\\DataSets')"
   ]
  },
  {
   "cell_type": "code",
   "execution_count": 49,
   "metadata": {},
   "outputs": [
    {
     "data": {
      "text/html": [
       "<div>\n",
       "<style scoped>\n",
       "    .dataframe tbody tr th:only-of-type {\n",
       "        vertical-align: middle;\n",
       "    }\n",
       "\n",
       "    .dataframe tbody tr th {\n",
       "        vertical-align: top;\n",
       "    }\n",
       "\n",
       "    .dataframe thead th {\n",
       "        text-align: right;\n",
       "    }\n",
       "</style>\n",
       "<table border=\"1\" class=\"dataframe\">\n",
       "  <thead>\n",
       "    <tr style=\"text-align: right;\">\n",
       "      <th></th>\n",
       "      <th>date</th>\n",
       "      <th>low</th>\n",
       "      <th>high</th>\n",
       "      <th>close</th>\n",
       "      <th>open</th>\n",
       "    </tr>\n",
       "  </thead>\n",
       "  <tbody>\n",
       "    <tr>\n",
       "      <th>0</th>\n",
       "      <td>2017-01-03T00:00:00.000Z</td>\n",
       "      <td>19.58</td>\n",
       "      <td>20.55</td>\n",
       "      <td>20.51</td>\n",
       "      <td>19.63</td>\n",
       "    </tr>\n",
       "    <tr>\n",
       "      <th>1</th>\n",
       "      <td>2017-01-04T00:00:00.000Z</td>\n",
       "      <td>20.41</td>\n",
       "      <td>20.94</td>\n",
       "      <td>20.89</td>\n",
       "      <td>20.55</td>\n",
       "    </tr>\n",
       "    <tr>\n",
       "      <th>2</th>\n",
       "      <td>2017-01-05T00:00:00.000Z</td>\n",
       "      <td>20.66</td>\n",
       "      <td>21.18</td>\n",
       "      <td>20.78</td>\n",
       "      <td>20.89</td>\n",
       "    </tr>\n",
       "    <tr>\n",
       "      <th>3</th>\n",
       "      <td>2017-01-06T00:00:00.000Z</td>\n",
       "      <td>20.30</td>\n",
       "      <td>20.84</td>\n",
       "      <td>20.75</td>\n",
       "      <td>20.66</td>\n",
       "    </tr>\n",
       "    <tr>\n",
       "      <th>4</th>\n",
       "      <td>2017-01-09T00:00:00.000Z</td>\n",
       "      <td>20.36</td>\n",
       "      <td>20.75</td>\n",
       "      <td>20.42</td>\n",
       "      <td>20.74</td>\n",
       "    </tr>\n",
       "    <tr>\n",
       "      <th>...</th>\n",
       "      <td>...</td>\n",
       "      <td>...</td>\n",
       "      <td>...</td>\n",
       "      <td>...</td>\n",
       "      <td>...</td>\n",
       "    </tr>\n",
       "    <tr>\n",
       "      <th>2067</th>\n",
       "      <td>2024-06-17T00:00:00.000Z</td>\n",
       "      <td>18.81</td>\n",
       "      <td>19.32</td>\n",
       "      <td>18.98</td>\n",
       "      <td>18.93</td>\n",
       "    </tr>\n",
       "    <tr>\n",
       "      <th>2068</th>\n",
       "      <td>2024-06-18T00:00:00.000Z</td>\n",
       "      <td>18.81</td>\n",
       "      <td>19.19</td>\n",
       "      <td>18.92</td>\n",
       "      <td>18.93</td>\n",
       "    </tr>\n",
       "    <tr>\n",
       "      <th>2069</th>\n",
       "      <td>2024-06-19T00:00:00.000Z</td>\n",
       "      <td>18.81</td>\n",
       "      <td>19.19</td>\n",
       "      <td>18.92</td>\n",
       "      <td>19.10</td>\n",
       "    </tr>\n",
       "    <tr>\n",
       "      <th>2070</th>\n",
       "      <td>2024-06-20T00:00:00.000Z</td>\n",
       "      <td>18.82</td>\n",
       "      <td>19.43</td>\n",
       "      <td>18.89</td>\n",
       "      <td>18.92</td>\n",
       "    </tr>\n",
       "    <tr>\n",
       "      <th>2071</th>\n",
       "      <td>2024-06-21T00:00:00.000Z</td>\n",
       "      <td>18.81</td>\n",
       "      <td>19.06</td>\n",
       "      <td>18.97</td>\n",
       "      <td>NaN</td>\n",
       "    </tr>\n",
       "  </tbody>\n",
       "</table>\n",
       "<p>2072 rows × 5 columns</p>\n",
       "</div>"
      ],
      "text/plain": [
       "                          date    low   high  close   open\n",
       "0     2017-01-03T00:00:00.000Z  19.58  20.55  20.51  19.63\n",
       "1     2017-01-04T00:00:00.000Z  20.41  20.94  20.89  20.55\n",
       "2     2017-01-05T00:00:00.000Z  20.66  21.18  20.78  20.89\n",
       "3     2017-01-06T00:00:00.000Z  20.30  20.84  20.75  20.66\n",
       "4     2017-01-09T00:00:00.000Z  20.36  20.75  20.42  20.74\n",
       "...                        ...    ...    ...    ...    ...\n",
       "2067  2024-06-17T00:00:00.000Z  18.81  19.32  18.98  18.93\n",
       "2068  2024-06-18T00:00:00.000Z  18.81  19.19  18.92  18.93\n",
       "2069  2024-06-19T00:00:00.000Z  18.81  19.19  18.92  19.10\n",
       "2070  2024-06-20T00:00:00.000Z  18.82  19.43  18.89  18.92\n",
       "2071  2024-06-21T00:00:00.000Z  18.81  19.06  18.97    NaN\n",
       "\n",
       "[2072 rows x 5 columns]"
      ]
     },
     "execution_count": 49,
     "metadata": {},
     "output_type": "execute_result"
    }
   ],
   "source": [
    "df=pd.read_csv('Iceus_sugar_all.csv')\n",
    "df"
   ]
  },
  {
   "cell_type": "code",
   "execution_count": 50,
   "metadata": {},
   "outputs": [
    {
     "name": "stdout",
     "output_type": "stream",
     "text": [
      "<class 'pandas.core.frame.DataFrame'>\n",
      "RangeIndex: 2072 entries, 0 to 2071\n",
      "Data columns (total 5 columns):\n",
      " #   Column  Non-Null Count  Dtype  \n",
      "---  ------  --------------  -----  \n",
      " 0   date    2072 non-null   object \n",
      " 1   low     2072 non-null   float64\n",
      " 2   high    2072 non-null   float64\n",
      " 3   close   2072 non-null   float64\n",
      " 4   open    2071 non-null   float64\n",
      "dtypes: float64(4), object(1)\n",
      "memory usage: 81.1+ KB\n"
     ]
    }
   ],
   "source": [
    "df.info()"
   ]
  },
  {
   "cell_type": "code",
   "execution_count": 51,
   "metadata": {},
   "outputs": [
    {
     "data": {
      "text/html": [
       "<div>\n",
       "<style scoped>\n",
       "    .dataframe tbody tr th:only-of-type {\n",
       "        vertical-align: middle;\n",
       "    }\n",
       "\n",
       "    .dataframe tbody tr th {\n",
       "        vertical-align: top;\n",
       "    }\n",
       "\n",
       "    .dataframe thead th {\n",
       "        text-align: right;\n",
       "    }\n",
       "</style>\n",
       "<table border=\"1\" class=\"dataframe\">\n",
       "  <thead>\n",
       "    <tr style=\"text-align: right;\">\n",
       "      <th></th>\n",
       "      <th>low</th>\n",
       "      <th>high</th>\n",
       "      <th>close</th>\n",
       "      <th>open</th>\n",
       "    </tr>\n",
       "    <tr>\n",
       "      <th>date</th>\n",
       "      <th></th>\n",
       "      <th></th>\n",
       "      <th></th>\n",
       "      <th></th>\n",
       "    </tr>\n",
       "  </thead>\n",
       "  <tbody>\n",
       "    <tr>\n",
       "      <th>2017-01-03 00:00:00+00:00</th>\n",
       "      <td>19.58</td>\n",
       "      <td>20.55</td>\n",
       "      <td>20.51</td>\n",
       "      <td>19.63</td>\n",
       "    </tr>\n",
       "    <tr>\n",
       "      <th>2017-01-04 00:00:00+00:00</th>\n",
       "      <td>20.41</td>\n",
       "      <td>20.94</td>\n",
       "      <td>20.89</td>\n",
       "      <td>20.55</td>\n",
       "    </tr>\n",
       "    <tr>\n",
       "      <th>2017-01-05 00:00:00+00:00</th>\n",
       "      <td>20.66</td>\n",
       "      <td>21.18</td>\n",
       "      <td>20.78</td>\n",
       "      <td>20.89</td>\n",
       "    </tr>\n",
       "    <tr>\n",
       "      <th>2017-01-06 00:00:00+00:00</th>\n",
       "      <td>20.30</td>\n",
       "      <td>20.84</td>\n",
       "      <td>20.75</td>\n",
       "      <td>20.66</td>\n",
       "    </tr>\n",
       "    <tr>\n",
       "      <th>2017-01-09 00:00:00+00:00</th>\n",
       "      <td>20.36</td>\n",
       "      <td>20.75</td>\n",
       "      <td>20.42</td>\n",
       "      <td>20.74</td>\n",
       "    </tr>\n",
       "  </tbody>\n",
       "</table>\n",
       "</div>"
      ],
      "text/plain": [
       "                             low   high  close   open\n",
       "date                                                 \n",
       "2017-01-03 00:00:00+00:00  19.58  20.55  20.51  19.63\n",
       "2017-01-04 00:00:00+00:00  20.41  20.94  20.89  20.55\n",
       "2017-01-05 00:00:00+00:00  20.66  21.18  20.78  20.89\n",
       "2017-01-06 00:00:00+00:00  20.30  20.84  20.75  20.66\n",
       "2017-01-09 00:00:00+00:00  20.36  20.75  20.42  20.74"
      ]
     },
     "execution_count": 51,
     "metadata": {},
     "output_type": "execute_result"
    }
   ],
   "source": [
    "df.index=pd.to_datetime(df['date'], format='ISO8601')\n",
    "df=df.drop(columns=['date'])\n",
    "df.head()"
   ]
  },
  {
   "cell_type": "code",
   "execution_count": 52,
   "metadata": {},
   "outputs": [],
   "source": [
    "def df_to_X_y(df, window_size):\n",
    "  df_as_np = df.to_numpy()\n",
    "  X = []\n",
    "  y = []\n",
    "  for i in range(len(df_as_np)-window_size):\n",
    "    row = [[a] for a in df_as_np[i:i+window_size]]\n",
    "    X.append(row)\n",
    "    label = df_as_np[i+window_size]\n",
    "    y.append(label)\n",
    "  return np.array(X), np.array(y)"
   ]
  },
  {
   "cell_type": "code",
   "execution_count": 53,
   "metadata": {},
   "outputs": [
    {
     "data": {
      "text/plain": [
       "(array([[[[19.58, 20.55, 20.51, 19.63]],\n",
       " \n",
       "         [[20.41, 20.94, 20.89, 20.55]],\n",
       " \n",
       "         [[20.66, 21.18, 20.78, 20.89]],\n",
       " \n",
       "         [[20.3 , 20.84, 20.75, 20.66]],\n",
       " \n",
       "         [[20.36, 20.75, 20.42, 20.74]]],\n",
       " \n",
       " \n",
       "        [[[20.41, 20.94, 20.89, 20.55]],\n",
       " \n",
       "         [[20.66, 21.18, 20.78, 20.89]],\n",
       " \n",
       "         [[20.3 , 20.84, 20.75, 20.66]],\n",
       " \n",
       "         [[20.36, 20.75, 20.42, 20.74]],\n",
       " \n",
       "         [[20.15, 20.56, 20.48, 20.5 ]]],\n",
       " \n",
       " \n",
       "        [[[20.66, 21.18, 20.78, 20.89]],\n",
       " \n",
       "         [[20.3 , 20.84, 20.75, 20.66]],\n",
       " \n",
       "         [[20.36, 20.75, 20.42, 20.74]],\n",
       " \n",
       "         [[20.15, 20.56, 20.48, 20.5 ]],\n",
       " \n",
       "         [[20.48, 20.89, 20.56, 20.55]]],\n",
       " \n",
       " \n",
       "        ...,\n",
       " \n",
       " \n",
       "        [[[19.27, 19.6 , 19.43, 19.49]],\n",
       " \n",
       "         [[19.27, 19.6 , 19.43, 19.49]],\n",
       " \n",
       "         [[19.27, 19.6 , 19.43, 19.32]],\n",
       " \n",
       "         [[18.81, 19.32, 18.98, 18.93]],\n",
       " \n",
       "         [[18.81, 19.19, 18.92, 18.93]]],\n",
       " \n",
       " \n",
       "        [[[19.27, 19.6 , 19.43, 19.49]],\n",
       " \n",
       "         [[19.27, 19.6 , 19.43, 19.32]],\n",
       " \n",
       "         [[18.81, 19.32, 18.98, 18.93]],\n",
       " \n",
       "         [[18.81, 19.19, 18.92, 18.93]],\n",
       " \n",
       "         [[18.81, 19.19, 18.92, 19.1 ]]],\n",
       " \n",
       " \n",
       "        [[[19.27, 19.6 , 19.43, 19.32]],\n",
       " \n",
       "         [[18.81, 19.32, 18.98, 18.93]],\n",
       " \n",
       "         [[18.81, 19.19, 18.92, 18.93]],\n",
       " \n",
       "         [[18.81, 19.19, 18.92, 19.1 ]],\n",
       " \n",
       "         [[18.82, 19.43, 18.89, 18.92]]]]),\n",
       " array([[20.15, 20.56, 20.48, 20.5 ],\n",
       "        [20.48, 20.89, 20.56, 20.55],\n",
       "        [20.58, 20.88, 20.76, 20.6 ],\n",
       "        ...,\n",
       "        [18.81, 19.19, 18.92, 19.1 ],\n",
       "        [18.82, 19.43, 18.89, 18.92],\n",
       "        [18.81, 19.06, 18.97,   nan]]))"
      ]
     },
     "execution_count": 53,
     "metadata": {},
     "output_type": "execute_result"
    }
   ],
   "source": [
    "windowsize=5\n",
    "X, y= df_to_X_y(df, windowsize)\n",
    "X,y"
   ]
  },
  {
   "cell_type": "code",
   "execution_count": 54,
   "metadata": {},
   "outputs": [
    {
     "data": {
      "text/plain": [
       "((2067, 5, 4), (2067, 4))"
      ]
     },
     "execution_count": 54,
     "metadata": {},
     "output_type": "execute_result"
    }
   ],
   "source": [
    "X=X.reshape(X.shape[0], X.shape[1], X.shape[3])\n",
    "X.shape, y.shape"
   ]
  },
  {
   "cell_type": "code",
   "execution_count": 55,
   "metadata": {},
   "outputs": [
    {
     "data": {
      "text/plain": [
       "((1800, 5, 4), (1800, 4), (150, 5, 4), (150, 4), (117, 5, 4), (117, 4))"
      ]
     },
     "execution_count": 55,
     "metadata": {},
     "output_type": "execute_result"
    }
   ],
   "source": [
    "X_train, y_train = X[:1800], y[:1800]\n",
    "X_val, y_val = X[1800:1950], y[1800:1950]\n",
    "X_test, y_test = X[1950:], y[1950:]\n",
    "X_train.shape, y_train.shape, X_val.shape, y_val.shape, X_test.shape, y_test.shape"
   ]
  },
  {
   "cell_type": "code",
   "execution_count": 56,
   "metadata": {},
   "outputs": [],
   "source": [
    "from keras.models import Sequential\n",
    "from keras.layers import *\n",
    "from keras.losses import MeanSquaredError\n",
    "from keras.metrics import RootMeanSquaredError\n",
    "from keras.optimizers import Adam\n",
    "from sklearn.metrics import *"
   ]
  },
  {
   "cell_type": "code",
   "execution_count": 57,
   "metadata": {},
   "outputs": [
    {
     "name": "stdout",
     "output_type": "stream",
     "text": [
      "Model: \"sequential_2\"\n",
      "_________________________________________________________________\n",
      " Layer (type)                Output Shape              Param #   \n",
      "=================================================================\n",
      " lstm_2 (LSTM)               (None, 64)                17664     \n",
      "                                                                 \n",
      " dense_4 (Dense)             (None, 8)                 520       \n",
      "                                                                 \n",
      " dense_5 (Dense)             (None, 4)                 36        \n",
      "                                                                 \n",
      "=================================================================\n",
      "Total params: 18,220\n",
      "Trainable params: 18,220\n",
      "Non-trainable params: 0\n",
      "_________________________________________________________________\n"
     ]
    }
   ],
   "source": [
    "model = Sequential()\n",
    "model.add(InputLayer((windowsize, X_train.shape[2])))  # (5, 4)\n",
    "model.add(LSTM(64))\n",
    "model.add(Dense(8, activation='relu'))\n",
    "model.add(Dense(y_train.shape[1], activation='linear'))  # 15 features in the output\n",
    "model.summary()"
   ]
  },
  {
   "cell_type": "code",
   "execution_count": 58,
   "metadata": {},
   "outputs": [
    {
     "name": "stdout",
     "output_type": "stream",
     "text": [
      "Epoch 1/110\n",
      "57/57 [==============================] - 2s 12ms/step - loss: 190.1438 - root_mean_squared_error: 13.7893 - val_loss: 317.8972 - val_root_mean_squared_error: 17.8297\n",
      "Epoch 2/110\n",
      "57/57 [==============================] - 0s 4ms/step - loss: 64.5262 - root_mean_squared_error: 8.0328 - val_loss: 151.4173 - val_root_mean_squared_error: 12.3052\n",
      "Epoch 3/110\n",
      "57/57 [==============================] - 0s 3ms/step - loss: 25.3945 - root_mean_squared_error: 5.0393 - val_loss: 93.6945 - val_root_mean_squared_error: 9.6796\n",
      "Epoch 4/110\n",
      "57/57 [==============================] - 0s 3ms/step - loss: 17.4215 - root_mean_squared_error: 4.1739 - val_loss: 72.0581 - val_root_mean_squared_error: 8.4887\n",
      "Epoch 5/110\n",
      "57/57 [==============================] - 0s 3ms/step - loss: 8.8215 - root_mean_squared_error: 2.9701 - val_loss: 42.0304 - val_root_mean_squared_error: 6.4831\n",
      "Epoch 6/110\n",
      "57/57 [==============================] - 0s 3ms/step - loss: 3.9684 - root_mean_squared_error: 1.9921 - val_loss: 25.5558 - val_root_mean_squared_error: 5.0553\n",
      "Epoch 7/110\n",
      "57/57 [==============================] - 0s 4ms/step - loss: 2.2397 - root_mean_squared_error: 1.4966 - val_loss: 16.1613 - val_root_mean_squared_error: 4.0201\n",
      "Epoch 8/110\n",
      "57/57 [==============================] - 0s 4ms/step - loss: 1.3273 - root_mean_squared_error: 1.1521 - val_loss: 10.7699 - val_root_mean_squared_error: 3.2818\n",
      "Epoch 9/110\n",
      "57/57 [==============================] - 0s 3ms/step - loss: 0.8406 - root_mean_squared_error: 0.9168 - val_loss: 7.4403 - val_root_mean_squared_error: 2.7277\n",
      "Epoch 10/110\n",
      "57/57 [==============================] - 0s 3ms/step - loss: 0.5616 - root_mean_squared_error: 0.7494 - val_loss: 5.4192 - val_root_mean_squared_error: 2.3279\n",
      "Epoch 11/110\n",
      "57/57 [==============================] - 0s 3ms/step - loss: 0.4072 - root_mean_squared_error: 0.6381 - val_loss: 4.1333 - val_root_mean_squared_error: 2.0331\n",
      "Epoch 12/110\n",
      "57/57 [==============================] - 0s 3ms/step - loss: 0.3045 - root_mean_squared_error: 0.5518 - val_loss: 3.1740 - val_root_mean_squared_error: 1.7816\n",
      "Epoch 13/110\n",
      "57/57 [==============================] - 0s 3ms/step - loss: 0.2412 - root_mean_squared_error: 0.4911 - val_loss: 2.5078 - val_root_mean_squared_error: 1.5836\n",
      "Epoch 14/110\n",
      "57/57 [==============================] - 0s 3ms/step - loss: 0.1921 - root_mean_squared_error: 0.4383 - val_loss: 2.0623 - val_root_mean_squared_error: 1.4361\n",
      "Epoch 15/110\n",
      "57/57 [==============================] - 0s 3ms/step - loss: 0.1663 - root_mean_squared_error: 0.4078 - val_loss: 1.7271 - val_root_mean_squared_error: 1.3142\n",
      "Epoch 16/110\n",
      "57/57 [==============================] - 0s 4ms/step - loss: 0.1376 - root_mean_squared_error: 0.3709 - val_loss: 1.4161 - val_root_mean_squared_error: 1.1900\n",
      "Epoch 17/110\n",
      "57/57 [==============================] - 0s 3ms/step - loss: 0.1247 - root_mean_squared_error: 0.3531 - val_loss: 1.2366 - val_root_mean_squared_error: 1.1120\n",
      "Epoch 18/110\n",
      "57/57 [==============================] - 0s 3ms/step - loss: 0.1170 - root_mean_squared_error: 0.3421 - val_loss: 1.0530 - val_root_mean_squared_error: 1.0261\n",
      "Epoch 19/110\n",
      "57/57 [==============================] - 0s 4ms/step - loss: 0.1042 - root_mean_squared_error: 0.3228 - val_loss: 0.9313 - val_root_mean_squared_error: 0.9651\n",
      "Epoch 20/110\n",
      "57/57 [==============================] - 0s 3ms/step - loss: 0.0995 - root_mean_squared_error: 0.3155 - val_loss: 0.8152 - val_root_mean_squared_error: 0.9029\n",
      "Epoch 21/110\n",
      "57/57 [==============================] - 0s 3ms/step - loss: 0.0876 - root_mean_squared_error: 0.2960 - val_loss: 0.7252 - val_root_mean_squared_error: 0.8516\n",
      "Epoch 22/110\n",
      "57/57 [==============================] - 0s 3ms/step - loss: 0.0847 - root_mean_squared_error: 0.2911 - val_loss: 0.6513 - val_root_mean_squared_error: 0.8070\n",
      "Epoch 23/110\n",
      "57/57 [==============================] - 0s 3ms/step - loss: 0.0744 - root_mean_squared_error: 0.2727 - val_loss: 0.5820 - val_root_mean_squared_error: 0.7629\n",
      "Epoch 24/110\n",
      "57/57 [==============================] - 0s 3ms/step - loss: 0.0808 - root_mean_squared_error: 0.2843 - val_loss: 0.5306 - val_root_mean_squared_error: 0.7284\n",
      "Epoch 25/110\n",
      "57/57 [==============================] - 0s 4ms/step - loss: 0.0702 - root_mean_squared_error: 0.2649 - val_loss: 0.4907 - val_root_mean_squared_error: 0.7005\n",
      "Epoch 26/110\n",
      "57/57 [==============================] - 0s 4ms/step - loss: 0.0743 - root_mean_squared_error: 0.2726 - val_loss: 0.4696 - val_root_mean_squared_error: 0.6853\n",
      "Epoch 27/110\n",
      "57/57 [==============================] - 0s 4ms/step - loss: 0.0701 - root_mean_squared_error: 0.2647 - val_loss: 0.4262 - val_root_mean_squared_error: 0.6529\n",
      "Epoch 28/110\n",
      "57/57 [==============================] - 0s 4ms/step - loss: 0.0655 - root_mean_squared_error: 0.2560 - val_loss: 0.4004 - val_root_mean_squared_error: 0.6327\n",
      "Epoch 29/110\n",
      "57/57 [==============================] - 0s 4ms/step - loss: 0.0629 - root_mean_squared_error: 0.2508 - val_loss: 0.3800 - val_root_mean_squared_error: 0.6165\n",
      "Epoch 30/110\n",
      "57/57 [==============================] - 0s 4ms/step - loss: 0.0644 - root_mean_squared_error: 0.2537 - val_loss: 0.4368 - val_root_mean_squared_error: 0.6609\n",
      "Epoch 31/110\n",
      "57/57 [==============================] - 0s 4ms/step - loss: 0.0703 - root_mean_squared_error: 0.2651 - val_loss: 0.3681 - val_root_mean_squared_error: 0.6067\n",
      "Epoch 32/110\n",
      "57/57 [==============================] - 0s 5ms/step - loss: 0.0689 - root_mean_squared_error: 0.2624 - val_loss: 0.3235 - val_root_mean_squared_error: 0.5687\n",
      "Epoch 33/110\n",
      "57/57 [==============================] - 0s 4ms/step - loss: 0.0616 - root_mean_squared_error: 0.2481 - val_loss: 0.3201 - val_root_mean_squared_error: 0.5658\n",
      "Epoch 34/110\n",
      "57/57 [==============================] - 0s 4ms/step - loss: 0.0584 - root_mean_squared_error: 0.2417 - val_loss: 0.2935 - val_root_mean_squared_error: 0.5417\n",
      "Epoch 35/110\n",
      "57/57 [==============================] - 0s 4ms/step - loss: 0.0575 - root_mean_squared_error: 0.2398 - val_loss: 0.3037 - val_root_mean_squared_error: 0.5511\n",
      "Epoch 36/110\n",
      "57/57 [==============================] - 0s 4ms/step - loss: 0.0613 - root_mean_squared_error: 0.2476 - val_loss: 0.2784 - val_root_mean_squared_error: 0.5277\n",
      "Epoch 37/110\n",
      "57/57 [==============================] - 0s 4ms/step - loss: 0.0628 - root_mean_squared_error: 0.2506 - val_loss: 0.2761 - val_root_mean_squared_error: 0.5255\n",
      "Epoch 38/110\n",
      "57/57 [==============================] - 0s 4ms/step - loss: 0.0579 - root_mean_squared_error: 0.2406 - val_loss: 0.2509 - val_root_mean_squared_error: 0.5009\n",
      "Epoch 39/110\n",
      "57/57 [==============================] - 0s 4ms/step - loss: 0.0560 - root_mean_squared_error: 0.2367 - val_loss: 0.2544 - val_root_mean_squared_error: 0.5043\n",
      "Epoch 40/110\n",
      "57/57 [==============================] - 0s 4ms/step - loss: 0.0570 - root_mean_squared_error: 0.2387 - val_loss: 0.2830 - val_root_mean_squared_error: 0.5320\n",
      "Epoch 41/110\n",
      "57/57 [==============================] - 0s 3ms/step - loss: 0.0592 - root_mean_squared_error: 0.2433 - val_loss: 0.2345 - val_root_mean_squared_error: 0.4842\n",
      "Epoch 42/110\n",
      "57/57 [==============================] - 0s 4ms/step - loss: 0.0562 - root_mean_squared_error: 0.2370 - val_loss: 0.2212 - val_root_mean_squared_error: 0.4703\n",
      "Epoch 43/110\n",
      "57/57 [==============================] - 0s 3ms/step - loss: 0.0613 - root_mean_squared_error: 0.2476 - val_loss: 0.2238 - val_root_mean_squared_error: 0.4731\n",
      "Epoch 44/110\n",
      "57/57 [==============================] - 0s 4ms/step - loss: 0.0590 - root_mean_squared_error: 0.2429 - val_loss: 0.2163 - val_root_mean_squared_error: 0.4651\n",
      "Epoch 45/110\n",
      "57/57 [==============================] - 0s 4ms/step - loss: 0.0577 - root_mean_squared_error: 0.2401 - val_loss: 0.2490 - val_root_mean_squared_error: 0.4990\n",
      "Epoch 46/110\n",
      "57/57 [==============================] - 0s 4ms/step - loss: 0.0563 - root_mean_squared_error: 0.2373 - val_loss: 0.2270 - val_root_mean_squared_error: 0.4764\n",
      "Epoch 47/110\n",
      "57/57 [==============================] - 0s 4ms/step - loss: 0.0550 - root_mean_squared_error: 0.2346 - val_loss: 0.2156 - val_root_mean_squared_error: 0.4644\n",
      "Epoch 48/110\n",
      "57/57 [==============================] - 0s 4ms/step - loss: 0.0528 - root_mean_squared_error: 0.2298 - val_loss: 0.1989 - val_root_mean_squared_error: 0.4460\n",
      "Epoch 49/110\n",
      "57/57 [==============================] - 0s 4ms/step - loss: 0.0588 - root_mean_squared_error: 0.2425 - val_loss: 0.2231 - val_root_mean_squared_error: 0.4723\n",
      "Epoch 50/110\n",
      "57/57 [==============================] - 0s 4ms/step - loss: 0.0567 - root_mean_squared_error: 0.2382 - val_loss: 0.2285 - val_root_mean_squared_error: 0.4780\n",
      "Epoch 51/110\n",
      "57/57 [==============================] - 0s 3ms/step - loss: 0.0585 - root_mean_squared_error: 0.2419 - val_loss: 0.2045 - val_root_mean_squared_error: 0.4523\n",
      "Epoch 52/110\n",
      "57/57 [==============================] - 0s 3ms/step - loss: 0.0541 - root_mean_squared_error: 0.2326 - val_loss: 0.1889 - val_root_mean_squared_error: 0.4346\n",
      "Epoch 53/110\n",
      "57/57 [==============================] - 0s 3ms/step - loss: 0.0534 - root_mean_squared_error: 0.2310 - val_loss: 0.2065 - val_root_mean_squared_error: 0.4544\n",
      "Epoch 54/110\n",
      "57/57 [==============================] - 0s 4ms/step - loss: 0.0523 - root_mean_squared_error: 0.2287 - val_loss: 0.2270 - val_root_mean_squared_error: 0.4764\n",
      "Epoch 55/110\n",
      "57/57 [==============================] - 0s 3ms/step - loss: 0.0546 - root_mean_squared_error: 0.2336 - val_loss: 0.1865 - val_root_mean_squared_error: 0.4319\n",
      "Epoch 56/110\n",
      "57/57 [==============================] - 0s 3ms/step - loss: 0.0509 - root_mean_squared_error: 0.2257 - val_loss: 0.1901 - val_root_mean_squared_error: 0.4361\n",
      "Epoch 57/110\n",
      "57/57 [==============================] - 0s 4ms/step - loss: 0.0629 - root_mean_squared_error: 0.2508 - val_loss: 0.2266 - val_root_mean_squared_error: 0.4761\n",
      "Epoch 58/110\n",
      "57/57 [==============================] - 0s 3ms/step - loss: 0.0572 - root_mean_squared_error: 0.2392 - val_loss: 0.1938 - val_root_mean_squared_error: 0.4403\n",
      "Epoch 59/110\n",
      "57/57 [==============================] - 0s 4ms/step - loss: 0.0517 - root_mean_squared_error: 0.2274 - val_loss: 0.1884 - val_root_mean_squared_error: 0.4341\n",
      "Epoch 60/110\n",
      "57/57 [==============================] - 0s 4ms/step - loss: 0.0595 - root_mean_squared_error: 0.2438 - val_loss: 0.1801 - val_root_mean_squared_error: 0.4244\n",
      "Epoch 61/110\n",
      "57/57 [==============================] - 0s 4ms/step - loss: 0.0542 - root_mean_squared_error: 0.2327 - val_loss: 0.2239 - val_root_mean_squared_error: 0.4732\n",
      "Epoch 62/110\n",
      "57/57 [==============================] - 0s 4ms/step - loss: 0.0511 - root_mean_squared_error: 0.2261 - val_loss: 0.1830 - val_root_mean_squared_error: 0.4278\n",
      "Epoch 63/110\n",
      "57/57 [==============================] - 0s 3ms/step - loss: 0.0556 - root_mean_squared_error: 0.2357 - val_loss: 0.2066 - val_root_mean_squared_error: 0.4546\n",
      "Epoch 64/110\n",
      "57/57 [==============================] - 0s 3ms/step - loss: 0.0561 - root_mean_squared_error: 0.2368 - val_loss: 0.1703 - val_root_mean_squared_error: 0.4127\n",
      "Epoch 65/110\n",
      "57/57 [==============================] - 0s 4ms/step - loss: 0.0551 - root_mean_squared_error: 0.2348 - val_loss: 0.1716 - val_root_mean_squared_error: 0.4143\n",
      "Epoch 66/110\n",
      "57/57 [==============================] - 0s 4ms/step - loss: 0.0522 - root_mean_squared_error: 0.2284 - val_loss: 0.1632 - val_root_mean_squared_error: 0.4040\n",
      "Epoch 67/110\n",
      "57/57 [==============================] - 0s 3ms/step - loss: 0.0550 - root_mean_squared_error: 0.2346 - val_loss: 0.1544 - val_root_mean_squared_error: 0.3929\n",
      "Epoch 68/110\n",
      "57/57 [==============================] - 0s 3ms/step - loss: 0.0580 - root_mean_squared_error: 0.2407 - val_loss: 0.2497 - val_root_mean_squared_error: 0.4997\n",
      "Epoch 69/110\n",
      "57/57 [==============================] - 0s 3ms/step - loss: 0.0620 - root_mean_squared_error: 0.2490 - val_loss: 0.1711 - val_root_mean_squared_error: 0.4137\n",
      "Epoch 70/110\n",
      "57/57 [==============================] - 0s 3ms/step - loss: 0.0552 - root_mean_squared_error: 0.2349 - val_loss: 0.1556 - val_root_mean_squared_error: 0.3945\n",
      "Epoch 71/110\n",
      "57/57 [==============================] - 0s 4ms/step - loss: 0.0510 - root_mean_squared_error: 0.2258 - val_loss: 0.1512 - val_root_mean_squared_error: 0.3889\n",
      "Epoch 72/110\n",
      "57/57 [==============================] - 0s 4ms/step - loss: 0.0522 - root_mean_squared_error: 0.2284 - val_loss: 0.1973 - val_root_mean_squared_error: 0.4442\n",
      "Epoch 73/110\n",
      "57/57 [==============================] - 0s 4ms/step - loss: 0.0583 - root_mean_squared_error: 0.2415 - val_loss: 0.1682 - val_root_mean_squared_error: 0.4101\n",
      "Epoch 74/110\n",
      "57/57 [==============================] - 0s 3ms/step - loss: 0.0525 - root_mean_squared_error: 0.2291 - val_loss: 0.1484 - val_root_mean_squared_error: 0.3853\n",
      "Epoch 75/110\n",
      "57/57 [==============================] - 0s 3ms/step - loss: 0.0502 - root_mean_squared_error: 0.2240 - val_loss: 0.1603 - val_root_mean_squared_error: 0.4004\n",
      "Epoch 76/110\n",
      "57/57 [==============================] - 0s 4ms/step - loss: 0.0496 - root_mean_squared_error: 0.2227 - val_loss: 0.1607 - val_root_mean_squared_error: 0.4009\n",
      "Epoch 77/110\n",
      "57/57 [==============================] - 0s 4ms/step - loss: 0.0500 - root_mean_squared_error: 0.2237 - val_loss: 0.1624 - val_root_mean_squared_error: 0.4030\n",
      "Epoch 78/110\n",
      "57/57 [==============================] - 0s 4ms/step - loss: 0.0556 - root_mean_squared_error: 0.2357 - val_loss: 0.1482 - val_root_mean_squared_error: 0.3850\n",
      "Epoch 79/110\n",
      "57/57 [==============================] - 0s 4ms/step - loss: 0.0489 - root_mean_squared_error: 0.2211 - val_loss: 0.2605 - val_root_mean_squared_error: 0.5104\n",
      "Epoch 80/110\n",
      "57/57 [==============================] - 0s 4ms/step - loss: 0.0520 - root_mean_squared_error: 0.2280 - val_loss: 0.1603 - val_root_mean_squared_error: 0.4003\n",
      "Epoch 81/110\n",
      "57/57 [==============================] - 0s 5ms/step - loss: 0.0493 - root_mean_squared_error: 0.2220 - val_loss: 0.1603 - val_root_mean_squared_error: 0.4004\n",
      "Epoch 82/110\n",
      "57/57 [==============================] - 0s 4ms/step - loss: 0.0586 - root_mean_squared_error: 0.2420 - val_loss: 0.1567 - val_root_mean_squared_error: 0.3958\n",
      "Epoch 83/110\n",
      "57/57 [==============================] - 0s 4ms/step - loss: 0.0505 - root_mean_squared_error: 0.2248 - val_loss: 0.1760 - val_root_mean_squared_error: 0.4195\n",
      "Epoch 84/110\n",
      "57/57 [==============================] - 0s 4ms/step - loss: 0.0541 - root_mean_squared_error: 0.2325 - val_loss: 0.1710 - val_root_mean_squared_error: 0.4135\n",
      "Epoch 85/110\n",
      "57/57 [==============================] - 0s 4ms/step - loss: 0.0512 - root_mean_squared_error: 0.2262 - val_loss: 0.1755 - val_root_mean_squared_error: 0.4190\n",
      "Epoch 86/110\n",
      "57/57 [==============================] - 0s 3ms/step - loss: 0.0583 - root_mean_squared_error: 0.2415 - val_loss: 0.1731 - val_root_mean_squared_error: 0.4160\n",
      "Epoch 87/110\n",
      "57/57 [==============================] - 0s 4ms/step - loss: 0.0500 - root_mean_squared_error: 0.2237 - val_loss: 0.1771 - val_root_mean_squared_error: 0.4209\n",
      "Epoch 88/110\n",
      "57/57 [==============================] - 0s 3ms/step - loss: 0.0495 - root_mean_squared_error: 0.2226 - val_loss: 0.1677 - val_root_mean_squared_error: 0.4095\n",
      "Epoch 89/110\n",
      "57/57 [==============================] - 0s 4ms/step - loss: 0.0514 - root_mean_squared_error: 0.2268 - val_loss: 0.1606 - val_root_mean_squared_error: 0.4008\n",
      "Epoch 90/110\n",
      "57/57 [==============================] - 0s 4ms/step - loss: 0.0527 - root_mean_squared_error: 0.2296 - val_loss: 0.1404 - val_root_mean_squared_error: 0.3746\n",
      "Epoch 91/110\n",
      "57/57 [==============================] - 0s 4ms/step - loss: 0.0478 - root_mean_squared_error: 0.2187 - val_loss: 0.1582 - val_root_mean_squared_error: 0.3977\n",
      "Epoch 92/110\n",
      "57/57 [==============================] - 0s 4ms/step - loss: 0.0531 - root_mean_squared_error: 0.2304 - val_loss: 0.1600 - val_root_mean_squared_error: 0.4000\n",
      "Epoch 93/110\n",
      "57/57 [==============================] - 0s 4ms/step - loss: 0.0506 - root_mean_squared_error: 0.2250 - val_loss: 0.1565 - val_root_mean_squared_error: 0.3956\n",
      "Epoch 94/110\n",
      "57/57 [==============================] - 0s 3ms/step - loss: 0.0519 - root_mean_squared_error: 0.2279 - val_loss: 0.1462 - val_root_mean_squared_error: 0.3824\n",
      "Epoch 95/110\n",
      "57/57 [==============================] - 0s 4ms/step - loss: 0.0493 - root_mean_squared_error: 0.2221 - val_loss: 0.1604 - val_root_mean_squared_error: 0.4004\n",
      "Epoch 96/110\n",
      "57/57 [==============================] - 0s 3ms/step - loss: 0.0493 - root_mean_squared_error: 0.2220 - val_loss: 0.1358 - val_root_mean_squared_error: 0.3685\n",
      "Epoch 97/110\n",
      "57/57 [==============================] - 0s 4ms/step - loss: 0.0494 - root_mean_squared_error: 0.2222 - val_loss: 0.1609 - val_root_mean_squared_error: 0.4012\n",
      "Epoch 98/110\n",
      "57/57 [==============================] - 0s 4ms/step - loss: 0.0517 - root_mean_squared_error: 0.2273 - val_loss: 0.1493 - val_root_mean_squared_error: 0.3864\n",
      "Epoch 99/110\n",
      "57/57 [==============================] - 0s 4ms/step - loss: 0.0514 - root_mean_squared_error: 0.2268 - val_loss: 0.1449 - val_root_mean_squared_error: 0.3806\n",
      "Epoch 100/110\n",
      "57/57 [==============================] - 0s 3ms/step - loss: 0.0487 - root_mean_squared_error: 0.2207 - val_loss: 0.1463 - val_root_mean_squared_error: 0.3825\n",
      "Epoch 101/110\n",
      "57/57 [==============================] - 0s 4ms/step - loss: 0.0519 - root_mean_squared_error: 0.2277 - val_loss: 0.1327 - val_root_mean_squared_error: 0.3643\n",
      "Epoch 102/110\n",
      "57/57 [==============================] - 0s 5ms/step - loss: 0.0486 - root_mean_squared_error: 0.2204 - val_loss: 0.1302 - val_root_mean_squared_error: 0.3609\n",
      "Epoch 103/110\n",
      "57/57 [==============================] - 0s 4ms/step - loss: 0.0492 - root_mean_squared_error: 0.2218 - val_loss: 0.1499 - val_root_mean_squared_error: 0.3872\n",
      "Epoch 104/110\n",
      "57/57 [==============================] - 0s 4ms/step - loss: 0.0494 - root_mean_squared_error: 0.2224 - val_loss: 0.1855 - val_root_mean_squared_error: 0.4307\n",
      "Epoch 105/110\n",
      "57/57 [==============================] - 0s 4ms/step - loss: 0.0490 - root_mean_squared_error: 0.2213 - val_loss: 0.1468 - val_root_mean_squared_error: 0.3832\n",
      "Epoch 106/110\n",
      "57/57 [==============================] - 0s 8ms/step - loss: 0.0492 - root_mean_squared_error: 0.2219 - val_loss: 0.1296 - val_root_mean_squared_error: 0.3599\n",
      "Epoch 107/110\n",
      "57/57 [==============================] - 0s 4ms/step - loss: 0.0568 - root_mean_squared_error: 0.2383 - val_loss: 0.1758 - val_root_mean_squared_error: 0.4193\n",
      "Epoch 108/110\n",
      "57/57 [==============================] - 0s 4ms/step - loss: 0.0535 - root_mean_squared_error: 0.2314 - val_loss: 0.1470 - val_root_mean_squared_error: 0.3834\n",
      "Epoch 109/110\n",
      "57/57 [==============================] - 0s 4ms/step - loss: 0.0500 - root_mean_squared_error: 0.2236 - val_loss: 0.1405 - val_root_mean_squared_error: 0.3748\n",
      "Epoch 110/110\n",
      "57/57 [==============================] - 0s 4ms/step - loss: 0.0533 - root_mean_squared_error: 0.2309 - val_loss: 0.1407 - val_root_mean_squared_error: 0.3751\n"
     ]
    },
    {
     "data": {
      "text/plain": [
       "<keras.callbacks.History at 0x18f722981f0>"
      ]
     },
     "execution_count": 58,
     "metadata": {},
     "output_type": "execute_result"
    }
   ],
   "source": [
    "model.compile(loss=MeanSquaredError(), optimizer=Adam(learning_rate=0.001), metrics=[RootMeanSquaredError()])\n",
    "model.fit(X_train, y_train, validation_data=(X_val, y_val), epochs=110)"
   ]
  },
  {
   "cell_type": "code",
   "execution_count": 59,
   "metadata": {},
   "outputs": [],
   "source": [
    "def compute_metrics(actual, predicted):\n",
    "    mse = mean_squared_error(actual, predicted)\n",
    "    rmse = np.sqrt(mse)\n",
    "    mae = mean_absolute_error(actual, predicted)\n",
    "    r2 = r2_score(actual, predicted)\n",
    "    bias = np.mean(predicted - actual)\n",
    "    variance = np.var(predicted - actual)\n",
    "\n",
    "    metrics = {\n",
    "        'MSE': mse,\n",
    "        'RMSE': rmse,\n",
    "        'MAE': mae,\n",
    "        'R² Score': r2,\n",
    "        'Bias': bias,\n",
    "        'Variance': variance\n",
    "    }\n",
    "    \n",
    "    return metrics"
   ]
  },
  {
   "cell_type": "code",
   "execution_count": 60,
   "metadata": {},
   "outputs": [
    {
     "name": "stdout",
     "output_type": "stream",
     "text": [
      "57/57 [==============================] - 0s 1ms/step\n"
     ]
    },
    {
     "data": {
      "text/html": [
       "<div>\n",
       "<style scoped>\n",
       "    .dataframe tbody tr th:only-of-type {\n",
       "        vertical-align: middle;\n",
       "    }\n",
       "\n",
       "    .dataframe tbody tr th {\n",
       "        vertical-align: top;\n",
       "    }\n",
       "\n",
       "    .dataframe thead th {\n",
       "        text-align: right;\n",
       "    }\n",
       "</style>\n",
       "<table border=\"1\" class=\"dataframe\">\n",
       "  <thead>\n",
       "    <tr style=\"text-align: right;\">\n",
       "      <th></th>\n",
       "      <th>Train Predictions</th>\n",
       "      <th>Actuals</th>\n",
       "    </tr>\n",
       "  </thead>\n",
       "  <tbody>\n",
       "    <tr>\n",
       "      <th>0</th>\n",
       "      <td>20.242188</td>\n",
       "      <td>20.15</td>\n",
       "    </tr>\n",
       "    <tr>\n",
       "      <th>1</th>\n",
       "      <td>20.758821</td>\n",
       "      <td>20.56</td>\n",
       "    </tr>\n",
       "    <tr>\n",
       "      <th>2</th>\n",
       "      <td>20.506384</td>\n",
       "      <td>20.48</td>\n",
       "    </tr>\n",
       "    <tr>\n",
       "      <th>3</th>\n",
       "      <td>20.492445</td>\n",
       "      <td>20.50</td>\n",
       "    </tr>\n",
       "    <tr>\n",
       "      <th>4</th>\n",
       "      <td>20.209467</td>\n",
       "      <td>20.48</td>\n",
       "    </tr>\n",
       "    <tr>\n",
       "      <th>...</th>\n",
       "      <td>...</td>\n",
       "      <td>...</td>\n",
       "    </tr>\n",
       "    <tr>\n",
       "      <th>7195</th>\n",
       "      <td>26.081543</td>\n",
       "      <td>26.24</td>\n",
       "    </tr>\n",
       "    <tr>\n",
       "      <th>7196</th>\n",
       "      <td>25.776794</td>\n",
       "      <td>25.95</td>\n",
       "    </tr>\n",
       "    <tr>\n",
       "      <th>7197</th>\n",
       "      <td>26.446590</td>\n",
       "      <td>26.85</td>\n",
       "    </tr>\n",
       "    <tr>\n",
       "      <th>7198</th>\n",
       "      <td>26.141893</td>\n",
       "      <td>26.73</td>\n",
       "    </tr>\n",
       "    <tr>\n",
       "      <th>7199</th>\n",
       "      <td>26.105696</td>\n",
       "      <td>26.77</td>\n",
       "    </tr>\n",
       "  </tbody>\n",
       "</table>\n",
       "<p>7200 rows × 2 columns</p>\n",
       "</div>"
      ],
      "text/plain": [
       "      Train Predictions  Actuals\n",
       "0             20.242188    20.15\n",
       "1             20.758821    20.56\n",
       "2             20.506384    20.48\n",
       "3             20.492445    20.50\n",
       "4             20.209467    20.48\n",
       "...                 ...      ...\n",
       "7195          26.081543    26.24\n",
       "7196          25.776794    25.95\n",
       "7197          26.446590    26.85\n",
       "7198          26.141893    26.73\n",
       "7199          26.105696    26.77\n",
       "\n",
       "[7200 rows x 2 columns]"
      ]
     },
     "execution_count": 60,
     "metadata": {},
     "output_type": "execute_result"
    }
   ],
   "source": [
    "train_predictions = model.predict(X_train).flatten()\n",
    "ytrain1= y_train.flatten()\n",
    "train_results = pd.DataFrame(data = {'Train Predictions': train_predictions, 'Actuals': ytrain1})\n",
    "train_results"
   ]
  },
  {
   "cell_type": "code",
   "execution_count": 61,
   "metadata": {},
   "outputs": [
    {
     "data": {
      "text/plain": [
       "{'MSE': 0.04498370118092158,\n",
       " 'RMSE': 0.21209361419175632,\n",
       " 'MAE': 0.1489545031229655,\n",
       " 'R² Score': 0.997490868256182,\n",
       " 'Bias': 0.022159537114037408,\n",
       " 'Variance': 0.044492656095813175}"
      ]
     },
     "execution_count": 61,
     "metadata": {},
     "output_type": "execute_result"
    }
   ],
   "source": [
    "compute_metrics(ytrain1, train_predictions)"
   ]
  },
  {
   "cell_type": "code",
   "execution_count": 62,
   "metadata": {},
   "outputs": [
    {
     "data": {
      "text/plain": [
       "[<matplotlib.lines.Line2D at 0x18f76112610>]"
      ]
     },
     "execution_count": 62,
     "metadata": {},
     "output_type": "execute_result"
    },
    {
     "data": {
      "image/png": "[encoded data removed]",
      "text/plain": [
       "<Figure size 640x480 with 1 Axes>"
      ]
     },
     "metadata": {},
     "output_type": "display_data"
    }
   ],
   "source": [
    "plt.plot(train_results['Train Predictions'][:], color= 'red')\n",
    "plt.plot(train_results['Actuals'][:], color= 'lightblue')"
   ]
  },
  {
   "cell_type": "code",
   "execution_count": 63,
   "metadata": {},
   "outputs": [
    {
     "name": "stdout",
     "output_type": "stream",
     "text": [
      "5/5 [==============================] - 0s 1ms/step\n"
     ]
    },
    {
     "data": {
      "text/html": [
       "<div>\n",
       "<style scoped>\n",
       "    .dataframe tbody tr th:only-of-type {\n",
       "        vertical-align: middle;\n",
       "    }\n",
       "\n",
       "    .dataframe tbody tr th {\n",
       "        vertical-align: top;\n",
       "    }\n",
       "\n",
       "    .dataframe thead th {\n",
       "        text-align: right;\n",
       "    }\n",
       "</style>\n",
       "<table border=\"1\" class=\"dataframe\">\n",
       "  <thead>\n",
       "    <tr style=\"text-align: right;\">\n",
       "      <th></th>\n",
       "      <th>Val Predictions</th>\n",
       "      <th>Val Actuals</th>\n",
       "    </tr>\n",
       "  </thead>\n",
       "  <tbody>\n",
       "    <tr>\n",
       "      <th>0</th>\n",
       "      <td>26.169655</td>\n",
       "      <td>26.20</td>\n",
       "    </tr>\n",
       "    <tr>\n",
       "      <th>1</th>\n",
       "      <td>26.826418</td>\n",
       "      <td>26.80</td>\n",
       "    </tr>\n",
       "    <tr>\n",
       "      <th>2</th>\n",
       "      <td>26.472561</td>\n",
       "      <td>26.27</td>\n",
       "    </tr>\n",
       "    <tr>\n",
       "      <th>3</th>\n",
       "      <td>26.460516</td>\n",
       "      <td>26.77</td>\n",
       "    </tr>\n",
       "    <tr>\n",
       "      <th>4</th>\n",
       "      <td>26.081827</td>\n",
       "      <td>26.20</td>\n",
       "    </tr>\n",
       "    <tr>\n",
       "      <th>...</th>\n",
       "      <td>...</td>\n",
       "      <td>...</td>\n",
       "    </tr>\n",
       "    <tr>\n",
       "      <th>595</th>\n",
       "      <td>22.689104</td>\n",
       "      <td>22.70</td>\n",
       "    </tr>\n",
       "    <tr>\n",
       "      <th>596</th>\n",
       "      <td>22.420055</td>\n",
       "      <td>22.56</td>\n",
       "    </tr>\n",
       "    <tr>\n",
       "      <th>597</th>\n",
       "      <td>22.995701</td>\n",
       "      <td>23.08</td>\n",
       "    </tr>\n",
       "    <tr>\n",
       "      <th>598</th>\n",
       "      <td>22.720314</td>\n",
       "      <td>22.62</td>\n",
       "    </tr>\n",
       "    <tr>\n",
       "      <th>599</th>\n",
       "      <td>22.698969</td>\n",
       "      <td>22.67</td>\n",
       "    </tr>\n",
       "  </tbody>\n",
       "</table>\n",
       "<p>600 rows × 2 columns</p>\n",
       "</div>"
      ],
      "text/plain": [
       "     Val Predictions  Val Actuals\n",
       "0          26.169655        26.20\n",
       "1          26.826418        26.80\n",
       "2          26.472561        26.27\n",
       "3          26.460516        26.77\n",
       "4          26.081827        26.20\n",
       "..               ...          ...\n",
       "595        22.689104        22.70\n",
       "596        22.420055        22.56\n",
       "597        22.995701        23.08\n",
       "598        22.720314        22.62\n",
       "599        22.698969        22.67\n",
       "\n",
       "[600 rows x 2 columns]"
      ]
     },
     "execution_count": 63,
     "metadata": {},
     "output_type": "execute_result"
    }
   ],
   "source": [
    "val_predictions= model.predict(X_val).flatten()\n",
    "y_val1=y_val.flatten()\n",
    "val_results=pd.DataFrame(data={'Val Predictions': val_predictions, 'Val Actuals': y_val1})\n",
    "val_results"
   ]
  },
  {
   "cell_type": "code",
   "execution_count": 64,
   "metadata": {},
   "outputs": [
    {
     "data": {
      "text/plain": [
       "{'MSE': 0.1407214942368474,\n",
       " 'RMSE': 0.37512863691918724,\n",
       " 'MAE': 0.2777336949666341,\n",
       " 'R² Score': 0.9765008692522725,\n",
       " 'Bias': -0.09391516062418613,\n",
       " 'Variance': 0.13190143684178074}"
      ]
     },
     "execution_count": 64,
     "metadata": {},
     "output_type": "execute_result"
    }
   ],
   "source": [
    "compute_metrics(y_val1, val_predictions)"
   ]
  },
  {
   "cell_type": "code",
   "execution_count": 65,
   "metadata": {},
   "outputs": [
    {
     "data": {
      "text/plain": [
       "[<matplotlib.lines.Line2D at 0x18f7620f790>]"
      ]
     },
     "execution_count": 65,
     "metadata": {},
     "output_type": "execute_result"
    },
    {
     "data": {
      "image/png": "[encoded data removed]",
      "text/plain": [
       "<Figure size 640x480 with 1 Axes>"
      ]
     },
     "metadata": {},
     "output_type": "display_data"
    }
   ],
   "source": [
    "plt.plot(val_results['Val Predictions'][:], color='red')\n",
    "plt.plot(val_results['Val Actuals'][:], color='lightblue')"
   ]
  },
  {
   "cell_type": "code",
   "execution_count": 66,
   "metadata": {},
   "outputs": [
    {
     "name": "stdout",
     "output_type": "stream",
     "text": [
      "4/4 [==============================] - 0s 2ms/step\n"
     ]
    },
    {
     "data": {
      "text/html": [
       "<div>\n",
       "<style scoped>\n",
       "    .dataframe tbody tr th:only-of-type {\n",
       "        vertical-align: middle;\n",
       "    }\n",
       "\n",
       "    .dataframe tbody tr th {\n",
       "        vertical-align: top;\n",
       "    }\n",
       "\n",
       "    .dataframe thead th {\n",
       "        text-align: right;\n",
       "    }\n",
       "</style>\n",
       "<table border=\"1\" class=\"dataframe\">\n",
       "  <thead>\n",
       "    <tr style=\"text-align: right;\">\n",
       "      <th></th>\n",
       "      <th>Test Predictions</th>\n",
       "      <th>Test Actuals</th>\n",
       "    </tr>\n",
       "  </thead>\n",
       "  <tbody>\n",
       "    <tr>\n",
       "      <th>0</th>\n",
       "      <td>22.414530</td>\n",
       "      <td>22.45</td>\n",
       "    </tr>\n",
       "    <tr>\n",
       "      <th>1</th>\n",
       "      <td>22.985325</td>\n",
       "      <td>23.45</td>\n",
       "    </tr>\n",
       "    <tr>\n",
       "      <th>2</th>\n",
       "      <td>22.701059</td>\n",
       "      <td>23.15</td>\n",
       "    </tr>\n",
       "    <tr>\n",
       "      <th>3</th>\n",
       "      <td>22.684792</td>\n",
       "      <td>23.24</td>\n",
       "    </tr>\n",
       "    <tr>\n",
       "      <th>4</th>\n",
       "      <td>22.928963</td>\n",
       "      <td>23.12</td>\n",
       "    </tr>\n",
       "  </tbody>\n",
       "</table>\n",
       "</div>"
      ],
      "text/plain": [
       "   Test Predictions  Test Actuals\n",
       "0         22.414530         22.45\n",
       "1         22.985325         23.45\n",
       "2         22.701059         23.15\n",
       "3         22.684792         23.24\n",
       "4         22.928963         23.12"
      ]
     },
     "execution_count": 66,
     "metadata": {},
     "output_type": "execute_result"
    }
   ],
   "source": [
    "test_predictions = model.predict(X_test).flatten()\n",
    "ytest1=y_test.flatten()\n",
    "test_results = pd.DataFrame(data={'Test Predictions': test_predictions, 'Test Actuals': ytest1})\n",
    "test_results=test_results.dropna()\n",
    "test_results.head()"
   ]
  },
  {
   "cell_type": "code",
   "execution_count": 67,
   "metadata": {},
   "outputs": [
    {
     "data": {
      "text/plain": [
       "{'MSE': 0.10005957470511666,\n",
       " 'RMSE': 0.3163219478713367,\n",
       " 'MAE': 0.21206543965309024,\n",
       " 'R² Score': 0.960592860588067,\n",
       " 'Bias': 0.035384361218078766,\n",
       " 'Variance': 0.09880752168630522}"
      ]
     },
     "execution_count": 67,
     "metadata": {},
     "output_type": "execute_result"
    }
   ],
   "source": [
    "compute_metrics(test_results['Test Actuals'], test_results['Test Predictions'])"
   ]
  },
  {
   "cell_type": "code",
   "execution_count": 68,
   "metadata": {},
   "outputs": [
    {
     "data": {
      "text/plain": [
       "[<matplotlib.lines.Line2D at 0x18f76280bb0>]"
      ]
     },
     "execution_count": 68,
     "metadata": {},
     "output_type": "execute_result"
    },
    {
     "data": {
      "image/png": "[encoded data removed]",
      "text/plain": [
       "<Figure size 640x480 with 1 Axes>"
      ]
     },
     "metadata": {},
     "output_type": "display_data"
    }
   ],
   "source": [
    "plt.plot(test_results['Test Predictions'][:], color='red')\n",
    "plt.plot(test_results['Test Actuals'][:], color='lightblue')"
   ]
  },
  {
   "cell_type": "code",
   "execution_count": 69,
   "metadata": {},
   "outputs": [
    {
     "name": "stdout",
     "output_type": "stream",
     "text": [
      "2/2 [==============================] - 0s 3ms/step\n"
     ]
    }
   ],
   "source": [
    "future_days=45\n",
    "forecast_date=pd.date_range(list(df.index)[-1], periods=future_days, freq='B').tolist()\n",
    "forecast=model.predict(X[-future_days:])"
   ]
  },
  {
   "cell_type": "code",
   "execution_count": 70,
   "metadata": {},
   "outputs": [],
   "source": [
    "forecast_copied=np.repeat(forecast, X.shape[1], axis=-1)\n",
    "y_pred_futures=forecast_copied[:, 0]"
   ]
  },
  {
   "cell_type": "code",
   "execution_count": 71,
   "metadata": {},
   "outputs": [],
   "source": [
    "dates=[]\n",
    "for i in forecast_date:\n",
    "    dates.append(i.date())"
   ]
  },
  {
   "cell_type": "code",
   "execution_count": 72,
   "metadata": {},
   "outputs": [],
   "source": [
    "df_forecast=pd.DataFrame({'Date': np.array(dates), 'Open': y_pred_futures})"
   ]
  },
  {
   "cell_type": "code",
   "execution_count": 74,
   "metadata": {},
   "outputs": [
    {
     "name": "stderr",
     "output_type": "stream",
     "text": [
      "C:\\Users\\Hp\\AppData\\Local\\Temp\\ipykernel_14996\\2887319462.py:2: SettingWithCopyWarning: \n",
      "A value is trying to be set on a copy of a slice from a DataFrame.\n",
      "Try using .loc[row_indexer,col_indexer] = value instead\n",
      "\n",
      "See the caveats in the documentation: https://pandas.pydata.org/pandas-docs/stable/user_guide/indexing.html#returning-a-view-versus-a-copy\n",
      "  original['date']=pd.to_datetime(df.index)\n"
     ]
    }
   ],
   "source": [
    "original=df[['open']]\n",
    "original['date']=pd.to_datetime(df.index)\n",
    "original=original.loc[original['date']>='2024-02-01']"
   ]
  },
  {
   "cell_type": "code",
   "execution_count": 75,
   "metadata": {},
   "outputs": [
    {
     "data": {
      "text/plain": [
       "Text(0, 0.5, 'Open Price')"
      ]
     },
     "execution_count": 75,
     "metadata": {},
     "output_type": "execute_result"
    },
    {
     "data": {
      "image/png": "[encoded data removed]",
      "text/plain": [
       "<Figure size 1400x700 with 1 Axes>"
      ]
     },
     "metadata": {},
     "output_type": "display_data"
    }
   ],
   "source": [
    "import seaborn as sns\n",
    "plt.figure(figsize=(14, 7))\n",
    "sns.lineplot(x=original['date'], y=original['open'], label='Original')\n",
    "sns.lineplot(x=df_forecast['Date'], y=df_forecast['Open'], label='Forecast')\n",
    "plt.xlabel('Date')\n",
    "plt.ylabel('Open Price')"
   ]
  }
 ],
 "metadata": {
  "kernelspec": {
   "display_name": "AI_ML",
   "language": "python",
   "name": "python3"
  },
  "language_info": {
   "codemirror_mode": {
    "name": "ipython",
    "version": 3
   },
   "file_extension": ".py",
   "mimetype": "text/x-python",
   "name": "python",
   "nbconvert_exporter": "python",
   "pygments_lexer": "ipython3",
   "version": "3.9.18"
  }
 },
 "nbformat": 4,
 "nbformat_minor": 2
}
