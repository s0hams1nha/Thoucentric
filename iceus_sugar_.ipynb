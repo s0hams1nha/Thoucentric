{
 "cells": [
  {
   "cell_type": "code",
   "execution_count": 88,
   "metadata": {},
   "outputs": [],
   "source": [
    "import pandas as pd\n",
    "import numpy as np\n",
    "import matplotlib.pyplot as plt\n",
    "import tensorflow as tf\n",
    "import os"
   ]
  },
  {
   "cell_type": "code",
   "execution_count": 89,
   "metadata": {},
   "outputs": [],
   "source": [
    "os.chdir('C:\\\\Users\\\\Hp\\\\OneDrive\\\\Documents\\\\GitHub\\\\Thoucentric\\\\DataSets')"
   ]
  },
  {
   "cell_type": "code",
   "execution_count": 90,
   "metadata": {},
   "outputs": [
    {
     "data": {
      "text/html": [
       "<div>\n",
       "<style scoped>\n",
       "    .dataframe tbody tr th:only-of-type {\n",
       "        vertical-align: middle;\n",
       "    }\n",
       "\n",
       "    .dataframe tbody tr th {\n",
       "        vertical-align: top;\n",
       "    }\n",
       "\n",
       "    .dataframe thead th {\n",
       "        text-align: right;\n",
       "    }\n",
       "</style>\n",
       "<table border=\"1\" class=\"dataframe\">\n",
       "  <thead>\n",
       "    <tr style=\"text-align: right;\">\n",
       "      <th></th>\n",
       "      <th>datapoint_name</th>\n",
       "      <th>date</th>\n",
       "      <th>low</th>\n",
       "      <th>high</th>\n",
       "      <th>close</th>\n",
       "      <th>open</th>\n",
       "    </tr>\n",
       "  </thead>\n",
       "  <tbody>\n",
       "    <tr>\n",
       "      <th>0</th>\n",
       "      <td>ICEUS Sugar #11 LOW</td>\n",
       "      <td>2017-01-03T00:00:00.000Z</td>\n",
       "      <td>19.58</td>\n",
       "      <td>20.55</td>\n",
       "      <td>20.51</td>\n",
       "      <td>19.63</td>\n",
       "    </tr>\n",
       "    <tr>\n",
       "      <th>1</th>\n",
       "      <td>ICEUS Sugar #11 LOW</td>\n",
       "      <td>2017-01-04T00:00:00.000Z</td>\n",
       "      <td>20.41</td>\n",
       "      <td>20.94</td>\n",
       "      <td>20.89</td>\n",
       "      <td>20.55</td>\n",
       "    </tr>\n",
       "    <tr>\n",
       "      <th>2</th>\n",
       "      <td>ICEUS Sugar #11 LOW</td>\n",
       "      <td>2017-01-05T00:00:00.000Z</td>\n",
       "      <td>20.66</td>\n",
       "      <td>21.18</td>\n",
       "      <td>20.78</td>\n",
       "      <td>20.89</td>\n",
       "    </tr>\n",
       "    <tr>\n",
       "      <th>3</th>\n",
       "      <td>ICEUS Sugar #11 LOW</td>\n",
       "      <td>2017-01-06T00:00:00.000Z</td>\n",
       "      <td>20.30</td>\n",
       "      <td>20.84</td>\n",
       "      <td>20.75</td>\n",
       "      <td>20.66</td>\n",
       "    </tr>\n",
       "    <tr>\n",
       "      <th>4</th>\n",
       "      <td>ICEUS Sugar #11 LOW</td>\n",
       "      <td>2017-01-09T00:00:00.000Z</td>\n",
       "      <td>20.36</td>\n",
       "      <td>20.75</td>\n",
       "      <td>20.42</td>\n",
       "      <td>20.74</td>\n",
       "    </tr>\n",
       "  </tbody>\n",
       "</table>\n",
       "</div>"
      ],
      "text/plain": [
       "        datapoint_name                      date    low   high  close   open\n",
       "0  ICEUS Sugar #11 LOW  2017-01-03T00:00:00.000Z  19.58  20.55  20.51  19.63\n",
       "1  ICEUS Sugar #11 LOW  2017-01-04T00:00:00.000Z  20.41  20.94  20.89  20.55\n",
       "2  ICEUS Sugar #11 LOW  2017-01-05T00:00:00.000Z  20.66  21.18  20.78  20.89\n",
       "3  ICEUS Sugar #11 LOW  2017-01-06T00:00:00.000Z  20.30  20.84  20.75  20.66\n",
       "4  ICEUS Sugar #11 LOW  2017-01-09T00:00:00.000Z  20.36  20.75  20.42  20.74"
      ]
     },
     "execution_count": 90,
     "metadata": {},
     "output_type": "execute_result"
    }
   ],
   "source": [
    "df=pd.read_csv('Iceus_sugar_all.csv')\n",
    "df.head()"
   ]
  },
  {
   "cell_type": "code",
   "execution_count": 91,
   "metadata": {},
   "outputs": [
    {
     "data": {
      "text/html": [
       "<div>\n",
       "<style scoped>\n",
       "    .dataframe tbody tr th:only-of-type {\n",
       "        vertical-align: middle;\n",
       "    }\n",
       "\n",
       "    .dataframe tbody tr th {\n",
       "        vertical-align: top;\n",
       "    }\n",
       "\n",
       "    .dataframe thead th {\n",
       "        text-align: right;\n",
       "    }\n",
       "</style>\n",
       "<table border=\"1\" class=\"dataframe\">\n",
       "  <thead>\n",
       "    <tr style=\"text-align: right;\">\n",
       "      <th></th>\n",
       "      <th>low</th>\n",
       "      <th>high</th>\n",
       "      <th>close</th>\n",
       "      <th>open</th>\n",
       "    </tr>\n",
       "    <tr>\n",
       "      <th>date</th>\n",
       "      <th></th>\n",
       "      <th></th>\n",
       "      <th></th>\n",
       "      <th></th>\n",
       "    </tr>\n",
       "  </thead>\n",
       "  <tbody>\n",
       "    <tr>\n",
       "      <th>2017-01-03 00:00:00+00:00</th>\n",
       "      <td>19.58</td>\n",
       "      <td>20.55</td>\n",
       "      <td>20.51</td>\n",
       "      <td>19.63</td>\n",
       "    </tr>\n",
       "    <tr>\n",
       "      <th>2017-01-04 00:00:00+00:00</th>\n",
       "      <td>20.41</td>\n",
       "      <td>20.94</td>\n",
       "      <td>20.89</td>\n",
       "      <td>20.55</td>\n",
       "    </tr>\n",
       "    <tr>\n",
       "      <th>2017-01-05 00:00:00+00:00</th>\n",
       "      <td>20.66</td>\n",
       "      <td>21.18</td>\n",
       "      <td>20.78</td>\n",
       "      <td>20.89</td>\n",
       "    </tr>\n",
       "    <tr>\n",
       "      <th>2017-01-06 00:00:00+00:00</th>\n",
       "      <td>20.30</td>\n",
       "      <td>20.84</td>\n",
       "      <td>20.75</td>\n",
       "      <td>20.66</td>\n",
       "    </tr>\n",
       "    <tr>\n",
       "      <th>2017-01-09 00:00:00+00:00</th>\n",
       "      <td>20.36</td>\n",
       "      <td>20.75</td>\n",
       "      <td>20.42</td>\n",
       "      <td>20.74</td>\n",
       "    </tr>\n",
       "  </tbody>\n",
       "</table>\n",
       "</div>"
      ],
      "text/plain": [
       "                             low   high  close   open\n",
       "date                                                 \n",
       "2017-01-03 00:00:00+00:00  19.58  20.55  20.51  19.63\n",
       "2017-01-04 00:00:00+00:00  20.41  20.94  20.89  20.55\n",
       "2017-01-05 00:00:00+00:00  20.66  21.18  20.78  20.89\n",
       "2017-01-06 00:00:00+00:00  20.30  20.84  20.75  20.66\n",
       "2017-01-09 00:00:00+00:00  20.36  20.75  20.42  20.74"
      ]
     },
     "execution_count": 91,
     "metadata": {},
     "output_type": "execute_result"
    }
   ],
   "source": [
    "df.index=pd.to_datetime(df['date'], format='ISO8601')\n",
    "df=df.drop(columns=['date', 'datapoint_name'])\n",
    "df.head()"
   ]
  },
  {
   "cell_type": "code",
   "execution_count": 92,
   "metadata": {},
   "outputs": [],
   "source": [
    "def df_to_X_y(df, window_size):\n",
    "  df_as_np = df.to_numpy()\n",
    "  X = []\n",
    "  y = []\n",
    "  for i in range(len(df_as_np)-window_size):\n",
    "    row = [[a] for a in df_as_np[i:i+window_size]]\n",
    "    X.append(row)\n",
    "    label = df_as_np[i+window_size]\n",
    "    y.append(label)\n",
    "  return np.array(X), np.array(y)"
   ]
  },
  {
   "cell_type": "code",
   "execution_count": 93,
   "metadata": {},
   "outputs": [
    {
     "data": {
      "text/plain": [
       "((2067, 5, 1, 4), (2067, 4))"
      ]
     },
     "execution_count": 93,
     "metadata": {},
     "output_type": "execute_result"
    }
   ],
   "source": [
    "windowsize=5\n",
    "X, y= df_to_X_y(df, windowsize)\n",
    "X.shape, y.shape"
   ]
  },
  {
   "cell_type": "code",
   "execution_count": 94,
   "metadata": {},
   "outputs": [
    {
     "data": {
      "text/plain": [
       "((2067, 5, 4), (2067, 4))"
      ]
     },
     "execution_count": 94,
     "metadata": {},
     "output_type": "execute_result"
    }
   ],
   "source": [
    "X=X.reshape(X.shape[0], X.shape[1], X.shape[3])\n",
    "X.shape, y.shape"
   ]
  },
  {
   "cell_type": "code",
   "execution_count": 95,
   "metadata": {},
   "outputs": [
    {
     "data": {
      "text/plain": [
       "((1800, 5, 4), (1800, 4), (150, 5, 4), (150, 4), (117, 5, 4), (117, 4))"
      ]
     },
     "execution_count": 95,
     "metadata": {},
     "output_type": "execute_result"
    }
   ],
   "source": [
    "X_train, y_train = X[:1800], y[:1800]\n",
    "X_val, y_val = X[1800:1950], y[1800:1950]\n",
    "X_test, y_test = X[1950:], y[1950:]\n",
    "X_train.shape, y_train.shape, X_val.shape, y_val.shape, X_test.shape, y_test.shape"
   ]
  },
  {
   "cell_type": "code",
   "execution_count": 96,
   "metadata": {},
   "outputs": [],
   "source": [
    "from keras.models import Sequential\n",
    "from keras.layers import *\n",
    "from keras.losses import MeanSquaredError\n",
    "from keras.metrics import RootMeanSquaredError\n",
    "from keras.optimizers import Adam"
   ]
  },
  {
   "cell_type": "code",
   "execution_count": 97,
   "metadata": {},
   "outputs": [
    {
     "name": "stdout",
     "output_type": "stream",
     "text": [
      "Model: \"sequential_5\"\n",
      "_________________________________________________________________\n",
      " Layer (type)                Output Shape              Param #   \n",
      "=================================================================\n",
      " lstm_5 (LSTM)               (None, 64)                17664     \n",
      "                                                                 \n",
      " dense_10 (Dense)            (None, 8)                 520       \n",
      "                                                                 \n",
      " dense_11 (Dense)            (None, 4)                 36        \n",
      "                                                                 \n",
      "=================================================================\n",
      "Total params: 18,220\n",
      "Trainable params: 18,220\n",
      "Non-trainable params: 0\n",
      "_________________________________________________________________\n"
     ]
    }
   ],
   "source": [
    "model = Sequential()\n",
    "model.add(InputLayer((windowsize, X_train.shape[2])))  # (5, 4)\n",
    "model.add(LSTM(64))\n",
    "model.add(Dense(8, activation='relu'))\n",
    "model.add(Dense(y_train.shape[1], activation='linear'))  # 15 features in the output\n",
    "model.summary()"
   ]
  },
  {
   "cell_type": "code",
   "execution_count": 98,
   "metadata": {},
   "outputs": [
    {
     "name": "stdout",
     "output_type": "stream",
     "text": [
      "Epoch 1/110\n",
      "57/57 [==============================] - 2s 10ms/step - loss: 269.3752 - root_mean_squared_error: 16.4127 - val_loss: 549.9183 - val_root_mean_squared_error: 23.4503\n",
      "Epoch 2/110\n",
      "57/57 [==============================] - 0s 3ms/step - loss: 215.9486 - root_mean_squared_error: 14.6952 - val_loss: 428.8277 - val_root_mean_squared_error: 20.7082\n",
      "Epoch 3/110\n",
      "57/57 [==============================] - 0s 3ms/step - loss: 115.3544 - root_mean_squared_error: 10.7403 - val_loss: 237.6734 - val_root_mean_squared_error: 15.4167\n",
      "Epoch 4/110\n",
      "57/57 [==============================] - 0s 3ms/step - loss: 45.3461 - root_mean_squared_error: 6.7339 - val_loss: 127.9228 - val_root_mean_squared_error: 11.3103\n",
      "Epoch 5/110\n",
      "57/57 [==============================] - 0s 3ms/step - loss: 23.4830 - root_mean_squared_error: 4.8459 - val_loss: 86.8996 - val_root_mean_squared_error: 9.3220\n",
      "Epoch 6/110\n",
      "57/57 [==============================] - 0s 3ms/step - loss: 17.5274 - root_mean_squared_error: 4.1866 - val_loss: 72.6629 - val_root_mean_squared_error: 8.5243\n",
      "Epoch 7/110\n",
      "57/57 [==============================] - 0s 3ms/step - loss: 8.2485 - root_mean_squared_error: 2.8720 - val_loss: 42.0822 - val_root_mean_squared_error: 6.4871\n",
      "Epoch 8/110\n",
      "57/57 [==============================] - 0s 3ms/step - loss: 3.7280 - root_mean_squared_error: 1.9308 - val_loss: 25.5957 - val_root_mean_squared_error: 5.0592\n",
      "Epoch 9/110\n",
      "57/57 [==============================] - 0s 3ms/step - loss: 2.0613 - root_mean_squared_error: 1.4357 - val_loss: 15.3436 - val_root_mean_squared_error: 3.9171\n",
      "Epoch 10/110\n",
      "57/57 [==============================] - 0s 3ms/step - loss: 1.0767 - root_mean_squared_error: 1.0376 - val_loss: 8.1633 - val_root_mean_squared_error: 2.8571\n",
      "Epoch 11/110\n",
      "57/57 [==============================] - 0s 3ms/step - loss: 0.4946 - root_mean_squared_error: 0.7032 - val_loss: 4.1234 - val_root_mean_squared_error: 2.0306\n",
      "Epoch 12/110\n",
      "57/57 [==============================] - 0s 3ms/step - loss: 0.2400 - root_mean_squared_error: 0.4899 - val_loss: 2.2886 - val_root_mean_squared_error: 1.5128\n",
      "Epoch 13/110\n",
      "57/57 [==============================] - 0s 3ms/step - loss: 0.1557 - root_mean_squared_error: 0.3946 - val_loss: 1.3394 - val_root_mean_squared_error: 1.1573\n",
      "Epoch 14/110\n",
      "57/57 [==============================] - 0s 3ms/step - loss: 0.1231 - root_mean_squared_error: 0.3508 - val_loss: 1.0661 - val_root_mean_squared_error: 1.0325\n",
      "Epoch 15/110\n",
      "57/57 [==============================] - 0s 3ms/step - loss: 0.1027 - root_mean_squared_error: 0.3205 - val_loss: 0.7174 - val_root_mean_squared_error: 0.8470\n",
      "Epoch 16/110\n",
      "57/57 [==============================] - 0s 3ms/step - loss: 0.1058 - root_mean_squared_error: 0.3253 - val_loss: 0.5718 - val_root_mean_squared_error: 0.7562\n",
      "Epoch 17/110\n",
      "57/57 [==============================] - 0s 3ms/step - loss: 0.0854 - root_mean_squared_error: 0.2922 - val_loss: 0.5108 - val_root_mean_squared_error: 0.7147\n",
      "Epoch 18/110\n",
      "57/57 [==============================] - 0s 3ms/step - loss: 0.0845 - root_mean_squared_error: 0.2906 - val_loss: 0.5317 - val_root_mean_squared_error: 0.7292\n",
      "Epoch 19/110\n",
      "57/57 [==============================] - 0s 3ms/step - loss: 0.0877 - root_mean_squared_error: 0.2962 - val_loss: 0.4031 - val_root_mean_squared_error: 0.6349\n",
      "Epoch 20/110\n",
      "57/57 [==============================] - 0s 3ms/step - loss: 0.0759 - root_mean_squared_error: 0.2756 - val_loss: 0.3679 - val_root_mean_squared_error: 0.6066\n",
      "Epoch 21/110\n",
      "57/57 [==============================] - 0s 3ms/step - loss: 0.0681 - root_mean_squared_error: 0.2609 - val_loss: 0.4213 - val_root_mean_squared_error: 0.6490\n",
      "Epoch 22/110\n",
      "57/57 [==============================] - 0s 3ms/step - loss: 0.0686 - root_mean_squared_error: 0.2619 - val_loss: 0.3093 - val_root_mean_squared_error: 0.5562\n",
      "Epoch 23/110\n",
      "57/57 [==============================] - 0s 3ms/step - loss: 0.0652 - root_mean_squared_error: 0.2553 - val_loss: 0.2805 - val_root_mean_squared_error: 0.5297\n",
      "Epoch 24/110\n",
      "57/57 [==============================] - 0s 3ms/step - loss: 0.0663 - root_mean_squared_error: 0.2575 - val_loss: 0.3011 - val_root_mean_squared_error: 0.5487\n",
      "Epoch 25/110\n",
      "57/57 [==============================] - 0s 3ms/step - loss: 0.0651 - root_mean_squared_error: 0.2552 - val_loss: 0.2823 - val_root_mean_squared_error: 0.5314\n",
      "Epoch 26/110\n",
      "57/57 [==============================] - 0s 3ms/step - loss: 0.0619 - root_mean_squared_error: 0.2488 - val_loss: 0.2893 - val_root_mean_squared_error: 0.5379\n",
      "Epoch 27/110\n",
      "57/57 [==============================] - 0s 3ms/step - loss: 0.0596 - root_mean_squared_error: 0.2441 - val_loss: 0.2511 - val_root_mean_squared_error: 0.5011\n",
      "Epoch 28/110\n",
      "57/57 [==============================] - 0s 3ms/step - loss: 0.0638 - root_mean_squared_error: 0.2526 - val_loss: 0.2532 - val_root_mean_squared_error: 0.5032\n",
      "Epoch 29/110\n",
      "57/57 [==============================] - 0s 3ms/step - loss: 0.0620 - root_mean_squared_error: 0.2491 - val_loss: 0.2232 - val_root_mean_squared_error: 0.4724\n",
      "Epoch 30/110\n",
      "57/57 [==============================] - 0s 3ms/step - loss: 0.0621 - root_mean_squared_error: 0.2492 - val_loss: 0.2288 - val_root_mean_squared_error: 0.4783\n",
      "Epoch 31/110\n",
      "57/57 [==============================] - 0s 3ms/step - loss: 0.0590 - root_mean_squared_error: 0.2430 - val_loss: 0.2149 - val_root_mean_squared_error: 0.4636\n",
      "Epoch 32/110\n",
      "57/57 [==============================] - 0s 3ms/step - loss: 0.0605 - root_mean_squared_error: 0.2461 - val_loss: 0.2029 - val_root_mean_squared_error: 0.4504\n",
      "Epoch 33/110\n",
      "57/57 [==============================] - 0s 3ms/step - loss: 0.0615 - root_mean_squared_error: 0.2480 - val_loss: 0.1956 - val_root_mean_squared_error: 0.4422\n",
      "Epoch 34/110\n",
      "57/57 [==============================] - 0s 3ms/step - loss: 0.0573 - root_mean_squared_error: 0.2393 - val_loss: 0.2176 - val_root_mean_squared_error: 0.4665\n",
      "Epoch 35/110\n",
      "57/57 [==============================] - 0s 3ms/step - loss: 0.0584 - root_mean_squared_error: 0.2417 - val_loss: 0.2201 - val_root_mean_squared_error: 0.4692\n",
      "Epoch 36/110\n",
      "57/57 [==============================] - 0s 3ms/step - loss: 0.0550 - root_mean_squared_error: 0.2346 - val_loss: 0.1809 - val_root_mean_squared_error: 0.4253\n",
      "Epoch 37/110\n",
      "57/57 [==============================] - 0s 2ms/step - loss: 0.0544 - root_mean_squared_error: 0.2332 - val_loss: 0.1851 - val_root_mean_squared_error: 0.4302\n",
      "Epoch 38/110\n",
      "57/57 [==============================] - 0s 3ms/step - loss: 0.0582 - root_mean_squared_error: 0.2413 - val_loss: 0.1902 - val_root_mean_squared_error: 0.4361\n",
      "Epoch 39/110\n",
      "57/57 [==============================] - 0s 3ms/step - loss: 0.0606 - root_mean_squared_error: 0.2461 - val_loss: 0.2208 - val_root_mean_squared_error: 0.4699\n",
      "Epoch 40/110\n",
      "57/57 [==============================] - 0s 3ms/step - loss: 0.0537 - root_mean_squared_error: 0.2318 - val_loss: 0.2155 - val_root_mean_squared_error: 0.4642\n",
      "Epoch 41/110\n",
      "57/57 [==============================] - 0s 3ms/step - loss: 0.0559 - root_mean_squared_error: 0.2365 - val_loss: 0.1947 - val_root_mean_squared_error: 0.4413\n",
      "Epoch 42/110\n",
      "57/57 [==============================] - 0s 3ms/step - loss: 0.0520 - root_mean_squared_error: 0.2281 - val_loss: 0.1680 - val_root_mean_squared_error: 0.4099\n",
      "Epoch 43/110\n",
      "57/57 [==============================] - 0s 3ms/step - loss: 0.0572 - root_mean_squared_error: 0.2392 - val_loss: 0.2226 - val_root_mean_squared_error: 0.4718\n",
      "Epoch 44/110\n",
      "57/57 [==============================] - 0s 3ms/step - loss: 0.0520 - root_mean_squared_error: 0.2280 - val_loss: 0.1861 - val_root_mean_squared_error: 0.4314\n",
      "Epoch 45/110\n",
      "57/57 [==============================] - 0s 3ms/step - loss: 0.0538 - root_mean_squared_error: 0.2319 - val_loss: 0.1638 - val_root_mean_squared_error: 0.4047\n",
      "Epoch 46/110\n",
      "57/57 [==============================] - 0s 3ms/step - loss: 0.0506 - root_mean_squared_error: 0.2248 - val_loss: 0.1672 - val_root_mean_squared_error: 0.4089\n",
      "Epoch 47/110\n",
      "57/57 [==============================] - 0s 3ms/step - loss: 0.0529 - root_mean_squared_error: 0.2300 - val_loss: 0.2281 - val_root_mean_squared_error: 0.4776\n",
      "Epoch 48/110\n",
      "57/57 [==============================] - 0s 3ms/step - loss: 0.0530 - root_mean_squared_error: 0.2303 - val_loss: 0.1579 - val_root_mean_squared_error: 0.3974\n",
      "Epoch 49/110\n",
      "57/57 [==============================] - 0s 3ms/step - loss: 0.0512 - root_mean_squared_error: 0.2263 - val_loss: 0.1508 - val_root_mean_squared_error: 0.3883\n",
      "Epoch 50/110\n",
      "57/57 [==============================] - 0s 3ms/step - loss: 0.0562 - root_mean_squared_error: 0.2370 - val_loss: 0.1609 - val_root_mean_squared_error: 0.4011\n",
      "Epoch 51/110\n",
      "57/57 [==============================] - 0s 3ms/step - loss: 0.0524 - root_mean_squared_error: 0.2289 - val_loss: 0.1513 - val_root_mean_squared_error: 0.3890\n",
      "Epoch 52/110\n",
      "57/57 [==============================] - 0s 3ms/step - loss: 0.0533 - root_mean_squared_error: 0.2309 - val_loss: 0.1767 - val_root_mean_squared_error: 0.4203\n",
      "Epoch 53/110\n",
      "57/57 [==============================] - 0s 3ms/step - loss: 0.0547 - root_mean_squared_error: 0.2340 - val_loss: 0.1709 - val_root_mean_squared_error: 0.4134\n",
      "Epoch 54/110\n",
      "57/57 [==============================] - 0s 3ms/step - loss: 0.0527 - root_mean_squared_error: 0.2296 - val_loss: 0.1786 - val_root_mean_squared_error: 0.4226\n",
      "Epoch 55/110\n",
      "57/57 [==============================] - 0s 3ms/step - loss: 0.0534 - root_mean_squared_error: 0.2311 - val_loss: 0.1552 - val_root_mean_squared_error: 0.3940\n",
      "Epoch 56/110\n",
      "57/57 [==============================] - 0s 2ms/step - loss: 0.0560 - root_mean_squared_error: 0.2366 - val_loss: 0.1443 - val_root_mean_squared_error: 0.3798\n",
      "Epoch 57/110\n",
      "57/57 [==============================] - 0s 3ms/step - loss: 0.0511 - root_mean_squared_error: 0.2260 - val_loss: 0.1643 - val_root_mean_squared_error: 0.4053\n",
      "Epoch 58/110\n",
      "57/57 [==============================] - 0s 3ms/step - loss: 0.0539 - root_mean_squared_error: 0.2323 - val_loss: 0.1471 - val_root_mean_squared_error: 0.3836\n",
      "Epoch 59/110\n",
      "57/57 [==============================] - 0s 3ms/step - loss: 0.0493 - root_mean_squared_error: 0.2219 - val_loss: 0.1599 - val_root_mean_squared_error: 0.3999\n",
      "Epoch 60/110\n",
      "57/57 [==============================] - 0s 3ms/step - loss: 0.0547 - root_mean_squared_error: 0.2339 - val_loss: 0.1662 - val_root_mean_squared_error: 0.4076\n",
      "Epoch 61/110\n",
      "57/57 [==============================] - 0s 3ms/step - loss: 0.0529 - root_mean_squared_error: 0.2300 - val_loss: 0.1532 - val_root_mean_squared_error: 0.3914\n",
      "Epoch 62/110\n",
      "57/57 [==============================] - 0s 3ms/step - loss: 0.0556 - root_mean_squared_error: 0.2358 - val_loss: 0.1464 - val_root_mean_squared_error: 0.3826\n",
      "Epoch 63/110\n",
      "57/57 [==============================] - 0s 3ms/step - loss: 0.0516 - root_mean_squared_error: 0.2271 - val_loss: 0.1662 - val_root_mean_squared_error: 0.4077\n",
      "Epoch 64/110\n",
      "57/57 [==============================] - 0s 3ms/step - loss: 0.0488 - root_mean_squared_error: 0.2210 - val_loss: 0.1988 - val_root_mean_squared_error: 0.4458\n",
      "Epoch 65/110\n",
      "57/57 [==============================] - 0s 3ms/step - loss: 0.0524 - root_mean_squared_error: 0.2289 - val_loss: 0.2292 - val_root_mean_squared_error: 0.4788\n",
      "Epoch 66/110\n",
      "57/57 [==============================] - 0s 3ms/step - loss: 0.0556 - root_mean_squared_error: 0.2359 - val_loss: 0.1494 - val_root_mean_squared_error: 0.3866\n",
      "Epoch 67/110\n",
      "57/57 [==============================] - 0s 3ms/step - loss: 0.0494 - root_mean_squared_error: 0.2222 - val_loss: 0.1402 - val_root_mean_squared_error: 0.3745\n",
      "Epoch 68/110\n",
      "57/57 [==============================] - 0s 3ms/step - loss: 0.0473 - root_mean_squared_error: 0.2176 - val_loss: 0.1416 - val_root_mean_squared_error: 0.3763\n",
      "Epoch 69/110\n",
      "57/57 [==============================] - 0s 3ms/step - loss: 0.0515 - root_mean_squared_error: 0.2270 - val_loss: 0.1482 - val_root_mean_squared_error: 0.3850\n",
      "Epoch 70/110\n",
      "57/57 [==============================] - 0s 3ms/step - loss: 0.0515 - root_mean_squared_error: 0.2268 - val_loss: 0.1780 - val_root_mean_squared_error: 0.4219\n",
      "Epoch 71/110\n",
      "57/57 [==============================] - 0s 3ms/step - loss: 0.0521 - root_mean_squared_error: 0.2282 - val_loss: 0.1356 - val_root_mean_squared_error: 0.3682\n",
      "Epoch 72/110\n",
      "57/57 [==============================] - 0s 2ms/step - loss: 0.0535 - root_mean_squared_error: 0.2312 - val_loss: 0.1312 - val_root_mean_squared_error: 0.3622\n",
      "Epoch 73/110\n",
      "57/57 [==============================] - 0s 3ms/step - loss: 0.0573 - root_mean_squared_error: 0.2393 - val_loss: 0.1431 - val_root_mean_squared_error: 0.3783\n",
      "Epoch 74/110\n",
      "57/57 [==============================] - 0s 3ms/step - loss: 0.0494 - root_mean_squared_error: 0.2224 - val_loss: 0.1640 - val_root_mean_squared_error: 0.4049\n",
      "Epoch 75/110\n",
      "57/57 [==============================] - 0s 3ms/step - loss: 0.0523 - root_mean_squared_error: 0.2286 - val_loss: 0.1382 - val_root_mean_squared_error: 0.3717\n",
      "Epoch 76/110\n",
      "57/57 [==============================] - 0s 2ms/step - loss: 0.0479 - root_mean_squared_error: 0.2189 - val_loss: 0.1516 - val_root_mean_squared_error: 0.3894\n",
      "Epoch 77/110\n",
      "57/57 [==============================] - 0s 3ms/step - loss: 0.0501 - root_mean_squared_error: 0.2239 - val_loss: 0.1391 - val_root_mean_squared_error: 0.3730\n",
      "Epoch 78/110\n",
      "57/57 [==============================] - 0s 3ms/step - loss: 0.0528 - root_mean_squared_error: 0.2299 - val_loss: 0.1529 - val_root_mean_squared_error: 0.3910\n",
      "Epoch 79/110\n",
      "57/57 [==============================] - 0s 3ms/step - loss: 0.0492 - root_mean_squared_error: 0.2217 - val_loss: 0.1317 - val_root_mean_squared_error: 0.3629\n",
      "Epoch 80/110\n",
      "57/57 [==============================] - 0s 3ms/step - loss: 0.0497 - root_mean_squared_error: 0.2230 - val_loss: 0.1644 - val_root_mean_squared_error: 0.4055\n",
      "Epoch 81/110\n",
      "57/57 [==============================] - 0s 3ms/step - loss: 0.0572 - root_mean_squared_error: 0.2392 - val_loss: 0.1640 - val_root_mean_squared_error: 0.4050\n",
      "Epoch 82/110\n",
      "57/57 [==============================] - 0s 3ms/step - loss: 0.0501 - root_mean_squared_error: 0.2239 - val_loss: 0.1519 - val_root_mean_squared_error: 0.3897\n",
      "Epoch 83/110\n",
      "57/57 [==============================] - 0s 3ms/step - loss: 0.0521 - root_mean_squared_error: 0.2282 - val_loss: 0.1366 - val_root_mean_squared_error: 0.3695\n",
      "Epoch 84/110\n",
      "57/57 [==============================] - 0s 3ms/step - loss: 0.0493 - root_mean_squared_error: 0.2219 - val_loss: 0.1298 - val_root_mean_squared_error: 0.3602\n",
      "Epoch 85/110\n",
      "57/57 [==============================] - 0s 3ms/step - loss: 0.0500 - root_mean_squared_error: 0.2236 - val_loss: 0.1347 - val_root_mean_squared_error: 0.3670\n",
      "Epoch 86/110\n",
      "57/57 [==============================] - 0s 3ms/step - loss: 0.0508 - root_mean_squared_error: 0.2255 - val_loss: 0.1413 - val_root_mean_squared_error: 0.3760\n",
      "Epoch 87/110\n",
      "57/57 [==============================] - 0s 3ms/step - loss: 0.0521 - root_mean_squared_error: 0.2282 - val_loss: 0.1617 - val_root_mean_squared_error: 0.4021\n",
      "Epoch 88/110\n",
      "57/57 [==============================] - 0s 3ms/step - loss: 0.0501 - root_mean_squared_error: 0.2238 - val_loss: 0.1337 - val_root_mean_squared_error: 0.3657\n",
      "Epoch 89/110\n",
      "57/57 [==============================] - 0s 3ms/step - loss: 0.0558 - root_mean_squared_error: 0.2362 - val_loss: 0.1524 - val_root_mean_squared_error: 0.3904\n",
      "Epoch 90/110\n",
      "57/57 [==============================] - 0s 3ms/step - loss: 0.0517 - root_mean_squared_error: 0.2275 - val_loss: 0.2011 - val_root_mean_squared_error: 0.4484\n",
      "Epoch 91/110\n",
      "57/57 [==============================] - 0s 3ms/step - loss: 0.0483 - root_mean_squared_error: 0.2198 - val_loss: 0.1435 - val_root_mean_squared_error: 0.3788\n",
      "Epoch 92/110\n",
      "57/57 [==============================] - 0s 3ms/step - loss: 0.0484 - root_mean_squared_error: 0.2200 - val_loss: 0.1431 - val_root_mean_squared_error: 0.3783\n",
      "Epoch 93/110\n",
      "57/57 [==============================] - 0s 3ms/step - loss: 0.0499 - root_mean_squared_error: 0.2234 - val_loss: 0.1361 - val_root_mean_squared_error: 0.3689\n",
      "Epoch 94/110\n",
      "57/57 [==============================] - 0s 3ms/step - loss: 0.0497 - root_mean_squared_error: 0.2230 - val_loss: 0.1443 - val_root_mean_squared_error: 0.3799\n",
      "Epoch 95/110\n",
      "57/57 [==============================] - 0s 3ms/step - loss: 0.0560 - root_mean_squared_error: 0.2366 - val_loss: 0.1410 - val_root_mean_squared_error: 0.3755\n",
      "Epoch 96/110\n",
      "57/57 [==============================] - 0s 3ms/step - loss: 0.0497 - root_mean_squared_error: 0.2228 - val_loss: 0.1381 - val_root_mean_squared_error: 0.3717\n",
      "Epoch 97/110\n",
      "57/57 [==============================] - 0s 3ms/step - loss: 0.0518 - root_mean_squared_error: 0.2275 - val_loss: 0.1326 - val_root_mean_squared_error: 0.3641\n",
      "Epoch 98/110\n",
      "57/57 [==============================] - 0s 3ms/step - loss: 0.0497 - root_mean_squared_error: 0.2229 - val_loss: 0.1291 - val_root_mean_squared_error: 0.3594\n",
      "Epoch 99/110\n",
      "57/57 [==============================] - 0s 3ms/step - loss: 0.0466 - root_mean_squared_error: 0.2160 - val_loss: 0.1331 - val_root_mean_squared_error: 0.3648\n",
      "Epoch 100/110\n",
      "57/57 [==============================] - 0s 3ms/step - loss: 0.0521 - root_mean_squared_error: 0.2283 - val_loss: 0.1286 - val_root_mean_squared_error: 0.3586\n",
      "Epoch 101/110\n",
      "57/57 [==============================] - 0s 3ms/step - loss: 0.0549 - root_mean_squared_error: 0.2343 - val_loss: 0.1301 - val_root_mean_squared_error: 0.3608\n",
      "Epoch 102/110\n",
      "57/57 [==============================] - 0s 3ms/step - loss: 0.0481 - root_mean_squared_error: 0.2194 - val_loss: 0.1307 - val_root_mean_squared_error: 0.3615\n",
      "Epoch 103/110\n",
      "57/57 [==============================] - 0s 3ms/step - loss: 0.0512 - root_mean_squared_error: 0.2262 - val_loss: 0.1634 - val_root_mean_squared_error: 0.4042\n",
      "Epoch 104/110\n",
      "57/57 [==============================] - 0s 3ms/step - loss: 0.0491 - root_mean_squared_error: 0.2215 - val_loss: 0.1394 - val_root_mean_squared_error: 0.3733\n",
      "Epoch 105/110\n",
      "57/57 [==============================] - 0s 3ms/step - loss: 0.0492 - root_mean_squared_error: 0.2218 - val_loss: 0.1430 - val_root_mean_squared_error: 0.3782\n",
      "Epoch 106/110\n",
      "57/57 [==============================] - 0s 3ms/step - loss: 0.0519 - root_mean_squared_error: 0.2278 - val_loss: 0.1275 - val_root_mean_squared_error: 0.3571\n",
      "Epoch 107/110\n",
      "57/57 [==============================] - 0s 3ms/step - loss: 0.0505 - root_mean_squared_error: 0.2246 - val_loss: 0.1303 - val_root_mean_squared_error: 0.3609\n",
      "Epoch 108/110\n",
      "57/57 [==============================] - 0s 3ms/step - loss: 0.0492 - root_mean_squared_error: 0.2219 - val_loss: 0.1818 - val_root_mean_squared_error: 0.4264\n",
      "Epoch 109/110\n",
      "57/57 [==============================] - 0s 3ms/step - loss: 0.0472 - root_mean_squared_error: 0.2172 - val_loss: 0.1365 - val_root_mean_squared_error: 0.3694\n",
      "Epoch 110/110\n",
      "57/57 [==============================] - 0s 3ms/step - loss: 0.0491 - root_mean_squared_error: 0.2216 - val_loss: 0.1446 - val_root_mean_squared_error: 0.3803\n"
     ]
    },
    {
     "data": {
      "text/plain": [
       "<keras.callbacks.History at 0x26efa25d760>"
      ]
     },
     "execution_count": 98,
     "metadata": {},
     "output_type": "execute_result"
    }
   ],
   "source": [
    "model.compile(loss=MeanSquaredError(), optimizer=Adam(learning_rate=0.001), metrics=[RootMeanSquaredError()])\n",
    "model.fit(X_train, y_train, validation_data=(X_val, y_val), epochs=110)"
   ]
  },
  {
   "cell_type": "code",
   "execution_count": 99,
   "metadata": {},
   "outputs": [
    {
     "name": "stdout",
     "output_type": "stream",
     "text": [
      "57/57 [==============================] - 0s 1ms/step\n"
     ]
    },
    {
     "data": {
      "text/html": [
       "<div>\n",
       "<style scoped>\n",
       "    .dataframe tbody tr th:only-of-type {\n",
       "        vertical-align: middle;\n",
       "    }\n",
       "\n",
       "    .dataframe tbody tr th {\n",
       "        vertical-align: top;\n",
       "    }\n",
       "\n",
       "    .dataframe thead th {\n",
       "        text-align: right;\n",
       "    }\n",
       "</style>\n",
       "<table border=\"1\" class=\"dataframe\">\n",
       "  <thead>\n",
       "    <tr style=\"text-align: right;\">\n",
       "      <th></th>\n",
       "      <th>Train Predictions</th>\n",
       "      <th>Actuals</th>\n",
       "    </tr>\n",
       "  </thead>\n",
       "  <tbody>\n",
       "    <tr>\n",
       "      <th>0</th>\n",
       "      <td>20.108419</td>\n",
       "      <td>20.15</td>\n",
       "    </tr>\n",
       "    <tr>\n",
       "      <th>1</th>\n",
       "      <td>20.582560</td>\n",
       "      <td>20.56</td>\n",
       "    </tr>\n",
       "    <tr>\n",
       "      <th>2</th>\n",
       "      <td>20.334787</td>\n",
       "      <td>20.48</td>\n",
       "    </tr>\n",
       "    <tr>\n",
       "      <th>3</th>\n",
       "      <td>20.309111</td>\n",
       "      <td>20.50</td>\n",
       "    </tr>\n",
       "    <tr>\n",
       "      <th>4</th>\n",
       "      <td>20.108297</td>\n",
       "      <td>20.48</td>\n",
       "    </tr>\n",
       "    <tr>\n",
       "      <th>...</th>\n",
       "      <td>...</td>\n",
       "      <td>...</td>\n",
       "    </tr>\n",
       "    <tr>\n",
       "      <th>7195</th>\n",
       "      <td>25.985775</td>\n",
       "      <td>26.24</td>\n",
       "    </tr>\n",
       "    <tr>\n",
       "      <th>7196</th>\n",
       "      <td>25.748774</td>\n",
       "      <td>25.95</td>\n",
       "    </tr>\n",
       "    <tr>\n",
       "      <th>7197</th>\n",
       "      <td>26.462412</td>\n",
       "      <td>26.85</td>\n",
       "    </tr>\n",
       "    <tr>\n",
       "      <th>7198</th>\n",
       "      <td>26.125099</td>\n",
       "      <td>26.73</td>\n",
       "    </tr>\n",
       "    <tr>\n",
       "      <th>7199</th>\n",
       "      <td>26.029919</td>\n",
       "      <td>26.77</td>\n",
       "    </tr>\n",
       "  </tbody>\n",
       "</table>\n",
       "<p>7200 rows × 2 columns</p>\n",
       "</div>"
      ],
      "text/plain": [
       "      Train Predictions  Actuals\n",
       "0             20.108419    20.15\n",
       "1             20.582560    20.56\n",
       "2             20.334787    20.48\n",
       "3             20.309111    20.50\n",
       "4             20.108297    20.48\n",
       "...                 ...      ...\n",
       "7195          25.985775    26.24\n",
       "7196          25.748774    25.95\n",
       "7197          26.462412    26.85\n",
       "7198          26.125099    26.73\n",
       "7199          26.029919    26.77\n",
       "\n",
       "[7200 rows x 2 columns]"
      ]
     },
     "execution_count": 99,
     "metadata": {},
     "output_type": "execute_result"
    }
   ],
   "source": [
    "train_predictions = model.predict(X_train).flatten()\n",
    "ytrain1= y_train.flatten()\n",
    "train_results = pd.DataFrame(data = {'Train Predictions': train_predictions, 'Actuals': ytrain1})\n",
    "train_results"
   ]
  },
  {
   "cell_type": "code",
   "execution_count": 100,
   "metadata": {},
   "outputs": [
    {
     "data": {
      "text/plain": [
       "[<matplotlib.lines.Line2D at 0x26e8bc383a0>]"
      ]
     },
     "execution_count": 100,
     "metadata": {},
     "output_type": "execute_result"
    },
    {
     "data": {
      "image/png": "[encoded data removed]",
      "text/plain": [
       "<Figure size 640x480 with 1 Axes>"
      ]
     },
     "metadata": {},
     "output_type": "display_data"
    }
   ],
   "source": [
    "plt.plot(train_results['Train Predictions'][:], color= 'red')\n",
    "plt.plot(train_results['Actuals'][:], color= 'lightblue')"
   ]
  },
  {
   "cell_type": "code",
   "execution_count": 101,
   "metadata": {},
   "outputs": [
    {
     "name": "stdout",
     "output_type": "stream",
     "text": [
      "5/5 [==============================] - 0s 1ms/step\n"
     ]
    },
    {
     "data": {
      "text/html": [
       "<div>\n",
       "<style scoped>\n",
       "    .dataframe tbody tr th:only-of-type {\n",
       "        vertical-align: middle;\n",
       "    }\n",
       "\n",
       "    .dataframe tbody tr th {\n",
       "        vertical-align: top;\n",
       "    }\n",
       "\n",
       "    .dataframe thead th {\n",
       "        text-align: right;\n",
       "    }\n",
       "</style>\n",
       "<table border=\"1\" class=\"dataframe\">\n",
       "  <thead>\n",
       "    <tr style=\"text-align: right;\">\n",
       "      <th></th>\n",
       "      <th>Val Predictions</th>\n",
       "      <th>Val Actuals</th>\n",
       "    </tr>\n",
       "  </thead>\n",
       "  <tbody>\n",
       "    <tr>\n",
       "      <th>0</th>\n",
       "      <td>26.133177</td>\n",
       "      <td>26.20</td>\n",
       "    </tr>\n",
       "    <tr>\n",
       "      <th>1</th>\n",
       "      <td>26.851637</td>\n",
       "      <td>26.80</td>\n",
       "    </tr>\n",
       "    <tr>\n",
       "      <th>2</th>\n",
       "      <td>26.516092</td>\n",
       "      <td>26.27</td>\n",
       "    </tr>\n",
       "    <tr>\n",
       "      <th>3</th>\n",
       "      <td>26.399200</td>\n",
       "      <td>26.77</td>\n",
       "    </tr>\n",
       "    <tr>\n",
       "      <th>4</th>\n",
       "      <td>25.995342</td>\n",
       "      <td>26.20</td>\n",
       "    </tr>\n",
       "    <tr>\n",
       "      <th>...</th>\n",
       "      <td>...</td>\n",
       "      <td>...</td>\n",
       "    </tr>\n",
       "    <tr>\n",
       "      <th>595</th>\n",
       "      <td>22.541451</td>\n",
       "      <td>22.70</td>\n",
       "    </tr>\n",
       "    <tr>\n",
       "      <th>596</th>\n",
       "      <td>22.356373</td>\n",
       "      <td>22.56</td>\n",
       "    </tr>\n",
       "    <tr>\n",
       "      <th>597</th>\n",
       "      <td>22.914568</td>\n",
       "      <td>23.08</td>\n",
       "    </tr>\n",
       "    <tr>\n",
       "      <th>598</th>\n",
       "      <td>22.638622</td>\n",
       "      <td>22.62</td>\n",
       "    </tr>\n",
       "    <tr>\n",
       "      <th>599</th>\n",
       "      <td>22.596115</td>\n",
       "      <td>22.67</td>\n",
       "    </tr>\n",
       "  </tbody>\n",
       "</table>\n",
       "<p>600 rows × 2 columns</p>\n",
       "</div>"
      ],
      "text/plain": [
       "     Val Predictions  Val Actuals\n",
       "0          26.133177        26.20\n",
       "1          26.851637        26.80\n",
       "2          26.516092        26.27\n",
       "3          26.399200        26.77\n",
       "4          25.995342        26.20\n",
       "..               ...          ...\n",
       "595        22.541451        22.70\n",
       "596        22.356373        22.56\n",
       "597        22.914568        23.08\n",
       "598        22.638622        22.62\n",
       "599        22.596115        22.67\n",
       "\n",
       "[600 rows x 2 columns]"
      ]
     },
     "execution_count": 101,
     "metadata": {},
     "output_type": "execute_result"
    }
   ],
   "source": [
    "val_predictions= model.predict(X_val).flatten()\n",
    "y_val1=y_val.flatten()\n",
    "val_results=pd.DataFrame(data={'Val Predictions': val_predictions, 'Val Actuals': y_val1})\n",
    "val_results"
   ]
  },
  {
   "cell_type": "code",
   "execution_count": 102,
   "metadata": {},
   "outputs": [
    {
     "data": {
      "text/plain": [
       "[<matplotlib.lines.Line2D at 0x26e8bd30e80>]"
      ]
     },
     "execution_count": 102,
     "metadata": {},
     "output_type": "execute_result"
    },
    {
     "data": {
      "image/png": "[encoded data removed]",
      "text/plain": [
       "<Figure size 640x480 with 1 Axes>"
      ]
     },
     "metadata": {},
     "output_type": "display_data"
    }
   ],
   "source": [
    "plt.plot(val_results['Val Predictions'][:], color='red')\n",
    "plt.plot(val_results['Val Actuals'][:], color='lightblue')"
   ]
  },
  {
   "cell_type": "code",
   "execution_count": 103,
   "metadata": {},
   "outputs": [
    {
     "name": "stdout",
     "output_type": "stream",
     "text": [
      "4/4 [==============================] - 0s 2ms/step\n"
     ]
    },
    {
     "data": {
      "text/html": [
       "<div>\n",
       "<style scoped>\n",
       "    .dataframe tbody tr th:only-of-type {\n",
       "        vertical-align: middle;\n",
       "    }\n",
       "\n",
       "    .dataframe tbody tr th {\n",
       "        vertical-align: top;\n",
       "    }\n",
       "\n",
       "    .dataframe thead th {\n",
       "        text-align: right;\n",
       "    }\n",
       "</style>\n",
       "<table border=\"1\" class=\"dataframe\">\n",
       "  <thead>\n",
       "    <tr style=\"text-align: right;\">\n",
       "      <th></th>\n",
       "      <th>Test Predictions</th>\n",
       "      <th>Test Actuals</th>\n",
       "    </tr>\n",
       "  </thead>\n",
       "  <tbody>\n",
       "    <tr>\n",
       "      <th>0</th>\n",
       "      <td>22.329098</td>\n",
       "      <td>22.45</td>\n",
       "    </tr>\n",
       "    <tr>\n",
       "      <th>1</th>\n",
       "      <td>22.886421</td>\n",
       "      <td>23.45</td>\n",
       "    </tr>\n",
       "    <tr>\n",
       "      <th>2</th>\n",
       "      <td>22.609976</td>\n",
       "      <td>23.15</td>\n",
       "    </tr>\n",
       "    <tr>\n",
       "      <th>3</th>\n",
       "      <td>22.568514</td>\n",
       "      <td>23.24</td>\n",
       "    </tr>\n",
       "    <tr>\n",
       "      <th>4</th>\n",
       "      <td>22.842709</td>\n",
       "      <td>23.12</td>\n",
       "    </tr>\n",
       "    <tr>\n",
       "      <th>...</th>\n",
       "      <td>...</td>\n",
       "      <td>...</td>\n",
       "    </tr>\n",
       "    <tr>\n",
       "      <th>463</th>\n",
       "      <td>18.863008</td>\n",
       "      <td>18.92</td>\n",
       "    </tr>\n",
       "    <tr>\n",
       "      <th>464</th>\n",
       "      <td>18.643742</td>\n",
       "      <td>18.81</td>\n",
       "    </tr>\n",
       "    <tr>\n",
       "      <th>465</th>\n",
       "      <td>19.077856</td>\n",
       "      <td>19.06</td>\n",
       "    </tr>\n",
       "    <tr>\n",
       "      <th>466</th>\n",
       "      <td>18.855017</td>\n",
       "      <td>18.97</td>\n",
       "    </tr>\n",
       "    <tr>\n",
       "      <th>467</th>\n",
       "      <td>18.833155</td>\n",
       "      <td>NaN</td>\n",
       "    </tr>\n",
       "  </tbody>\n",
       "</table>\n",
       "<p>468 rows × 2 columns</p>\n",
       "</div>"
      ],
      "text/plain": [
       "     Test Predictions  Test Actuals\n",
       "0           22.329098         22.45\n",
       "1           22.886421         23.45\n",
       "2           22.609976         23.15\n",
       "3           22.568514         23.24\n",
       "4           22.842709         23.12\n",
       "..                ...           ...\n",
       "463         18.863008         18.92\n",
       "464         18.643742         18.81\n",
       "465         19.077856         19.06\n",
       "466         18.855017         18.97\n",
       "467         18.833155           NaN\n",
       "\n",
       "[468 rows x 2 columns]"
      ]
     },
     "execution_count": 103,
     "metadata": {},
     "output_type": "execute_result"
    }
   ],
   "source": [
    "test_predictions = model.predict(X_test).flatten()\n",
    "ytest1=y_test.flatten()\n",
    "test_results = pd.DataFrame(data={'Test Predictions': test_predictions, 'Test Actuals': ytest1})\n",
    "test_results"
   ]
  },
  {
   "cell_type": "code",
   "execution_count": 104,
   "metadata": {},
   "outputs": [
    {
     "data": {
      "text/plain": [
       "[<matplotlib.lines.Line2D at 0x26e8bd879a0>]"
      ]
     },
     "execution_count": 104,
     "metadata": {},
     "output_type": "execute_result"
    },
    {
     "data": {
      "image/png": "[encoded data removed]",
      "text/plain": [
       "<Figure size 640x480 with 1 Axes>"
      ]
     },
     "metadata": {},
     "output_type": "display_data"
    }
   ],
   "source": [
    "plt.plot(test_results['Test Predictions'][:], color='red')\n",
    "plt.plot(test_results['Test Actuals'][:], color='lightblue')"
   ]
  }
 ],
 "metadata": {
  "kernelspec": {
   "display_name": "AI_ML",
   "language": "python",
   "name": "python3"
  },
  "language_info": {
   "codemirror_mode": {
    "name": "ipython",
    "version": 3
   },
   "file_extension": ".py",
   "mimetype": "text/x-python",
   "name": "python",
   "nbconvert_exporter": "python",
   "pygments_lexer": "ipython3",
   "version": "3.9.18"
  }
 },
 "nbformat": 4,
 "nbformat_minor": 2
}
