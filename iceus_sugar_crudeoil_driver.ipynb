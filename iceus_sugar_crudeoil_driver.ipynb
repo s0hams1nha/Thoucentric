{
 "cells": [
  {
   "cell_type": "code",
   "execution_count": 1,
   "metadata": {},
   "outputs": [],
   "source": [
    "import pandas as pd\n",
    "import numpy as np\n",
    "import matplotlib.pyplot as plt\n",
    "import seaborn as sns\n",
    "import tensorflow as tf\n",
    "import os\n",
    "from sklearn.preprocessing import StandardScaler\n",
    "from sklearn.metrics import *\n",
    "from keras.models import Sequential\n",
    "from keras.layers import *\n",
    "from keras.losses import MeanSquaredError\n",
    "from keras.metrics import RootMeanSquaredError\n",
    "from keras.optimizers import Adam"
   ]
  },
  {
   "cell_type": "code",
   "execution_count": 2,
   "metadata": {},
   "outputs": [],
   "source": [
    "os.chdir('C:\\\\Users\\\\Hp\\\\OneDrive\\\\Documents\\\\GitHub\\\\Thoucentric\\\\DataSets')"
   ]
  },
  {
   "cell_type": "code",
   "execution_count": 3,
   "metadata": {},
   "outputs": [],
   "source": [
    "cr_1=pd.read_csv('crude_close.csv')\n",
    "cr_2=pd.read_csv('crude_open.csv')\n",
    "cr_3=pd.read_csv('crude_low.csv')\n",
    "cr_4=pd.read_csv('crude_high.csv')\n",
    "cr_merged_1 = pd.merge(cr_1, cr_2, on='date')\n",
    "cr_merged_2 = pd.merge(cr_merged_1, cr_3, on='date')\n",
    "cr = pd.merge(cr_merged_2, cr_4, on='date')"
   ]
  },
  {
   "cell_type": "markdown",
   "metadata": {},
   "source": [
    "Merge function combines dataframes with a parameter 'on' which defines the basis for the merge. Here we are merging on the basis of date which means that the final dataframe would have all rows having common dates. There are multiple ways of merging but the default is intersection of the dataframes."
   ]
  },
  {
   "cell_type": "code",
   "execution_count": 4,
   "metadata": {},
   "outputs": [
    {
     "data": {
      "text/html": [
       "<div>\n",
       "<style scoped>\n",
       "    .dataframe tbody tr th:only-of-type {\n",
       "        vertical-align: middle;\n",
       "    }\n",
       "\n",
       "    .dataframe tbody tr th {\n",
       "        vertical-align: top;\n",
       "    }\n",
       "\n",
       "    .dataframe thead th {\n",
       "        text-align: right;\n",
       "    }\n",
       "</style>\n",
       "<table border=\"1\" class=\"dataframe\">\n",
       "  <thead>\n",
       "    <tr style=\"text-align: right;\">\n",
       "      <th></th>\n",
       "      <th>date</th>\n",
       "      <th>low</th>\n",
       "      <th>high</th>\n",
       "      <th>close</th>\n",
       "      <th>open</th>\n",
       "      <th>cr_close</th>\n",
       "      <th>cr_open</th>\n",
       "      <th>cr_low</th>\n",
       "      <th>cr_high</th>\n",
       "    </tr>\n",
       "  </thead>\n",
       "  <tbody>\n",
       "    <tr>\n",
       "      <th>0</th>\n",
       "      <td>2017-01-03T00:00:00.000Z</td>\n",
       "      <td>19.58</td>\n",
       "      <td>20.55</td>\n",
       "      <td>20.51</td>\n",
       "      <td>19.63</td>\n",
       "      <td>56.46</td>\n",
       "      <td>57.05</td>\n",
       "      <td>55.30</td>\n",
       "      <td>58.37</td>\n",
       "    </tr>\n",
       "    <tr>\n",
       "      <th>1</th>\n",
       "      <td>2017-01-04T00:00:00.000Z</td>\n",
       "      <td>20.41</td>\n",
       "      <td>20.94</td>\n",
       "      <td>20.89</td>\n",
       "      <td>20.55</td>\n",
       "      <td>56.89</td>\n",
       "      <td>55.73</td>\n",
       "      <td>55.33</td>\n",
       "      <td>56.55</td>\n",
       "    </tr>\n",
       "    <tr>\n",
       "      <th>2</th>\n",
       "      <td>2017-01-05T00:00:00.000Z</td>\n",
       "      <td>20.66</td>\n",
       "      <td>21.18</td>\n",
       "      <td>20.78</td>\n",
       "      <td>20.89</td>\n",
       "      <td>57.10</td>\n",
       "      <td>56.35</td>\n",
       "      <td>56.01</td>\n",
       "      <td>57.35</td>\n",
       "    </tr>\n",
       "    <tr>\n",
       "      <th>3</th>\n",
       "      <td>2017-01-06T00:00:00.000Z</td>\n",
       "      <td>20.30</td>\n",
       "      <td>20.84</td>\n",
       "      <td>20.75</td>\n",
       "      <td>20.66</td>\n",
       "      <td>57.10</td>\n",
       "      <td>56.88</td>\n",
       "      <td>56.28</td>\n",
       "      <td>57.47</td>\n",
       "    </tr>\n",
       "    <tr>\n",
       "      <th>4</th>\n",
       "      <td>2017-01-09T00:00:00.000Z</td>\n",
       "      <td>20.36</td>\n",
       "      <td>20.75</td>\n",
       "      <td>20.42</td>\n",
       "      <td>20.74</td>\n",
       "      <td>53.64</td>\n",
       "      <td>56.81</td>\n",
       "      <td>54.74</td>\n",
       "      <td>57.00</td>\n",
       "    </tr>\n",
       "  </tbody>\n",
       "</table>\n",
       "</div>"
      ],
      "text/plain": [
       "                       date    low   high  close   open  cr_close  cr_open  \\\n",
       "0  2017-01-03T00:00:00.000Z  19.58  20.55  20.51  19.63     56.46    57.05   \n",
       "1  2017-01-04T00:00:00.000Z  20.41  20.94  20.89  20.55     56.89    55.73   \n",
       "2  2017-01-05T00:00:00.000Z  20.66  21.18  20.78  20.89     57.10    56.35   \n",
       "3  2017-01-06T00:00:00.000Z  20.30  20.84  20.75  20.66     57.10    56.88   \n",
       "4  2017-01-09T00:00:00.000Z  20.36  20.75  20.42  20.74     53.64    56.81   \n",
       "\n",
       "   cr_low  cr_high  \n",
       "0   55.30    58.37  \n",
       "1   55.33    56.55  \n",
       "2   56.01    57.35  \n",
       "3   56.28    57.47  \n",
       "4   54.74    57.00  "
      ]
     },
     "execution_count": 4,
     "metadata": {},
     "output_type": "execute_result"
    }
   ],
   "source": [
    "df=pd.read_csv('Iceus_sugar_all.csv')\n",
    "df=pd.merge(df, cr, on='date')\n",
    "df.head()"
   ]
  },
  {
   "cell_type": "markdown",
   "metadata": {},
   "source": [
    "Set date to date format form a string format\n"
   ]
  },
  {
   "cell_type": "code",
   "execution_count": 5,
   "metadata": {},
   "outputs": [],
   "source": [
    "train_dates=pd.to_datetime(df['date'])"
   ]
  },
  {
   "cell_type": "markdown",
   "metadata": {},
   "source": [
    "Take all columns except date as X features "
   ]
  },
  {
   "cell_type": "code",
   "execution_count": 6,
   "metadata": {},
   "outputs": [],
   "source": [
    "X=df.iloc[:, 1:8]"
   ]
  },
  {
   "cell_type": "code",
   "execution_count": 7,
   "metadata": {},
   "outputs": [],
   "source": [
    "scaler=StandardScaler()\n",
    "X=scaler.fit_transform(X)"
   ]
  },
  {
   "cell_type": "markdown",
   "metadata": {},
   "source": [
    "We set how many days of prediction we do while taking into account how many past days. Here, we calculate any 1 day from previous 14 days of data"
   ]
  },
  {
   "cell_type": "code",
   "execution_count": 8,
   "metadata": {},
   "outputs": [
    {
     "data": {
      "text/plain": [
       "((1768, 14, 7), (1768, 1))"
      ]
     },
     "execution_count": 8,
     "metadata": {},
     "output_type": "execute_result"
    }
   ],
   "source": [
    "train_X=[]\n",
    "train_y=[]\n",
    "n_future=1\n",
    "n_past=14\n",
    "for i in range(n_past, len(X) - n_future + 1):\n",
    "    train_X.append(X[i-n_past:i, 0:X.shape[1]])         #understand this exactly\n",
    "    train_y.append(X[i+n_future-1:i+n_future, 0])       #undersatnd this exactly\n",
    "train_X, train_y = np.array(train_X), np.array(train_y)\n",
    "train_X.shape, train_y.shape"
   ]
  },
  {
   "cell_type": "markdown",
   "metadata": {},
   "source": [
    "When setting up the LSTM model, when we use multiple LSTM layers, we use another parameter 'return_sequences' which tells the model to return the output of the first LSTM layer to the next layer as input in the form of a sequence as LSTM requices sequential data. "
   ]
  },
  {
   "cell_type": "code",
   "execution_count": 9,
   "metadata": {},
   "outputs": [
    {
     "name": "stdout",
     "output_type": "stream",
     "text": [
      "Model: \"sequential\"\n",
      "_________________________________________________________________\n",
      " Layer (type)                Output Shape              Param #   \n",
      "=================================================================\n",
      " lstm (LSTM)                 (None, 14, 64)            18432     \n",
      "                                                                 \n",
      " lstm_1 (LSTM)               (None, 32)                12416     \n",
      "                                                                 \n",
      " dropout (Dropout)           (None, 32)                0         \n",
      "                                                                 \n",
      " dense (Dense)               (None, 1)                 33        \n",
      "                                                                 \n",
      "=================================================================\n",
      "Total params: 30,881\n",
      "Trainable params: 30,881\n",
      "Non-trainable params: 0\n",
      "_________________________________________________________________\n"
     ]
    }
   ],
   "source": [
    "model=Sequential()\n",
    "model.add(LSTM(64, activation='relu', input_shape=(train_X.shape[1], train_X.shape[2]), return_sequences=True))\n",
    "model.add(LSTM(32, activation='relu', return_sequences=False))\n",
    "model.add(Dropout(0.2))\n",
    "model.add(Dense(train_y.shape[1]))\n",
    "model.compile(optimizer='adam', loss='mse')\n",
    "model.summary()"
   ]
  },
  {
   "cell_type": "code",
   "execution_count": 10,
   "metadata": {},
   "outputs": [
    {
     "name": "stdout",
     "output_type": "stream",
     "text": [
      "Epoch 1/40\n",
      "100/100 [==============================] - 4s 16ms/step - loss: 0.1271 - val_loss: 0.0198\n",
      "Epoch 2/40\n",
      "100/100 [==============================] - 1s 12ms/step - loss: 0.0477 - val_loss: 0.0177\n",
      "Epoch 3/40\n",
      "100/100 [==============================] - 1s 14ms/step - loss: 0.0373 - val_loss: 0.0148\n",
      "Epoch 4/40\n",
      "100/100 [==============================] - 1s 12ms/step - loss: 0.0372 - val_loss: 0.0125\n",
      "Epoch 5/40\n",
      "100/100 [==============================] - 1s 12ms/step - loss: 0.0365 - val_loss: 0.0134\n",
      "Epoch 6/40\n",
      "100/100 [==============================] - 1s 12ms/step - loss: 0.0327 - val_loss: 0.0124\n",
      "Epoch 7/40\n",
      "100/100 [==============================] - 1s 12ms/step - loss: 0.0332 - val_loss: 0.0102\n",
      "Epoch 8/40\n",
      "100/100 [==============================] - 1s 12ms/step - loss: 0.0324 - val_loss: 0.0109\n",
      "Epoch 9/40\n",
      "100/100 [==============================] - 1s 11ms/step - loss: 0.0294 - val_loss: 0.0082\n",
      "Epoch 10/40\n",
      "100/100 [==============================] - 1s 12ms/step - loss: 0.0300 - val_loss: 0.0152\n",
      "Epoch 11/40\n",
      "100/100 [==============================] - 1s 11ms/step - loss: 0.0332 - val_loss: 0.0094\n",
      "Epoch 12/40\n",
      "100/100 [==============================] - 1s 12ms/step - loss: 0.0350 - val_loss: 0.0086\n",
      "Epoch 13/40\n",
      "100/100 [==============================] - 1s 11ms/step - loss: 0.0307 - val_loss: 0.0117\n",
      "Epoch 14/40\n",
      "100/100 [==============================] - 1s 12ms/step - loss: 0.0285 - val_loss: 0.0076\n",
      "Epoch 15/40\n",
      "100/100 [==============================] - 1s 12ms/step - loss: 0.0275 - val_loss: 0.0076\n",
      "Epoch 16/40\n",
      "100/100 [==============================] - 1s 12ms/step - loss: 0.0284 - val_loss: 0.0074\n",
      "Epoch 17/40\n",
      "100/100 [==============================] - 1s 12ms/step - loss: 0.0287 - val_loss: 0.0071\n",
      "Epoch 18/40\n",
      "100/100 [==============================] - 1s 13ms/step - loss: 0.0293 - val_loss: 0.0069\n",
      "Epoch 19/40\n",
      "100/100 [==============================] - 1s 12ms/step - loss: 0.0269 - val_loss: 0.0063\n",
      "Epoch 20/40\n",
      "100/100 [==============================] - 1s 14ms/step - loss: 0.0286 - val_loss: 0.0091\n",
      "Epoch 21/40\n",
      "100/100 [==============================] - 1s 12ms/step - loss: 0.0257 - val_loss: 0.0057\n",
      "Epoch 22/40\n",
      "100/100 [==============================] - 1s 12ms/step - loss: 0.0290 - val_loss: 0.0068\n",
      "Epoch 23/40\n",
      "100/100 [==============================] - 1s 12ms/step - loss: 0.0246 - val_loss: 0.0060\n",
      "Epoch 24/40\n",
      "100/100 [==============================] - 1s 12ms/step - loss: 0.0282 - val_loss: 0.0050\n",
      "Epoch 25/40\n",
      "100/100 [==============================] - 1s 12ms/step - loss: 0.0259 - val_loss: 0.0059\n",
      "Epoch 26/40\n",
      "100/100 [==============================] - 1s 12ms/step - loss: 0.0321 - val_loss: 0.0126\n",
      "Epoch 27/40\n",
      "100/100 [==============================] - 1s 12ms/step - loss: 0.0288 - val_loss: 0.0071\n",
      "Epoch 28/40\n",
      "100/100 [==============================] - 1s 12ms/step - loss: 0.0280 - val_loss: 0.0071\n",
      "Epoch 29/40\n",
      "100/100 [==============================] - 1s 13ms/step - loss: 0.0278 - val_loss: 0.0048\n",
      "Epoch 30/40\n",
      "100/100 [==============================] - 1s 12ms/step - loss: 0.0253 - val_loss: 0.0058\n",
      "Epoch 31/40\n",
      "100/100 [==============================] - 1s 13ms/step - loss: 0.0255 - val_loss: 0.0073\n",
      "Epoch 32/40\n",
      "100/100 [==============================] - 1s 13ms/step - loss: 0.0281 - val_loss: 0.0041\n",
      "Epoch 33/40\n",
      "100/100 [==============================] - 1s 12ms/step - loss: 0.0250 - val_loss: 0.0043\n",
      "Epoch 34/40\n",
      "100/100 [==============================] - 1s 12ms/step - loss: 0.0253 - val_loss: 0.0046\n",
      "Epoch 35/40\n",
      "100/100 [==============================] - 1s 13ms/step - loss: 0.0269 - val_loss: 0.0058\n",
      "Epoch 36/40\n",
      "100/100 [==============================] - 1s 12ms/step - loss: 0.0263 - val_loss: 0.0037\n",
      "Epoch 37/40\n",
      "100/100 [==============================] - 1s 13ms/step - loss: 0.0278 - val_loss: 0.0042\n",
      "Epoch 38/40\n",
      "100/100 [==============================] - 1s 13ms/step - loss: 0.0240 - val_loss: 0.0039\n",
      "Epoch 39/40\n",
      "100/100 [==============================] - 1s 12ms/step - loss: 0.0259 - val_loss: 0.0063\n",
      "Epoch 40/40\n",
      "100/100 [==============================] - 1s 12ms/step - loss: 0.0267 - val_loss: 0.0041\n"
     ]
    }
   ],
   "source": [
    "history=model.fit(train_X, train_y, epochs=40, batch_size=16, validation_split=0.1, verbose=1)"
   ]
  },
  {
   "cell_type": "code",
   "execution_count": 11,
   "metadata": {},
   "outputs": [],
   "source": [
    "def compute_metrics(actual, predicted):\n",
    "    mse = mean_squared_error(actual, predicted)\n",
    "    rmse = np.sqrt(mse)\n",
    "    mae = mean_absolute_error(actual, predicted)\n",
    "    r2 = r2_score(actual, predicted)\n",
    "    bias = np.mean(predicted - actual)\n",
    "    variance = np.var(predicted - actual)\n",
    "\n",
    "    metrics = {\n",
    "        'MSE': mse,\n",
    "        'RMSE': rmse,\n",
    "        'MAE': mae,\n",
    "        'R² Score': r2,\n",
    "        'Bias': bias,\n",
    "        'Variance': variance\n",
    "    }\n",
    "    \n",
    "    return metrics"
   ]
  },
  {
   "cell_type": "code",
   "execution_count": 21,
   "metadata": {},
   "outputs": [
    {
     "name": "stdout",
     "output_type": "stream",
     "text": [
      "56/56 [==============================] - 0s 3ms/step\n"
     ]
    },
    {
     "data": {
      "text/html": [
       "<div>\n",
       "<style scoped>\n",
       "    .dataframe tbody tr th:only-of-type {\n",
       "        vertical-align: middle;\n",
       "    }\n",
       "\n",
       "    .dataframe tbody tr th {\n",
       "        vertical-align: top;\n",
       "    }\n",
       "\n",
       "    .dataframe thead th {\n",
       "        text-align: right;\n",
       "    }\n",
       "</style>\n",
       "<table border=\"1\" class=\"dataframe\">\n",
       "  <thead>\n",
       "    <tr style=\"text-align: right;\">\n",
       "      <th></th>\n",
       "      <th>Train Predictions</th>\n",
       "      <th>Actuals</th>\n",
       "    </tr>\n",
       "  </thead>\n",
       "  <tbody>\n",
       "    <tr>\n",
       "      <th>0</th>\n",
       "      <td>0.556407</td>\n",
       "      <td>0.662182</td>\n",
       "    </tr>\n",
       "    <tr>\n",
       "      <th>1</th>\n",
       "      <td>0.592888</td>\n",
       "      <td>0.600942</td>\n",
       "    </tr>\n",
       "    <tr>\n",
       "      <th>2</th>\n",
       "      <td>0.566822</td>\n",
       "      <td>0.600942</td>\n",
       "    </tr>\n",
       "    <tr>\n",
       "      <th>3</th>\n",
       "      <td>0.553569</td>\n",
       "      <td>0.609690</td>\n",
       "    </tr>\n",
       "    <tr>\n",
       "      <th>4</th>\n",
       "      <td>0.544117</td>\n",
       "      <td>0.572509</td>\n",
       "    </tr>\n",
       "    <tr>\n",
       "      <th>...</th>\n",
       "      <td>...</td>\n",
       "      <td>...</td>\n",
       "    </tr>\n",
       "    <tr>\n",
       "      <th>1763</th>\n",
       "      <td>0.365173</td>\n",
       "      <td>0.283807</td>\n",
       "    </tr>\n",
       "    <tr>\n",
       "      <th>1764</th>\n",
       "      <td>0.310023</td>\n",
       "      <td>0.283807</td>\n",
       "    </tr>\n",
       "    <tr>\n",
       "      <th>1765</th>\n",
       "      <td>0.278841</td>\n",
       "      <td>0.283807</td>\n",
       "    </tr>\n",
       "    <tr>\n",
       "      <th>1766</th>\n",
       "      <td>0.273872</td>\n",
       "      <td>0.285994</td>\n",
       "    </tr>\n",
       "    <tr>\n",
       "      <th>1767</th>\n",
       "      <td>0.274412</td>\n",
       "      <td>0.283807</td>\n",
       "    </tr>\n",
       "  </tbody>\n",
       "</table>\n",
       "<p>1768 rows × 2 columns</p>\n",
       "</div>"
      ],
      "text/plain": [
       "      Train Predictions   Actuals\n",
       "0              0.556407  0.662182\n",
       "1              0.592888  0.600942\n",
       "2              0.566822  0.600942\n",
       "3              0.553569  0.609690\n",
       "4              0.544117  0.572509\n",
       "...                 ...       ...\n",
       "1763           0.365173  0.283807\n",
       "1764           0.310023  0.283807\n",
       "1765           0.278841  0.283807\n",
       "1766           0.273872  0.285994\n",
       "1767           0.274412  0.283807\n",
       "\n",
       "[1768 rows x 2 columns]"
      ]
     },
     "execution_count": 21,
     "metadata": {},
     "output_type": "execute_result"
    }
   ],
   "source": [
    "train_predictions = model.predict(train_X).flatten()\n",
    "ytrain1= train_y.flatten()\n",
    "train_results = pd.DataFrame(data = {'Train Predictions': train_predictions, 'Actuals': ytrain1})\n",
    "train_results"
   ]
  },
  {
   "cell_type": "code",
   "execution_count": 22,
   "metadata": {},
   "outputs": [
    {
     "data": {
      "text/plain": [
       "{'MSE': 0.003716667547292297,\n",
       " 'RMSE': 0.060964477749688765,\n",
       " 'MAE': 0.046732230199622325,\n",
       " 'R² Score': 0.996301421797063,\n",
       " 'Bias': -0.007689416681100005,\n",
       " 'Variance': 0.003657540418396718}"
      ]
     },
     "execution_count": 22,
     "metadata": {},
     "output_type": "execute_result"
    }
   ],
   "source": [
    "compute_metrics(ytrain1, train_predictions)"
   ]
  },
  {
   "cell_type": "code",
   "execution_count": 13,
   "metadata": {},
   "outputs": [
    {
     "data": {
      "text/plain": [
       "[<matplotlib.lines.Line2D at 0x1fd615c1d60>]"
      ]
     },
     "execution_count": 13,
     "metadata": {},
     "output_type": "execute_result"
    },
    {
     "data": {
      "image/png": "[encoded data removed]",
      "text/plain": [
       "<Figure size 640x480 with 1 Axes>"
      ]
     },
     "metadata": {},
     "output_type": "display_data"
    }
   ],
   "source": [
    "plt.plot(train_results['Train Predictions'][:], color= 'red')\n",
    "plt.plot(train_results['Actuals'][:], color= 'lightblue')"
   ]
  },
  {
   "cell_type": "markdown",
   "metadata": {},
   "source": [
    "Now for future forecasting, we first set how many days we want to forecast then extend out dates dataframe to that many days."
   ]
  },
  {
   "cell_type": "markdown",
   "metadata": {},
   "source": [
    "We set our prediction to account for the last 45 days (in this case) to predict as many future days."
   ]
  },
  {
   "cell_type": "markdown",
   "metadata": {},
   "source": [
    "(Use a rolling dataset next time)"
   ]
  },
  {
   "cell_type": "code",
   "execution_count": 34,
   "metadata": {},
   "outputs": [
    {
     "name": "stdout",
     "output_type": "stream",
     "text": [
      "2/2 [==============================] - 0s 4ms/step\n"
     ]
    }
   ],
   "source": [
    "future_days=45\n",
    "forecast_date=pd.date_range(list(train_dates)[-1], periods=future_days, freq='1d').tolist()\n",
    "forecast=model.predict(train_X[-future_days:])"
   ]
  },
  {
   "cell_type": "markdown",
   "metadata": {},
   "source": [
    "As LSTM requires the same shape in the input as before, while predicting future dates there is a problem of not having all columns of data. So, a quick fix is to take repeated column to fulfill the shape required and then only consider 1 column in the output."
   ]
  },
  {
   "cell_type": "markdown",
   "metadata": {},
   "source": [
    "We also rescale our previously scaled down values back."
   ]
  },
  {
   "cell_type": "code",
   "execution_count": 35,
   "metadata": {},
   "outputs": [],
   "source": [
    "forecast_copied=np.repeat(forecast, X.shape[1], axis=-1)\n",
    "y_pred_futures=scaler.inverse_transform(forecast_copied)[:, 0]"
   ]
  },
  {
   "cell_type": "code",
   "execution_count": 36,
   "metadata": {},
   "outputs": [],
   "source": [
    "dates=[]\n",
    "for i in forecast_date:\n",
    "    dates.append(i.date())"
   ]
  },
  {
   "cell_type": "code",
   "execution_count": 37,
   "metadata": {},
   "outputs": [],
   "source": [
    "df_forecast=pd.DataFrame({'Date': np.array(dates), 'Open': y_pred_futures})"
   ]
  },
  {
   "cell_type": "code",
   "execution_count": 38,
   "metadata": {},
   "outputs": [
    {
     "data": {
      "text/html": [
       "<div>\n",
       "<style scoped>\n",
       "    .dataframe tbody tr th:only-of-type {\n",
       "        vertical-align: middle;\n",
       "    }\n",
       "\n",
       "    .dataframe tbody tr th {\n",
       "        vertical-align: top;\n",
       "    }\n",
       "\n",
       "    .dataframe thead th {\n",
       "        text-align: right;\n",
       "    }\n",
       "</style>\n",
       "<table border=\"1\" class=\"dataframe\">\n",
       "  <thead>\n",
       "    <tr style=\"text-align: right;\">\n",
       "      <th></th>\n",
       "      <th>Date</th>\n",
       "      <th>Open</th>\n",
       "    </tr>\n",
       "  </thead>\n",
       "  <tbody>\n",
       "    <tr>\n",
       "      <th>0</th>\n",
       "      <td>2024-06-21</td>\n",
       "      <td>19.393311</td>\n",
       "    </tr>\n",
       "    <tr>\n",
       "      <th>1</th>\n",
       "      <td>2024-06-22</td>\n",
       "      <td>19.402695</td>\n",
       "    </tr>\n",
       "    <tr>\n",
       "      <th>2</th>\n",
       "      <td>2024-06-23</td>\n",
       "      <td>19.353024</td>\n",
       "    </tr>\n",
       "    <tr>\n",
       "      <th>3</th>\n",
       "      <td>2024-06-24</td>\n",
       "      <td>19.188511</td>\n",
       "    </tr>\n",
       "    <tr>\n",
       "      <th>4</th>\n",
       "      <td>2024-06-25</td>\n",
       "      <td>19.136889</td>\n",
       "    </tr>\n",
       "  </tbody>\n",
       "</table>\n",
       "</div>"
      ],
      "text/plain": [
       "         Date       Open\n",
       "0  2024-06-21  19.393311\n",
       "1  2024-06-22  19.402695\n",
       "2  2024-06-23  19.353024\n",
       "3  2024-06-24  19.188511\n",
       "4  2024-06-25  19.136889"
      ]
     },
     "execution_count": 38,
     "metadata": {},
     "output_type": "execute_result"
    }
   ],
   "source": [
    "df_forecast.head()"
   ]
  },
  {
   "cell_type": "code",
   "execution_count": 39,
   "metadata": {},
   "outputs": [
    {
     "name": "stderr",
     "output_type": "stream",
     "text": [
      "C:\\Users\\Hp\\AppData\\Local\\Temp\\ipykernel_2876\\1739352854.py:2: SettingWithCopyWarning: \n",
      "A value is trying to be set on a copy of a slice from a DataFrame.\n",
      "Try using .loc[row_indexer,col_indexer] = value instead\n",
      "\n",
      "See the caveats in the documentation: https://pandas.pydata.org/pandas-docs/stable/user_guide/indexing.html#returning-a-view-versus-a-copy\n",
      "  original['date']=pd.to_datetime(original['date'])\n"
     ]
    }
   ],
   "source": [
    "original=df[['date', 'open']]\n",
    "original['date']=pd.to_datetime(original['date'])\n",
    "original=original.loc[original['date']>='2024-02-01']"
   ]
  },
  {
   "cell_type": "code",
   "execution_count": 40,
   "metadata": {},
   "outputs": [
    {
     "data": {
      "text/plain": [
       "<Axes: xlabel='date', ylabel='open'>"
      ]
     },
     "execution_count": 40,
     "metadata": {},
     "output_type": "execute_result"
    },
    {
     "data": {
      "image/png": "[encoded data removed]",
      "text/plain": [
       "<Figure size 640x480 with 1 Axes>"
      ]
     },
     "metadata": {},
     "output_type": "display_data"
    }
   ],
   "source": [
    "sns.lineplot(x=original['date'], y= original['open'])\n",
    "sns.lineplot(x=df_forecast['Date'], y=df_forecast['Open'])"
   ]
  }
 ],
 "metadata": {
  "kernelspec": {
   "display_name": "AI_ML",
   "language": "python",
   "name": "python3"
  },
  "language_info": {
   "codemirror_mode": {
    "name": "ipython",
    "version": 3
   },
   "file_extension": ".py",
   "mimetype": "text/x-python",
   "name": "python",
   "nbconvert_exporter": "python",
   "pygments_lexer": "ipython3",
   "version": "3.9.18"
  }
 },
 "nbformat": 4,
 "nbformat_minor": 2
}
